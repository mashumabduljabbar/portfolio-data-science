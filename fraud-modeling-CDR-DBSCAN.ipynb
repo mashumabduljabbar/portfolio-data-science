{
  "nbformat": 4,
  "nbformat_minor": 0,
  "metadata": {
    "kernelspec": {
      "display_name": "Python 3",
      "language": "python",
      "name": "python3"
    },
    "language_info": {
      "codemirror_mode": {
        "name": "ipython",
        "version": 3
      },
      "file_extension": ".py",
      "mimetype": "text/x-python",
      "name": "python",
      "nbconvert_exporter": "python",
      "pygments_lexer": "ipython3",
      "version": "3.7.3"
    },
    "colab": {
      "name": "DBSCAN.ipynb",
      "provenance": [],
      "collapsed_sections": [],
      "include_colab_link": true
    }
  },
  "cells": [
    {
      "cell_type": "markdown",
      "metadata": {
        "id": "view-in-github",
        "colab_type": "text"
      },
      "source": [
        "<a href=\"https://colab.research.google.com/github/multimediary/portfolio-data-science/blob/main/fraud-modeling-CDR-DBSCAN.ipynb\" target=\"_parent\"><img src=\"https://colab.research.google.com/assets/colab-badge.svg\" alt=\"Open In Colab\"/></a>"
      ]
    },
    {
      "cell_type": "markdown",
      "metadata": {
        "id": "u4iY8H7VwvFa"
      },
      "source": [
        "**1. IMPORT LIBRARY**"
      ]
    },
    {
      "cell_type": "code",
      "metadata": {
        "id": "_h-zjM9KaxLi",
        "colab": {
          "base_uri": "https://localhost:8080/"
        },
        "outputId": "d24f5fb4-f5a7-45d8-ac63-e8c3cd0af5a4"
      },
      "source": [
        "# For ignore warning\n",
        "import warnings\n",
        "warnings.filterwarnings('ignore')\n",
        "warnings.simplefilter('ignore')\n",
        "\n",
        "# Library For code execution time\n",
        "!pip install ipython-autotime\n",
        "%load_ext autotime\n",
        "\n",
        "# Library For Preprocessing\n",
        "import pandas as pd\n",
        "import numpy as np\n",
        "from sklearn.preprocessing import MinMaxScaler, LabelEncoder, StandardScaler\n",
        "from sklearn.metrics import homogeneity_score, silhouette_score\n",
        "\n",
        "# Library For Clustering\n",
        "from sklearn.cluster import DBSCAN\n",
        "from sklearn import metrics\n",
        "\n",
        "# Library For Visualization\n",
        "import plotly\n",
        "import plotly.graph_objs as go\n",
        "from plotly.offline import download_plotlyjs, init_notebook_mode, plot, iplot\n",
        "from sklearn.decomposition import PCA\n",
        "import matplotlib.pyplot as plt\n",
        "\n",
        "# Library For Evaluation\n",
        "from sklearn.metrics import confusion_matrix, accuracy_score, precision_score, recall_score, f1_score"
      ],
      "execution_count": 1,
      "outputs": [
        {
          "output_type": "stream",
          "text": [
            "Requirement already satisfied: ipython-autotime in /usr/local/lib/python3.7/dist-packages (0.3.1)\n",
            "Requirement already satisfied: ipython in /usr/local/lib/python3.7/dist-packages (from ipython-autotime) (5.5.0)\n",
            "Requirement already satisfied: pickleshare in /usr/local/lib/python3.7/dist-packages (from ipython->ipython-autotime) (0.7.5)\n",
            "Requirement already satisfied: pexpect; sys_platform != \"win32\" in /usr/local/lib/python3.7/dist-packages (from ipython->ipython-autotime) (4.8.0)\n",
            "Requirement already satisfied: decorator in /usr/local/lib/python3.7/dist-packages (from ipython->ipython-autotime) (4.4.2)\n",
            "Requirement already satisfied: prompt-toolkit<2.0.0,>=1.0.4 in /usr/local/lib/python3.7/dist-packages (from ipython->ipython-autotime) (1.0.18)\n",
            "Requirement already satisfied: setuptools>=18.5 in /usr/local/lib/python3.7/dist-packages (from ipython->ipython-autotime) (54.2.0)\n",
            "Requirement already satisfied: traitlets>=4.2 in /usr/local/lib/python3.7/dist-packages (from ipython->ipython-autotime) (5.0.5)\n",
            "Requirement already satisfied: pygments in /usr/local/lib/python3.7/dist-packages (from ipython->ipython-autotime) (2.6.1)\n",
            "Requirement already satisfied: simplegeneric>0.8 in /usr/local/lib/python3.7/dist-packages (from ipython->ipython-autotime) (0.8.1)\n",
            "Requirement already satisfied: ptyprocess>=0.5 in /usr/local/lib/python3.7/dist-packages (from pexpect; sys_platform != \"win32\"->ipython->ipython-autotime) (0.7.0)\n",
            "Requirement already satisfied: wcwidth in /usr/local/lib/python3.7/dist-packages (from prompt-toolkit<2.0.0,>=1.0.4->ipython->ipython-autotime) (0.2.5)\n",
            "Requirement already satisfied: six>=1.9.0 in /usr/local/lib/python3.7/dist-packages (from prompt-toolkit<2.0.0,>=1.0.4->ipython->ipython-autotime) (1.15.0)\n",
            "Requirement already satisfied: ipython-genutils in /usr/local/lib/python3.7/dist-packages (from traitlets>=4.2->ipython->ipython-autotime) (0.2.0)\n",
            "time: 683 ms (started: 2021-04-11 05:04:21 +00:00)\n"
          ],
          "name": "stdout"
        }
      ]
    },
    {
      "cell_type": "markdown",
      "metadata": {
        "id": "x_XuR48GpqP9"
      },
      "source": [
        "**2. DATA GATHERING**"
      ]
    },
    {
      "cell_type": "code",
      "metadata": {
        "id": "FY8kYBHywWfO",
        "colab": {
          "base_uri": "https://localhost:8080/",
          "height": 212
        },
        "outputId": "a6038e9d-1e9f-4632-e7a9-16e1d03e9b56"
      },
      "source": [
        "# Read Dataset with Pandas from Git\n",
        "df = pd.read_csv(\"https://raw.githubusercontent.com/multimediary/dataset/master/cdrwithfraude.csv\")\n",
        "df.head()"
      ],
      "execution_count": 2,
      "outputs": [
        {
          "output_type": "execute_result",
          "data": {
            "text/html": [
              "<div>\n",
              "<style scoped>\n",
              "    .dataframe tbody tr th:only-of-type {\n",
              "        vertical-align: middle;\n",
              "    }\n",
              "\n",
              "    .dataframe tbody tr th {\n",
              "        vertical-align: top;\n",
              "    }\n",
              "\n",
              "    .dataframe thead th {\n",
              "        text-align: right;\n",
              "    }\n",
              "</style>\n",
              "<table border=\"1\" class=\"dataframe\">\n",
              "  <thead>\n",
              "    <tr style=\"text-align: right;\">\n",
              "      <th></th>\n",
              "      <th>starttime</th>\n",
              "      <th>stoptime</th>\n",
              "      <th>anumber</th>\n",
              "      <th>bnumber</th>\n",
              "      <th>duration</th>\n",
              "      <th>fee</th>\n",
              "      <th>destination</th>\n",
              "      <th>type</th>\n",
              "      <th>label</th>\n",
              "    </tr>\n",
              "  </thead>\n",
              "  <tbody>\n",
              "    <tr>\n",
              "      <th>0</th>\n",
              "      <td>2018-05-02 09:13:24</td>\n",
              "      <td>2018-05-02 09:20:38</td>\n",
              "      <td>778692960</td>\n",
              "      <td>1500200</td>\n",
              "      <td>434</td>\n",
              "      <td>6000</td>\n",
              "      <td>callcenter</td>\n",
              "      <td>Injapati</td>\n",
              "      <td>0</td>\n",
              "    </tr>\n",
              "    <tr>\n",
              "      <th>1</th>\n",
              "      <td>2018-05-18 16:49:19</td>\n",
              "      <td>2018-05-18 16:52:11</td>\n",
              "      <td>778692960</td>\n",
              "      <td>1500200</td>\n",
              "      <td>172</td>\n",
              "      <td>2250</td>\n",
              "      <td>callcenter</td>\n",
              "      <td>Injapati</td>\n",
              "      <td>0</td>\n",
              "    </tr>\n",
              "    <tr>\n",
              "      <th>2</th>\n",
              "      <td>2018-05-18 18:15:17</td>\n",
              "      <td>2018-05-18 18:18:20</td>\n",
              "      <td>778692960</td>\n",
              "      <td>1500200</td>\n",
              "      <td>183</td>\n",
              "      <td>3000</td>\n",
              "      <td>callcenter</td>\n",
              "      <td>Injapati</td>\n",
              "      <td>0</td>\n",
              "    </tr>\n",
              "    <tr>\n",
              "      <th>3</th>\n",
              "      <td>2018-05-31 08:52:46</td>\n",
              "      <td>2018-05-31 08:53:03</td>\n",
              "      <td>778692253</td>\n",
              "      <td>1500788</td>\n",
              "      <td>17</td>\n",
              "      <td>750</td>\n",
              "      <td>callcenter</td>\n",
              "      <td>Injapati</td>\n",
              "      <td>0</td>\n",
              "    </tr>\n",
              "    <tr>\n",
              "      <th>4</th>\n",
              "      <td>2018-05-31 08:53:10</td>\n",
              "      <td>2018-05-31 08:53:24</td>\n",
              "      <td>778692253</td>\n",
              "      <td>1500788</td>\n",
              "      <td>14</td>\n",
              "      <td>750</td>\n",
              "      <td>callcenter</td>\n",
              "      <td>Injapati</td>\n",
              "      <td>0</td>\n",
              "    </tr>\n",
              "  </tbody>\n",
              "</table>\n",
              "</div>"
            ],
            "text/plain": [
              "             starttime             stoptime  ...      type label\n",
              "0  2018-05-02 09:13:24  2018-05-02 09:20:38  ...  Injapati     0\n",
              "1  2018-05-18 16:49:19  2018-05-18 16:52:11  ...  Injapati     0\n",
              "2  2018-05-18 18:15:17  2018-05-18 18:18:20  ...  Injapati     0\n",
              "3  2018-05-31 08:52:46  2018-05-31 08:53:03  ...  Injapati     0\n",
              "4  2018-05-31 08:53:10  2018-05-31 08:53:24  ...  Injapati     0\n",
              "\n",
              "[5 rows x 9 columns]"
            ]
          },
          "metadata": {
            "tags": []
          },
          "execution_count": 2
        },
        {
          "output_type": "stream",
          "text": [
            "time: 293 ms (started: 2021-04-11 05:04:22 +00:00)\n"
          ],
          "name": "stdout"
        }
      ]
    },
    {
      "cell_type": "code",
      "metadata": {
        "id": "vj6eSmf5yOSR",
        "colab": {
          "base_uri": "https://localhost:8080/"
        },
        "outputId": "d294b6ad-41aa-444a-b8ce-6efbef62d416"
      },
      "source": [
        "# Show Dataset Description (Focus at Dtype)\n",
        "df.info()"
      ],
      "execution_count": 3,
      "outputs": [
        {
          "output_type": "stream",
          "text": [
            "<class 'pandas.core.frame.DataFrame'>\n",
            "RangeIndex: 11418 entries, 0 to 11417\n",
            "Data columns (total 9 columns):\n",
            " #   Column       Non-Null Count  Dtype \n",
            "---  ------       --------------  ----- \n",
            " 0   starttime    11418 non-null  object\n",
            " 1   stoptime     11418 non-null  object\n",
            " 2   anumber      11418 non-null  int64 \n",
            " 3   bnumber      11418 non-null  object\n",
            " 4   duration     11418 non-null  int64 \n",
            " 5   fee          11418 non-null  int64 \n",
            " 6   destination  11418 non-null  object\n",
            " 7   type         11418 non-null  object\n",
            " 8   label        11418 non-null  int64 \n",
            "dtypes: int64(4), object(5)\n",
            "memory usage: 803.0+ KB\n",
            "time: 14 ms (started: 2021-04-11 05:04:22 +00:00)\n"
          ],
          "name": "stdout"
        }
      ]
    },
    {
      "cell_type": "code",
      "metadata": {
        "id": "RXkGItcRIeeF",
        "outputId": "c727afd3-818e-42d6-8a99-35b0986a17fd",
        "colab": {
          "base_uri": "https://localhost:8080/",
          "height": 301
        }
      },
      "source": [
        "# Displays Dataframe Statistics (Focus at std)\n",
        "df.describe()"
      ],
      "execution_count": 4,
      "outputs": [
        {
          "output_type": "execute_result",
          "data": {
            "text/html": [
              "<div>\n",
              "<style scoped>\n",
              "    .dataframe tbody tr th:only-of-type {\n",
              "        vertical-align: middle;\n",
              "    }\n",
              "\n",
              "    .dataframe tbody tr th {\n",
              "        vertical-align: top;\n",
              "    }\n",
              "\n",
              "    .dataframe thead th {\n",
              "        text-align: right;\n",
              "    }\n",
              "</style>\n",
              "<table border=\"1\" class=\"dataframe\">\n",
              "  <thead>\n",
              "    <tr style=\"text-align: right;\">\n",
              "      <th></th>\n",
              "      <th>anumber</th>\n",
              "      <th>duration</th>\n",
              "      <th>fee</th>\n",
              "      <th>label</th>\n",
              "    </tr>\n",
              "  </thead>\n",
              "  <tbody>\n",
              "    <tr>\n",
              "      <th>count</th>\n",
              "      <td>1.141800e+04</td>\n",
              "      <td>11418.000000</td>\n",
              "      <td>1.141800e+04</td>\n",
              "      <td>11418.000000</td>\n",
              "    </tr>\n",
              "    <tr>\n",
              "      <th>mean</th>\n",
              "      <td>7.786475e+08</td>\n",
              "      <td>154.111841</td>\n",
              "      <td>1.215145e+04</td>\n",
              "      <td>0.034770</td>\n",
              "    </tr>\n",
              "    <tr>\n",
              "      <th>std</th>\n",
              "      <td>3.985148e+04</td>\n",
              "      <td>410.204092</td>\n",
              "      <td>4.131463e+04</td>\n",
              "      <td>0.183204</td>\n",
              "    </tr>\n",
              "    <tr>\n",
              "      <th>min</th>\n",
              "      <td>7.786101e+08</td>\n",
              "      <td>0.000000</td>\n",
              "      <td>4.300000e+01</td>\n",
              "      <td>0.000000</td>\n",
              "    </tr>\n",
              "    <tr>\n",
              "      <th>25%</th>\n",
              "      <td>7.786133e+08</td>\n",
              "      <td>24.000000</td>\n",
              "      <td>6.340000e+02</td>\n",
              "      <td>0.000000</td>\n",
              "    </tr>\n",
              "    <tr>\n",
              "      <th>50%</th>\n",
              "      <td>7.786134e+08</td>\n",
              "      <td>57.000000</td>\n",
              "      <td>2.614000e+03</td>\n",
              "      <td>0.000000</td>\n",
              "    </tr>\n",
              "    <tr>\n",
              "      <th>75%</th>\n",
              "      <td>7.786930e+08</td>\n",
              "      <td>143.000000</td>\n",
              "      <td>1.045400e+04</td>\n",
              "      <td>0.000000</td>\n",
              "    </tr>\n",
              "    <tr>\n",
              "      <th>max</th>\n",
              "      <td>7.786978e+08</td>\n",
              "      <td>17735.000000</td>\n",
              "      <td>1.567841e+06</td>\n",
              "      <td>1.000000</td>\n",
              "    </tr>\n",
              "  </tbody>\n",
              "</table>\n",
              "</div>"
            ],
            "text/plain": [
              "            anumber      duration           fee         label\n",
              "count  1.141800e+04  11418.000000  1.141800e+04  11418.000000\n",
              "mean   7.786475e+08    154.111841  1.215145e+04      0.034770\n",
              "std    3.985148e+04    410.204092  4.131463e+04      0.183204\n",
              "min    7.786101e+08      0.000000  4.300000e+01      0.000000\n",
              "25%    7.786133e+08     24.000000  6.340000e+02      0.000000\n",
              "50%    7.786134e+08     57.000000  2.614000e+03      0.000000\n",
              "75%    7.786930e+08    143.000000  1.045400e+04      0.000000\n",
              "max    7.786978e+08  17735.000000  1.567841e+06      1.000000"
            ]
          },
          "metadata": {
            "tags": []
          },
          "execution_count": 4
        },
        {
          "output_type": "stream",
          "text": [
            "time: 26.1 ms (started: 2021-04-11 05:04:22 +00:00)\n"
          ],
          "name": "stdout"
        }
      ]
    },
    {
      "cell_type": "code",
      "metadata": {
        "id": "ERzzPo6swj60",
        "colab": {
          "base_uri": "https://localhost:8080/"
        },
        "outputId": "cf80fd61-652a-4e95-dd0f-0931f0a0c4dc"
      },
      "source": [
        "# Show dataset shape\n",
        "df.shape"
      ],
      "execution_count": 5,
      "outputs": [
        {
          "output_type": "execute_result",
          "data": {
            "text/plain": [
              "(11418, 9)"
            ]
          },
          "metadata": {
            "tags": []
          },
          "execution_count": 5
        },
        {
          "output_type": "stream",
          "text": [
            "time: 3.51 ms (started: 2021-04-11 05:04:22 +00:00)\n"
          ],
          "name": "stdout"
        }
      ]
    },
    {
      "cell_type": "code",
      "metadata": {
        "id": "5NcmExGDwpe7",
        "colab": {
          "base_uri": "https://localhost:8080/"
        },
        "outputId": "7de0a7bb-5c8a-4b1e-9366-f7fc16577d7f"
      },
      "source": [
        "# Show the dataset labeled fraud (1) and non fraud (0)\n",
        "df['label'].value_counts()"
      ],
      "execution_count": 6,
      "outputs": [
        {
          "output_type": "execute_result",
          "data": {
            "text/plain": [
              "0    11021\n",
              "1      397\n",
              "Name: label, dtype: int64"
            ]
          },
          "metadata": {
            "tags": []
          },
          "execution_count": 6
        },
        {
          "output_type": "stream",
          "text": [
            "time: 6.63 ms (started: 2021-04-11 05:04:22 +00:00)\n"
          ],
          "name": "stdout"
        }
      ]
    },
    {
      "cell_type": "code",
      "metadata": {
        "id": "gdASqke5xCat",
        "colab": {
          "base_uri": "https://localhost:8080/"
        },
        "outputId": "4985748a-c9d7-4b63-e7c7-17edc907f9c3"
      },
      "source": [
        "# Show a comparison between the dataset labeled fraud and non-fraud\n",
        "print(df['label'].value_counts() / df['label'].shape[0])"
      ],
      "execution_count": 7,
      "outputs": [
        {
          "output_type": "stream",
          "text": [
            "0    0.96523\n",
            "1    0.03477\n",
            "Name: label, dtype: float64\n",
            "time: 11.1 ms (started: 2021-04-11 05:04:22 +00:00)\n"
          ],
          "name": "stdout"
        }
      ]
    },
    {
      "cell_type": "code",
      "metadata": {
        "id": "idKX9pCW01jm",
        "colab": {
          "base_uri": "https://localhost:8080/"
        },
        "outputId": "8a22667e-c376-40ed-c7e4-8da7774b4cde"
      },
      "source": [
        "# Check what types of calls are there\n",
        "df['type'].value_counts()"
      ],
      "execution_count": 8,
      "outputs": [
        {
          "output_type": "execute_result",
          "data": {
            "text/plain": [
              "SLJJ          7093\n",
              "SLI 001       4035\n",
              "Lokal          153\n",
              "SLI 007        102\n",
              "VoIP 01017      21\n",
              "Injapati        14\n",
              "Name: type, dtype: int64"
            ]
          },
          "metadata": {
            "tags": []
          },
          "execution_count": 8
        },
        {
          "output_type": "stream",
          "text": [
            "time: 7.68 ms (started: 2021-04-11 05:04:22 +00:00)\n"
          ],
          "name": "stdout"
        }
      ]
    },
    {
      "cell_type": "code",
      "metadata": {
        "id": "CLcq74ZVT67o",
        "colab": {
          "base_uri": "https://localhost:8080/"
        },
        "outputId": "a3fcf95f-bc9d-479d-c996-c48a6c10ca4e"
      },
      "source": [
        "# Find null in the dataset\n",
        "df.isnull().sum().max()"
      ],
      "execution_count": 9,
      "outputs": [
        {
          "output_type": "execute_result",
          "data": {
            "text/plain": [
              "0"
            ]
          },
          "metadata": {
            "tags": []
          },
          "execution_count": 9
        },
        {
          "output_type": "stream",
          "text": [
            "time: 13.9 ms (started: 2021-04-11 05:04:22 +00:00)\n"
          ],
          "name": "stdout"
        }
      ]
    },
    {
      "cell_type": "markdown",
      "metadata": {
        "id": "fr55APKM1y_2"
      },
      "source": [
        "**3. DATA PREPARATION**"
      ]
    },
    {
      "cell_type": "code",
      "metadata": {
        "id": "BM8j8Rkb2cI9",
        "colab": {
          "base_uri": "https://localhost:8080/"
        },
        "outputId": "94942a7d-fca2-41f7-8a42-a47ce34dd710"
      },
      "source": [
        "# Drop unneeded attributes, namely startime and stoptime, destination and label\n",
        "dataset = df.drop(['starttime','stoptime','destination','label'], axis = 1)\n",
        "label = df.label"
      ],
      "execution_count": 10,
      "outputs": [
        {
          "output_type": "stream",
          "text": [
            "time: 5.11 ms (started: 2021-04-11 05:04:22 +00:00)\n"
          ],
          "name": "stdout"
        }
      ]
    },
    {
      "cell_type": "code",
      "metadata": {
        "id": "wNs92sk74z5l",
        "colab": {
          "base_uri": "https://localhost:8080/"
        },
        "outputId": "922f241b-9293-4b22-e5a1-15f0c5d4cf19"
      },
      "source": [
        "# Encoding Dataset Function\n",
        "enc = LabelEncoder()\n",
        "def transforming(input, j):\n",
        "    input.iloc[:,j] = enc.fit_transform(input.iloc[:,j])\n",
        "\n",
        "# Change data in the form of objects / strings into numbers\n",
        "for i in range(0,5):\n",
        "    if(i!=2 or i!=3):\n",
        "        transforming(dataset, i)"
      ],
      "execution_count": 11,
      "outputs": [
        {
          "output_type": "stream",
          "text": [
            "time: 21.9 ms (started: 2021-04-11 05:04:22 +00:00)\n"
          ],
          "name": "stdout"
        }
      ]
    },
    {
      "cell_type": "code",
      "metadata": {
        "id": "ucktkXe951aG",
        "colab": {
          "base_uri": "https://localhost:8080/",
          "height": 212
        },
        "outputId": "cf2caad7-41f1-4e20-c5e9-176c911c204a"
      },
      "source": [
        "# Show Dataset \n",
        "dataset.head()"
      ],
      "execution_count": 12,
      "outputs": [
        {
          "output_type": "execute_result",
          "data": {
            "text/html": [
              "<div>\n",
              "<style scoped>\n",
              "    .dataframe tbody tr th:only-of-type {\n",
              "        vertical-align: middle;\n",
              "    }\n",
              "\n",
              "    .dataframe tbody tr th {\n",
              "        vertical-align: top;\n",
              "    }\n",
              "\n",
              "    .dataframe thead th {\n",
              "        text-align: right;\n",
              "    }\n",
              "</style>\n",
              "<table border=\"1\" class=\"dataframe\">\n",
              "  <thead>\n",
              "    <tr style=\"text-align: right;\">\n",
              "      <th></th>\n",
              "      <th>anumber</th>\n",
              "      <th>bnumber</th>\n",
              "      <th>duration</th>\n",
              "      <th>fee</th>\n",
              "      <th>type</th>\n",
              "    </tr>\n",
              "  </thead>\n",
              "  <tbody>\n",
              "    <tr>\n",
              "      <th>0</th>\n",
              "      <td>265</td>\n",
              "      <td>3236</td>\n",
              "      <td>431</td>\n",
              "      <td>447</td>\n",
              "      <td>0</td>\n",
              "    </tr>\n",
              "    <tr>\n",
              "      <th>1</th>\n",
              "      <td>265</td>\n",
              "      <td>3236</td>\n",
              "      <td>172</td>\n",
              "      <td>238</td>\n",
              "      <td>0</td>\n",
              "    </tr>\n",
              "    <tr>\n",
              "      <th>2</th>\n",
              "      <td>265</td>\n",
              "      <td>3236</td>\n",
              "      <td>183</td>\n",
              "      <td>294</td>\n",
              "      <td>0</td>\n",
              "    </tr>\n",
              "    <tr>\n",
              "      <th>3</th>\n",
              "      <td>225</td>\n",
              "      <td>3237</td>\n",
              "      <td>17</td>\n",
              "      <td>96</td>\n",
              "      <td>0</td>\n",
              "    </tr>\n",
              "    <tr>\n",
              "      <th>4</th>\n",
              "      <td>225</td>\n",
              "      <td>3237</td>\n",
              "      <td>14</td>\n",
              "      <td>96</td>\n",
              "      <td>0</td>\n",
              "    </tr>\n",
              "  </tbody>\n",
              "</table>\n",
              "</div>"
            ],
            "text/plain": [
              "   anumber  bnumber  duration  fee  type\n",
              "0      265     3236       431  447     0\n",
              "1      265     3236       172  238     0\n",
              "2      265     3236       183  294     0\n",
              "3      225     3237        17   96     0\n",
              "4      225     3237        14   96     0"
            ]
          },
          "metadata": {
            "tags": []
          },
          "execution_count": 12
        },
        {
          "output_type": "stream",
          "text": [
            "time: 13.7 ms (started: 2021-04-11 05:04:22 +00:00)\n"
          ],
          "name": "stdout"
        }
      ]
    },
    {
      "cell_type": "code",
      "metadata": {
        "id": "VFwFuKZB59bd",
        "colab": {
          "base_uri": "https://localhost:8080/"
        },
        "outputId": "b7e6a68d-bb95-48ab-9969-ccc4d4657923"
      },
      "source": [
        "# Transform data with Scaler to perform data normalization so that the data used does not have large deviations.\n",
        "features = ['anumber', 'bnumber', 'duration', 'fee', 'type']\n",
        "Final_Dataset = dataset.loc[:, features].values\n",
        "Final_Dataset = StandardScaler().fit_transform(Final_Dataset)\n",
        "Final_Dataset = pd.DataFrame(data = Final_Dataset, columns = features)"
      ],
      "execution_count": 13,
      "outputs": [
        {
          "output_type": "stream",
          "text": [
            "time: 8.6 ms (started: 2021-04-11 05:04:22 +00:00)\n"
          ],
          "name": "stdout"
        }
      ]
    },
    {
      "cell_type": "code",
      "metadata": {
        "id": "yHUS7rgl6c53",
        "colab": {
          "base_uri": "https://localhost:8080/",
          "height": 212
        },
        "outputId": "12d194c2-d5ac-4da3-c988-82b84591f827"
      },
      "source": [
        "# Show the Final Dataset \n",
        "Final_Dataset.head()"
      ],
      "execution_count": 25,
      "outputs": [
        {
          "output_type": "execute_result",
          "data": {
            "text/html": [
              "<div>\n",
              "<style scoped>\n",
              "    .dataframe tbody tr th:only-of-type {\n",
              "        vertical-align: middle;\n",
              "    }\n",
              "\n",
              "    .dataframe tbody tr th {\n",
              "        vertical-align: top;\n",
              "    }\n",
              "\n",
              "    .dataframe thead th {\n",
              "        text-align: right;\n",
              "    }\n",
              "</style>\n",
              "<table border=\"1\" class=\"dataframe\">\n",
              "  <thead>\n",
              "    <tr style=\"text-align: right;\">\n",
              "      <th></th>\n",
              "      <th>anumber</th>\n",
              "      <th>bnumber</th>\n",
              "      <th>duration</th>\n",
              "      <th>fee</th>\n",
              "      <th>type</th>\n",
              "    </tr>\n",
              "  </thead>\n",
              "  <tbody>\n",
              "    <tr>\n",
              "      <th>0</th>\n",
              "      <td>1.097724</td>\n",
              "      <td>1.802827</td>\n",
              "      <td>1.697394</td>\n",
              "      <td>0.358047</td>\n",
              "      <td>-3.259819</td>\n",
              "    </tr>\n",
              "    <tr>\n",
              "      <th>1</th>\n",
              "      <td>1.097724</td>\n",
              "      <td>1.802827</td>\n",
              "      <td>0.250598</td>\n",
              "      <td>-0.376284</td>\n",
              "      <td>-3.259819</td>\n",
              "    </tr>\n",
              "    <tr>\n",
              "      <th>2</th>\n",
              "      <td>1.097724</td>\n",
              "      <td>1.802827</td>\n",
              "      <td>0.312045</td>\n",
              "      <td>-0.179525</td>\n",
              "      <td>-3.259819</td>\n",
              "    </tr>\n",
              "    <tr>\n",
              "      <th>3</th>\n",
              "      <td>0.540323</td>\n",
              "      <td>1.803923</td>\n",
              "      <td>-0.615244</td>\n",
              "      <td>-0.875207</td>\n",
              "      <td>-3.259819</td>\n",
              "    </tr>\n",
              "    <tr>\n",
              "      <th>4</th>\n",
              "      <td>0.540323</td>\n",
              "      <td>1.803923</td>\n",
              "      <td>-0.632003</td>\n",
              "      <td>-0.875207</td>\n",
              "      <td>-3.259819</td>\n",
              "    </tr>\n",
              "  </tbody>\n",
              "</table>\n",
              "</div>"
            ],
            "text/plain": [
              "    anumber   bnumber  duration       fee      type\n",
              "0  1.097724  1.802827  1.697394  0.358047 -3.259819\n",
              "1  1.097724  1.802827  0.250598 -0.376284 -3.259819\n",
              "2  1.097724  1.802827  0.312045 -0.179525 -3.259819\n",
              "3  0.540323  1.803923 -0.615244 -0.875207 -3.259819\n",
              "4  0.540323  1.803923 -0.632003 -0.875207 -3.259819"
            ]
          },
          "metadata": {
            "tags": []
          },
          "execution_count": 25
        },
        {
          "output_type": "stream",
          "text": [
            "time: 20.5 ms (started: 2021-04-11 05:05:34 +00:00)\n"
          ],
          "name": "stdout"
        }
      ]
    },
    {
      "cell_type": "code",
      "metadata": {
        "id": "uJnlos1T-IXO",
        "colab": {
          "base_uri": "https://localhost:8080/"
        },
        "outputId": "4360f8b8-432f-4ff4-935b-641bef1611ee"
      },
      "source": [
        "# Show Final Dataset Description (Focus at Dtype)\n",
        "Final_Dataset.info()"
      ],
      "execution_count": 15,
      "outputs": [
        {
          "output_type": "stream",
          "text": [
            "<class 'pandas.core.frame.DataFrame'>\n",
            "RangeIndex: 11418 entries, 0 to 11417\n",
            "Data columns (total 5 columns):\n",
            " #   Column    Non-Null Count  Dtype  \n",
            "---  ------    --------------  -----  \n",
            " 0   anumber   11418 non-null  float64\n",
            " 1   bnumber   11418 non-null  float64\n",
            " 2   duration  11418 non-null  float64\n",
            " 3   fee       11418 non-null  float64\n",
            " 4   type      11418 non-null  float64\n",
            "dtypes: float64(5)\n",
            "memory usage: 446.1 KB\n",
            "time: 9.99 ms (started: 2021-04-11 05:04:22 +00:00)\n"
          ],
          "name": "stdout"
        }
      ]
    },
    {
      "cell_type": "code",
      "metadata": {
        "id": "jz-e6ybYUdjz",
        "colab": {
          "base_uri": "https://localhost:8080/",
          "height": 301
        },
        "outputId": "ab821adf-7d80-4276-d318-e06e410a2381"
      },
      "source": [
        "# Displays Final_Dataset Statistics (Focus at std)\n",
        "Final_Dataset.describe()"
      ],
      "execution_count": 16,
      "outputs": [
        {
          "output_type": "execute_result",
          "data": {
            "text/html": [
              "<div>\n",
              "<style scoped>\n",
              "    .dataframe tbody tr th:only-of-type {\n",
              "        vertical-align: middle;\n",
              "    }\n",
              "\n",
              "    .dataframe tbody tr th {\n",
              "        vertical-align: top;\n",
              "    }\n",
              "\n",
              "    .dataframe thead th {\n",
              "        text-align: right;\n",
              "    }\n",
              "</style>\n",
              "<table border=\"1\" class=\"dataframe\">\n",
              "  <thead>\n",
              "    <tr style=\"text-align: right;\">\n",
              "      <th></th>\n",
              "      <th>anumber</th>\n",
              "      <th>bnumber</th>\n",
              "      <th>duration</th>\n",
              "      <th>fee</th>\n",
              "      <th>type</th>\n",
              "    </tr>\n",
              "  </thead>\n",
              "  <tbody>\n",
              "    <tr>\n",
              "      <th>count</th>\n",
              "      <td>1.141800e+04</td>\n",
              "      <td>1.141800e+04</td>\n",
              "      <td>1.141800e+04</td>\n",
              "      <td>1.141800e+04</td>\n",
              "      <td>1.141800e+04</td>\n",
              "    </tr>\n",
              "    <tr>\n",
              "      <th>mean</th>\n",
              "      <td>-2.250511e-15</td>\n",
              "      <td>1.878959e-15</td>\n",
              "      <td>-6.163206e-16</td>\n",
              "      <td>-7.016049e-15</td>\n",
              "      <td>3.629611e-14</td>\n",
              "    </tr>\n",
              "    <tr>\n",
              "      <th>std</th>\n",
              "      <td>1.000044e+00</td>\n",
              "      <td>1.000044e+00</td>\n",
              "      <td>1.000044e+00</td>\n",
              "      <td>1.000044e+00</td>\n",
              "      <td>1.000044e+00</td>\n",
              "    </tr>\n",
              "    <tr>\n",
              "      <th>min</th>\n",
              "      <td>-2.595056e+00</td>\n",
              "      <td>-1.743395e+00</td>\n",
              "      <td>-7.102079e-01</td>\n",
              "      <td>-1.212507e+00</td>\n",
              "      <td>-3.259819e+00</td>\n",
              "    </tr>\n",
              "    <tr>\n",
              "      <th>25%</th>\n",
              "      <td>-5.048034e-01</td>\n",
              "      <td>-8.346482e-01</td>\n",
              "      <td>-5.761419e-01</td>\n",
              "      <td>-9.314236e-01</td>\n",
              "      <td>-1.248220e+00</td>\n",
              "    </tr>\n",
              "    <tr>\n",
              "      <th>50%</th>\n",
              "      <td>-2.121680e-01</td>\n",
              "      <td>-5.083002e-02</td>\n",
              "      <td>-3.918012e-01</td>\n",
              "      <td>-2.849318e-01</td>\n",
              "      <td>7.633788e-01</td>\n",
              "    </tr>\n",
              "    <tr>\n",
              "      <th>75%</th>\n",
              "      <td>1.055919e+00</td>\n",
              "      <td>8.822999e-01</td>\n",
              "      <td>8.860188e-02</td>\n",
              "      <td>7.831852e-01</td>\n",
              "      <td>7.633788e-01</td>\n",
              "    </tr>\n",
              "    <tr>\n",
              "      <th>max</th>\n",
              "      <td>1.515775e+00</td>\n",
              "      <td>1.806115e+00</td>\n",
              "      <td>4.814428e+00</td>\n",
              "      <td>2.736715e+00</td>\n",
              "      <td>1.769178e+00</td>\n",
              "    </tr>\n",
              "  </tbody>\n",
              "</table>\n",
              "</div>"
            ],
            "text/plain": [
              "            anumber       bnumber      duration           fee          type\n",
              "count  1.141800e+04  1.141800e+04  1.141800e+04  1.141800e+04  1.141800e+04\n",
              "mean  -2.250511e-15  1.878959e-15 -6.163206e-16 -7.016049e-15  3.629611e-14\n",
              "std    1.000044e+00  1.000044e+00  1.000044e+00  1.000044e+00  1.000044e+00\n",
              "min   -2.595056e+00 -1.743395e+00 -7.102079e-01 -1.212507e+00 -3.259819e+00\n",
              "25%   -5.048034e-01 -8.346482e-01 -5.761419e-01 -9.314236e-01 -1.248220e+00\n",
              "50%   -2.121680e-01 -5.083002e-02 -3.918012e-01 -2.849318e-01  7.633788e-01\n",
              "75%    1.055919e+00  8.822999e-01  8.860188e-02  7.831852e-01  7.633788e-01\n",
              "max    1.515775e+00  1.806115e+00  4.814428e+00  2.736715e+00  1.769178e+00"
            ]
          },
          "metadata": {
            "tags": []
          },
          "execution_count": 16
        },
        {
          "output_type": "stream",
          "text": [
            "time: 32.8 ms (started: 2021-04-11 05:04:22 +00:00)\n"
          ],
          "name": "stdout"
        }
      ]
    },
    {
      "cell_type": "code",
      "metadata": {
        "id": "CvTNvUuTxSK-",
        "colab": {
          "base_uri": "https://localhost:8080/"
        },
        "outputId": "cf813641-a9a4-489a-8d59-3606720293de"
      },
      "source": [
        "# Persiapan Dataset\n",
        "X = Final_Dataset.to_numpy()\n",
        "y = df.iloc[:, 8] # Label Fraud\n",
        "y = np.array(y).astype(np.float)"
      ],
      "execution_count": 17,
      "outputs": [
        {
          "output_type": "stream",
          "text": [
            "time: 2.6 ms (started: 2021-04-11 05:04:22 +00:00)\n"
          ],
          "name": "stdout"
        }
      ]
    },
    {
      "cell_type": "code",
      "metadata": {
        "id": "6f2UMB4_ARl6",
        "colab": {
          "base_uri": "https://localhost:8080/"
        },
        "outputId": "87c3541b-cdc1-469e-8498-78370d2be098"
      },
      "source": [
        "X"
      ],
      "execution_count": 18,
      "outputs": [
        {
          "output_type": "execute_result",
          "data": {
            "text/plain": [
              "array([[ 1.09772399,  1.80282727,  1.6973936 ,  0.35804655, -3.25981941],\n",
              "       [ 1.09772399,  1.80282727,  0.25059827, -0.37628386, -3.25981941],\n",
              "       [ 1.09772399,  1.80282727,  0.31204517, -0.17952547, -3.25981941],\n",
              "       ...,\n",
              "       [ 1.09772399,  1.78967688,  0.64162403,  1.18372906,  1.76917832],\n",
              "       [ 1.09772399,  1.79077274, -0.69344965, -0.05303794,  1.76917832],\n",
              "       [ 1.09772399,  1.79077274, -0.67110532, -0.05303794,  1.76917832]])"
            ]
          },
          "metadata": {
            "tags": []
          },
          "execution_count": 18
        },
        {
          "output_type": "stream",
          "text": [
            "time: 5.09 ms (started: 2021-04-11 05:04:22 +00:00)\n"
          ],
          "name": "stdout"
        }
      ]
    },
    {
      "cell_type": "code",
      "metadata": {
        "id": "T3KEMFflAVkb",
        "colab": {
          "base_uri": "https://localhost:8080/"
        },
        "outputId": "e702d6c5-2020-4a91-8172-0d399d7a7a7a"
      },
      "source": [
        "y"
      ],
      "execution_count": 19,
      "outputs": [
        {
          "output_type": "execute_result",
          "data": {
            "text/plain": [
              "array([0., 0., 0., ..., 0., 0., 0.])"
            ]
          },
          "metadata": {
            "tags": []
          },
          "execution_count": 19
        },
        {
          "output_type": "stream",
          "text": [
            "time: 3.62 ms (started: 2021-04-11 05:04:22 +00:00)\n"
          ],
          "name": "stdout"
        }
      ]
    },
    {
      "cell_type": "markdown",
      "metadata": {
        "id": "l0kFRGc32Qyq"
      },
      "source": [
        "**4. DATA MODELING WITH DBSCAN**\n"
      ]
    },
    {
      "cell_type": "markdown",
      "metadata": {
        "id": "kCf3O8JdcaQt"
      },
      "source": [
        "Density-based spatial clustering of applications with noise (DBSCAN) is a well-known data clustering algorithm that is commonly used in data mining and machine learning. Based on a set of points (let’s think in a bidimensional space as exemplified in the figure), DBSCAN groups together points that are close to each other based on a distance measurement (usually Euclidean distance) and a minimum number of points. It also marks as outliers the points that are in low-density regions. (Towards Data Science, 2017)"
      ]
    },
    {
      "cell_type": "code",
      "metadata": {
        "id": "jeqfsqph0aea",
        "colab": {
          "base_uri": "https://localhost:8080/"
        },
        "outputId": "3e47c9b7-c82e-4aa1-c996-2b9c8b6406d0"
      },
      "source": [
        "# DBSCAN Parameters\n",
        "dbscan  = DBSCAN(eps=1.67, min_samples=4, n_jobs=-1).fit(X)\n",
        "# Obtain the predicted labels and calculate number of clusters\n",
        "pred_labels = dbscan.labels_"
      ],
      "execution_count": 20,
      "outputs": [
        {
          "output_type": "stream",
          "text": [
            "time: 1.48 s (started: 2021-04-11 05:04:22 +00:00)\n"
          ],
          "name": "stdout"
        }
      ]
    },
    {
      "cell_type": "code",
      "metadata": {
        "id": "cR2t4fA-Rbtn",
        "colab": {
          "base_uri": "https://localhost:8080/"
        },
        "outputId": "b3c23668-72ae-4d62-8ded-22fa31ff3e1e"
      },
      "source": [
        "# Result of labeling by DBSCAN\n",
        "print(set(pred_labels))"
      ],
      "execution_count": 21,
      "outputs": [
        {
          "output_type": "stream",
          "text": [
            "{0, 1, 2, 3}\n",
            "time: 4.71 ms (started: 2021-04-11 05:04:24 +00:00)\n"
          ],
          "name": "stdout"
        }
      ]
    },
    {
      "cell_type": "code",
      "metadata": {
        "id": "MGaiSbffQOLJ",
        "colab": {
          "base_uri": "https://localhost:8080/"
        },
        "outputId": "7ac0caaf-e302-446e-f70c-12105d44dcea"
      },
      "source": [
        "# Number of Clusters\n",
        "n_clusters = len(set(pred_labels)) - (1 if -1 in pred_labels else 0)\n",
        "# Print performance metrics for DBscan\n",
        "print(f'Estimated number of clusters: {n_clusters}')\n",
        "print(f'Silhouette Coefficient: {silhouette_score(X, pred_labels):0.3f}')"
      ],
      "execution_count": 22,
      "outputs": [
        {
          "output_type": "stream",
          "text": [
            "Estimated number of clusters: 4\n",
            "Silhouette Coefficient: 0.170\n",
            "time: 2.81 s (started: 2021-04-11 05:04:24 +00:00)\n"
          ],
          "name": "stdout"
        }
      ]
    },
    {
      "cell_type": "code",
      "metadata": {
        "id": "PjISXY7BHpgc",
        "colab": {
          "base_uri": "https://localhost:8080/"
        },
        "outputId": "d8ac02a0-be87-43f6-85cd-ec68c7e8c0c2"
      },
      "source": [
        "# Duplicate Final Dataset and Add Column Labels DBSCAN\n",
        "Final_Dataset_copy = Final_Dataset.copy()\n",
        "Final_Dataset_copy['labels_dbscan'] = pred_labels"
      ],
      "execution_count": 36,
      "outputs": [
        {
          "output_type": "stream",
          "text": [
            "time: 3.13 ms (started: 2021-04-11 05:11:45 +00:00)\n"
          ],
          "name": "stdout"
        }
      ]
    },
    {
      "cell_type": "code",
      "metadata": {
        "id": "HJlh-pJZHyH4",
        "colab": {
          "base_uri": "https://localhost:8080/",
          "height": 212
        },
        "outputId": "4631c247-c988-4015-a7f0-a08d74bcc031"
      },
      "source": [
        "# Show Final Dataset Copy plus Labels DBSCAN \n",
        "Final_Dataset_copy.head()"
      ],
      "execution_count": 39,
      "outputs": [
        {
          "output_type": "execute_result",
          "data": {
            "text/html": [
              "<div>\n",
              "<style scoped>\n",
              "    .dataframe tbody tr th:only-of-type {\n",
              "        vertical-align: middle;\n",
              "    }\n",
              "\n",
              "    .dataframe tbody tr th {\n",
              "        vertical-align: top;\n",
              "    }\n",
              "\n",
              "    .dataframe thead th {\n",
              "        text-align: right;\n",
              "    }\n",
              "</style>\n",
              "<table border=\"1\" class=\"dataframe\">\n",
              "  <thead>\n",
              "    <tr style=\"text-align: right;\">\n",
              "      <th></th>\n",
              "      <th>anumber</th>\n",
              "      <th>bnumber</th>\n",
              "      <th>duration</th>\n",
              "      <th>fee</th>\n",
              "      <th>type</th>\n",
              "      <th>labels_dbscan</th>\n",
              "    </tr>\n",
              "  </thead>\n",
              "  <tbody>\n",
              "    <tr>\n",
              "      <th>0</th>\n",
              "      <td>1.097724</td>\n",
              "      <td>1.802827</td>\n",
              "      <td>1.697394</td>\n",
              "      <td>0.358047</td>\n",
              "      <td>-3.259819</td>\n",
              "      <td>0</td>\n",
              "    </tr>\n",
              "    <tr>\n",
              "      <th>1</th>\n",
              "      <td>1.097724</td>\n",
              "      <td>1.802827</td>\n",
              "      <td>0.250598</td>\n",
              "      <td>-0.376284</td>\n",
              "      <td>-3.259819</td>\n",
              "      <td>0</td>\n",
              "    </tr>\n",
              "    <tr>\n",
              "      <th>2</th>\n",
              "      <td>1.097724</td>\n",
              "      <td>1.802827</td>\n",
              "      <td>0.312045</td>\n",
              "      <td>-0.179525</td>\n",
              "      <td>-3.259819</td>\n",
              "      <td>0</td>\n",
              "    </tr>\n",
              "    <tr>\n",
              "      <th>3</th>\n",
              "      <td>0.540323</td>\n",
              "      <td>1.803923</td>\n",
              "      <td>-0.615244</td>\n",
              "      <td>-0.875207</td>\n",
              "      <td>-3.259819</td>\n",
              "      <td>0</td>\n",
              "    </tr>\n",
              "    <tr>\n",
              "      <th>4</th>\n",
              "      <td>0.540323</td>\n",
              "      <td>1.803923</td>\n",
              "      <td>-0.632003</td>\n",
              "      <td>-0.875207</td>\n",
              "      <td>-3.259819</td>\n",
              "      <td>0</td>\n",
              "    </tr>\n",
              "  </tbody>\n",
              "</table>\n",
              "</div>"
            ],
            "text/plain": [
              "    anumber   bnumber  duration       fee      type  labels_dbscan\n",
              "0  1.097724  1.802827  1.697394  0.358047 -3.259819              0\n",
              "1  1.097724  1.802827  0.250598 -0.376284 -3.259819              0\n",
              "2  1.097724  1.802827  0.312045 -0.179525 -3.259819              0\n",
              "3  0.540323  1.803923 -0.615244 -0.875207 -3.259819              0\n",
              "4  0.540323  1.803923 -0.632003 -0.875207 -3.259819              0"
            ]
          },
          "metadata": {
            "tags": []
          },
          "execution_count": 39
        },
        {
          "output_type": "stream",
          "text": [
            "time: 19.7 ms (started: 2021-04-11 05:13:49 +00:00)\n"
          ],
          "name": "stdout"
        }
      ]
    },
    {
      "cell_type": "code",
      "metadata": {
        "id": "L79UaQtbI0aQ",
        "colab": {
          "base_uri": "https://localhost:8080/"
        },
        "outputId": "0dd36f29-2ed8-482e-eb27-9704e1a0fcb0"
      },
      "source": [
        "# Count Labels\n",
        "Final_Dataset_copy['labels_dbscan'].value_counts().sort_index()"
      ],
      "execution_count": 44,
      "outputs": [
        {
          "output_type": "execute_result",
          "data": {
            "text/plain": [
              "0       11\n",
              "1      156\n",
              "2    11230\n",
              "3       21\n",
              "Name: labels_dbscan, dtype: int64"
            ]
          },
          "metadata": {
            "tags": []
          },
          "execution_count": 44
        },
        {
          "output_type": "stream",
          "text": [
            "time: 10.4 ms (started: 2021-04-11 05:36:36 +00:00)\n"
          ],
          "name": "stdout"
        }
      ]
    },
    {
      "cell_type": "code",
      "metadata": {
        "id": "xDNvDluQ-nN1",
        "colab": {
          "base_uri": "https://localhost:8080/"
        },
        "outputId": "2a9786f7-126c-4ad9-aaaf-349704ddd1ee"
      },
      "source": [
        "# Sort the number of cluster samples and take the top 3 smallest clusters\n",
        "smallest_clusters = np.argsort(counts)[:3]\n",
        "\n",
        "# Print the results \n",
        "print(f'The smallest clusters are clusters: {smallest_clusters}')"
      ],
      "execution_count": 47,
      "outputs": [
        {
          "output_type": "stream",
          "text": [
            "The smallest clusters are clusters: [0 3 1]\n",
            "time: 8.27 ms (started: 2021-04-11 05:37:20 +00:00)\n"
          ],
          "name": "stdout"
        }
      ]
    },
    {
      "cell_type": "code",
      "metadata": {
        "id": "UuRc3E0K_TZ3",
        "colab": {
          "base_uri": "https://localhost:8080/"
        },
        "outputId": "18031f1e-d086-49b5-bb79-d3e916e2709c"
      },
      "source": [
        "# Print the counts of the smallest clusters only\n",
        "print(f'Their counts are: {counts[smallest_clusters]}')"
      ],
      "execution_count": 48,
      "outputs": [
        {
          "output_type": "stream",
          "text": [
            "Their counts are: [ 11  21 156]\n",
            "time: 1.69 ms (started: 2021-04-11 05:37:40 +00:00)\n"
          ],
          "name": "stdout"
        }
      ]
    },
    {
      "cell_type": "code",
      "metadata": {
        "id": "cIbadKip_h8f",
        "colab": {
          "base_uri": "https://localhost:8080/"
        },
        "outputId": "2ef8ed86-7791-4404-b2c7-94433c6364f3"
      },
      "source": [
        "# Create a condition flagging fraud for the smallest clusters \n",
        "# When label 0, 3, or 1 then change into 1 (Fraud), else change into 0 (Non Fraud)\n",
        "Final_Dataset_copy['labels_dbscan'] = np.where((Final_Dataset_copy['labels_dbscan'].isin([0, 3, 1])), 1 , 0)"
      ],
      "execution_count": 49,
      "outputs": [
        {
          "output_type": "stream",
          "text": [
            "time: 3.75 ms (started: 2021-04-11 05:43:14 +00:00)\n"
          ],
          "name": "stdout"
        }
      ]
    },
    {
      "cell_type": "code",
      "metadata": {
        "id": "v3GuT2s9IVV-",
        "colab": {
          "base_uri": "https://localhost:8080/",
          "height": 418
        },
        "outputId": "fe9cd554-c109-43d7-ed26-ae9f0e2e09e2"
      },
      "source": [
        "#Show Final_Dataset_copy with Final labels_dbscan \n",
        "Final_Dataset_copy"
      ],
      "execution_count": 51,
      "outputs": [
        {
          "output_type": "execute_result",
          "data": {
            "text/html": [
              "<div>\n",
              "<style scoped>\n",
              "    .dataframe tbody tr th:only-of-type {\n",
              "        vertical-align: middle;\n",
              "    }\n",
              "\n",
              "    .dataframe tbody tr th {\n",
              "        vertical-align: top;\n",
              "    }\n",
              "\n",
              "    .dataframe thead th {\n",
              "        text-align: right;\n",
              "    }\n",
              "</style>\n",
              "<table border=\"1\" class=\"dataframe\">\n",
              "  <thead>\n",
              "    <tr style=\"text-align: right;\">\n",
              "      <th></th>\n",
              "      <th>anumber</th>\n",
              "      <th>bnumber</th>\n",
              "      <th>duration</th>\n",
              "      <th>fee</th>\n",
              "      <th>type</th>\n",
              "      <th>labels_dbscan</th>\n",
              "    </tr>\n",
              "  </thead>\n",
              "  <tbody>\n",
              "    <tr>\n",
              "      <th>0</th>\n",
              "      <td>1.097724</td>\n",
              "      <td>1.802827</td>\n",
              "      <td>1.697394</td>\n",
              "      <td>0.358047</td>\n",
              "      <td>-3.259819</td>\n",
              "      <td>1</td>\n",
              "    </tr>\n",
              "    <tr>\n",
              "      <th>1</th>\n",
              "      <td>1.097724</td>\n",
              "      <td>1.802827</td>\n",
              "      <td>0.250598</td>\n",
              "      <td>-0.376284</td>\n",
              "      <td>-3.259819</td>\n",
              "      <td>1</td>\n",
              "    </tr>\n",
              "    <tr>\n",
              "      <th>2</th>\n",
              "      <td>1.097724</td>\n",
              "      <td>1.802827</td>\n",
              "      <td>0.312045</td>\n",
              "      <td>-0.179525</td>\n",
              "      <td>-3.259819</td>\n",
              "      <td>1</td>\n",
              "    </tr>\n",
              "    <tr>\n",
              "      <th>3</th>\n",
              "      <td>0.540323</td>\n",
              "      <td>1.803923</td>\n",
              "      <td>-0.615244</td>\n",
              "      <td>-0.875207</td>\n",
              "      <td>-3.259819</td>\n",
              "      <td>1</td>\n",
              "    </tr>\n",
              "    <tr>\n",
              "      <th>4</th>\n",
              "      <td>0.540323</td>\n",
              "      <td>1.803923</td>\n",
              "      <td>-0.632003</td>\n",
              "      <td>-0.875207</td>\n",
              "      <td>-3.259819</td>\n",
              "      <td>1</td>\n",
              "    </tr>\n",
              "    <tr>\n",
              "      <th>...</th>\n",
              "      <td>...</td>\n",
              "      <td>...</td>\n",
              "      <td>...</td>\n",
              "      <td>...</td>\n",
              "      <td>...</td>\n",
              "      <td>...</td>\n",
              "    </tr>\n",
              "    <tr>\n",
              "      <th>11413</th>\n",
              "      <td>1.097724</td>\n",
              "      <td>1.789677</td>\n",
              "      <td>0.742174</td>\n",
              "      <td>1.183729</td>\n",
              "      <td>1.769178</td>\n",
              "      <td>1</td>\n",
              "    </tr>\n",
              "    <tr>\n",
              "      <th>11414</th>\n",
              "      <td>1.097724</td>\n",
              "      <td>1.789677</td>\n",
              "      <td>1.971112</td>\n",
              "      <td>1.601841</td>\n",
              "      <td>1.769178</td>\n",
              "      <td>1</td>\n",
              "    </tr>\n",
              "    <tr>\n",
              "      <th>11415</th>\n",
              "      <td>1.097724</td>\n",
              "      <td>1.789677</td>\n",
              "      <td>0.641624</td>\n",
              "      <td>1.183729</td>\n",
              "      <td>1.769178</td>\n",
              "      <td>1</td>\n",
              "    </tr>\n",
              "    <tr>\n",
              "      <th>11416</th>\n",
              "      <td>1.097724</td>\n",
              "      <td>1.790773</td>\n",
              "      <td>-0.693450</td>\n",
              "      <td>-0.053038</td>\n",
              "      <td>1.769178</td>\n",
              "      <td>1</td>\n",
              "    </tr>\n",
              "    <tr>\n",
              "      <th>11417</th>\n",
              "      <td>1.097724</td>\n",
              "      <td>1.790773</td>\n",
              "      <td>-0.671105</td>\n",
              "      <td>-0.053038</td>\n",
              "      <td>1.769178</td>\n",
              "      <td>1</td>\n",
              "    </tr>\n",
              "  </tbody>\n",
              "</table>\n",
              "<p>11418 rows × 6 columns</p>\n",
              "</div>"
            ],
            "text/plain": [
              "        anumber   bnumber  duration       fee      type  labels_dbscan\n",
              "0      1.097724  1.802827  1.697394  0.358047 -3.259819              1\n",
              "1      1.097724  1.802827  0.250598 -0.376284 -3.259819              1\n",
              "2      1.097724  1.802827  0.312045 -0.179525 -3.259819              1\n",
              "3      0.540323  1.803923 -0.615244 -0.875207 -3.259819              1\n",
              "4      0.540323  1.803923 -0.632003 -0.875207 -3.259819              1\n",
              "...         ...       ...       ...       ...       ...            ...\n",
              "11413  1.097724  1.789677  0.742174  1.183729  1.769178              1\n",
              "11414  1.097724  1.789677  1.971112  1.601841  1.769178              1\n",
              "11415  1.097724  1.789677  0.641624  1.183729  1.769178              1\n",
              "11416  1.097724  1.790773 -0.693450 -0.053038  1.769178              1\n",
              "11417  1.097724  1.790773 -0.671105 -0.053038  1.769178              1\n",
              "\n",
              "[11418 rows x 6 columns]"
            ]
          },
          "metadata": {
            "tags": []
          },
          "execution_count": 51
        },
        {
          "output_type": "stream",
          "text": [
            "time: 21.2 ms (started: 2021-04-11 05:46:26 +00:00)\n"
          ],
          "name": "stdout"
        }
      ]
    },
    {
      "cell_type": "code",
      "metadata": {
        "id": "hdqlwu4EIdw1",
        "colab": {
          "base_uri": "https://localhost:8080/"
        },
        "outputId": "fa9835f4-1bc6-48bc-c042-f605e0b17f47"
      },
      "source": [
        "# Count Fraud and Non Fraud from Final Dataset Copy\n",
        "Final_Dataset_copy['labels_dbscan'].value_counts()"
      ],
      "execution_count": 53,
      "outputs": [
        {
          "output_type": "execute_result",
          "data": {
            "text/plain": [
              "0    11230\n",
              "1      188\n",
              "Name: labels_dbscan, dtype: int64"
            ]
          },
          "metadata": {
            "tags": []
          },
          "execution_count": 53
        },
        {
          "output_type": "stream",
          "text": [
            "time: 7.97 ms (started: 2021-04-11 05:46:41 +00:00)\n"
          ],
          "name": "stdout"
        }
      ]
    },
    {
      "cell_type": "markdown",
      "metadata": {
        "id": "aQu_jH-vwI82"
      },
      "source": [
        "**5. DATA VISUALIZATION WITH PCA**"
      ]
    },
    {
      "cell_type": "code",
      "metadata": {
        "id": "8EJ78RCbFhzU",
        "colab": {
          "base_uri": "https://localhost:8080/"
        },
        "outputId": "48487bc3-9b2d-49e7-a8b8-0cb3eed05b2e"
      },
      "source": [
        "plotX = Final_Dataset_copy"
      ],
      "execution_count": 55,
      "outputs": [
        {
          "output_type": "stream",
          "text": [
            "time: 1.22 ms (started: 2021-04-11 05:50:43 +00:00)\n"
          ],
          "name": "stdout"
        }
      ]
    },
    {
      "cell_type": "code",
      "metadata": {
        "id": "T4bQDj3iIMtF",
        "colab": {
          "base_uri": "https://localhost:8080/"
        },
        "outputId": "de569403-adb6-42c6-b760-35b287d3f757"
      },
      "source": [
        "pca_2d = PCA(n_components=2)"
      ],
      "execution_count": 56,
      "outputs": [
        {
          "output_type": "stream",
          "text": [
            "time: 1.24 ms (started: 2021-04-11 05:50:46 +00:00)\n"
          ],
          "name": "stdout"
        }
      ]
    },
    {
      "cell_type": "code",
      "metadata": {
        "id": "drcxY-clNQq_",
        "colab": {
          "base_uri": "https://localhost:8080/"
        },
        "outputId": "7e99de58-c854-4dcf-e580-fa8c76f3a662"
      },
      "source": [
        "PCs_2d = pd.DataFrame(pca_2d.fit_transform(plotX.drop([\"labels_dbscan\"], axis=1)))"
      ],
      "execution_count": 57,
      "outputs": [
        {
          "output_type": "stream",
          "text": [
            "time: 32.1 ms (started: 2021-04-11 05:50:49 +00:00)\n"
          ],
          "name": "stdout"
        }
      ]
    },
    {
      "cell_type": "code",
      "metadata": {
        "id": "c8E0ylMXUuhh",
        "colab": {
          "base_uri": "https://localhost:8080/"
        },
        "outputId": "76094b61-0e2b-4a07-a082-9d074df58ef1"
      },
      "source": [
        "PCs_2d.columns = [\"PC1_2d\", \"PC2_2d\"]"
      ],
      "execution_count": 58,
      "outputs": [
        {
          "output_type": "stream",
          "text": [
            "time: 1.11 ms (started: 2021-04-11 05:50:52 +00:00)\n"
          ],
          "name": "stdout"
        }
      ]
    },
    {
      "cell_type": "code",
      "metadata": {
        "id": "NdwW6ukhXesb",
        "colab": {
          "base_uri": "https://localhost:8080/"
        },
        "outputId": "a4a38f8e-f4a9-4377-cf27-1d96734f5757"
      },
      "source": [
        "plotX = pd.concat([plotX,PCs_2d], axis=1, join='inner')"
      ],
      "execution_count": 59,
      "outputs": [
        {
          "output_type": "stream",
          "text": [
            "time: 2.89 ms (started: 2021-04-11 05:50:54 +00:00)\n"
          ],
          "name": "stdout"
        }
      ]
    },
    {
      "cell_type": "code",
      "metadata": {
        "id": "oMmR7ICaZGwj",
        "colab": {
          "base_uri": "https://localhost:8080/"
        },
        "outputId": "16bf0d33-202b-43b1-8c32-1d356ef39492"
      },
      "source": [
        "cluster0 = plotX[plotX[\"labels_dbscan\"] == 0]\n",
        "cluster1 = plotX[plotX[\"labels_dbscan\"] == 1]"
      ],
      "execution_count": 60,
      "outputs": [
        {
          "output_type": "stream",
          "text": [
            "time: 11.2 ms (started: 2021-04-11 05:50:58 +00:00)\n"
          ],
          "name": "stdout"
        }
      ]
    },
    {
      "cell_type": "code",
      "metadata": {
        "id": "19EJz-XmY32T",
        "colab": {
          "base_uri": "https://localhost:8080/",
          "height": 34
        },
        "outputId": "9f9e3a10-0467-4dbd-9179-b29f51634ed6"
      },
      "source": [
        "init_notebook_mode(connected=True)"
      ],
      "execution_count": 61,
      "outputs": [
        {
          "output_type": "display_data",
          "data": {
            "text/html": [
              "        <script type=\"text/javascript\">\n",
              "        window.PlotlyConfig = {MathJaxConfig: 'local'};\n",
              "        if (window.MathJax) {MathJax.Hub.Config({SVG: {font: \"STIX-Web\"}});}\n",
              "        if (typeof require !== 'undefined') {\n",
              "        require.undef(\"plotly\");\n",
              "        requirejs.config({\n",
              "            paths: {\n",
              "                'plotly': ['https://cdn.plot.ly/plotly-latest.min']\n",
              "            }\n",
              "        });\n",
              "        require(['plotly'], function(Plotly) {\n",
              "            window._Plotly = Plotly;\n",
              "        });\n",
              "        }\n",
              "        </script>\n",
              "        "
            ]
          },
          "metadata": {
            "tags": []
          }
        },
        {
          "output_type": "stream",
          "text": [
            "time: 3.53 ms (started: 2021-04-11 05:51:00 +00:00)\n"
          ],
          "name": "stdout"
        }
      ]
    },
    {
      "cell_type": "code",
      "metadata": {
        "id": "kX3akTE2Zd1p",
        "colab": {
          "base_uri": "https://localhost:8080/",
          "height": 35
        },
        "outputId": "35dca346-c1d1-46fe-946e-60333105c193"
      },
      "source": [
        "#trace1 is for 'Cluster 0'\n",
        "trace1 = go.Scatter(\n",
        "                    x = cluster0[\"PC1_2d\"],\n",
        "                    y = cluster0[\"PC2_2d\"],\n",
        "                    mode = \"markers\",\n",
        "                    name = \"Non Fraud\",\n",
        "                    marker = dict(color = 'rgba(0, 0, 0, 0.8)'),\n",
        "                    text = None)\n",
        "\n",
        "#trace2 is for 'Cluster 1'\n",
        "trace2 = go.Scatter(\n",
        "                    x = cluster1[\"PC1_2d\"],\n",
        "                    y = cluster1[\"PC2_2d\"],\n",
        "                    mode = \"markers\",\n",
        "                    name = \"Fraud\",\n",
        "                    marker = dict(color = 'rgba(240, 52, 52, 0.8)'),\n",
        "                    text = None)\n",
        "\n",
        "data = [trace1, trace2]\n",
        "\n",
        "title = \"DBSCAN - PCA\"\n",
        "\n",
        "layout = dict(title = title,\n",
        "              xaxis= dict(title= 'PC1',ticklen= 5,zeroline= False),\n",
        "              yaxis= dict(title= 'PC2',ticklen= 5,zeroline= False)\n",
        "             )\n",
        "\n",
        "#Plot and save html\n",
        "plotly.offline.plot({\"data\": data,\n",
        "                     \"layout\": layout},\n",
        "                     auto_open=True)"
      ],
      "execution_count": 63,
      "outputs": [
        {
          "output_type": "execute_result",
          "data": {
            "application/vnd.google.colaboratory.intrinsic+json": {
              "type": "string"
            },
            "text/plain": [
              "'temp-plot.html'"
            ]
          },
          "metadata": {
            "tags": []
          },
          "execution_count": 63
        },
        {
          "output_type": "stream",
          "text": [
            "time: 474 ms (started: 2021-04-11 05:51:14 +00:00)\n"
          ],
          "name": "stdout"
        }
      ]
    },
    {
      "cell_type": "markdown",
      "metadata": {
        "id": "ReNhJtOKfNM8"
      },
      "source": [
        "Download and Open File temp-plot.html to see the Graph, please screenshoot and Place in here.\n",
        "\n",
        "![](https://raw.githubusercontent.com/multimediary/portfolio-data-science/main/screenshots/fraud-modeling-CDR-DBSCAN.jpg)    "
      ]
    },
    {
      "cell_type": "markdown",
      "metadata": {
        "id": "GHRJdugewQgj"
      },
      "source": [
        "**6. DATA EVALUATION WITH CONFUSION MATRIX**"
      ]
    },
    {
      "cell_type": "code",
      "metadata": {
        "id": "07SkEFCTmj3a",
        "colab": {
          "base_uri": "https://localhost:8080/",
          "height": 301
        },
        "outputId": "4c452955-b942-433f-bcc7-d00a77c44176"
      },
      "source": [
        "C = confusion_matrix(df[\"label\"],plotX[\"labels_dbscan\"])\n",
        "\n",
        "# Plot confusion matrix\n",
        "plt.imshow(C,interpolation='none',cmap='Blues')\n",
        "for (i, j), z in np.ndenumerate(C):\n",
        "    plt.text(j, i, z, ha='center', va='center')\n",
        "plt.xlabel(\"labels_dbscan\")\n",
        "plt.ylabel(\"label_fraud\")\n",
        "plt.show()"
      ],
      "execution_count": 64,
      "outputs": [
        {
          "output_type": "display_data",
          "data": {
            "image/png": "[encoded data removed]",
            "text/plain": [
              "<Figure size 432x288 with 1 Axes>"
            ]
          },
          "metadata": {
            "tags": [],
            "needs_background": "light"
          }
        },
        {
          "output_type": "stream",
          "text": [
            "time: 189 ms (started: 2021-04-11 06:00:54 +00:00)\n"
          ],
          "name": "stdout"
        }
      ]
    },
    {
      "cell_type": "code",
      "metadata": {
        "id": "7Ka9UgbCm4rh",
        "colab": {
          "base_uri": "https://localhost:8080/"
        },
        "outputId": "13445206-f0de-4248-b64a-003e7c1e76e1"
      },
      "source": [
        "print(C)"
      ],
      "execution_count": 65,
      "outputs": [
        {
          "output_type": "stream",
          "text": [
            "[[10833   188]\n",
            " [  397     0]]\n",
            "time: 1.47 ms (started: 2021-04-11 06:01:03 +00:00)\n"
          ],
          "name": "stdout"
        }
      ]
    },
    {
      "cell_type": "code",
      "metadata": {
        "id": "fdm51Dbom72l",
        "colab": {
          "base_uri": "https://localhost:8080/"
        },
        "outputId": "3b44dba4-3add-4892-f50d-31cee7e980b8"
      },
      "source": [
        "# Nilai Accuracy, Precision, Recall, and F1 Score\n",
        "print(\"Accuracy Score of DBSCAN\", accuracy_score(df[\"label\"], plotX[\"labels_dbscan\"]))\n",
        "print(\"Recall of DBSCAN\", recall_score(df[\"label\"], plotX[\"labels_dbscan\"],average=None, zero_division=1))\n",
        "print(\"Precision Score of DBSCAN\", precision_score(df[\"label\"], plotX[\"labels_dbscan\"],average=None, zero_division=1))\n",
        "print(\"F1 Score of DBSCAN\", f1_score(df[\"label\"], plotX[\"labels_dbscan\"],average=None, zero_division=1))"
      ],
      "execution_count": 66,
      "outputs": [
        {
          "output_type": "stream",
          "text": [
            "Accuracy Score of DBSCAN 0.9487651077246453\n",
            "Recall of DBSCAN [0.98294166 0.        ]\n",
            "Precision Score of DBSCAN [0.96464826 0.        ]\n",
            "F1 Score of DBSCAN [0.97370905 0.        ]\n",
            "time: 26.1 ms (started: 2021-04-11 06:01:06 +00:00)\n"
          ],
          "name": "stdout"
        }
      ]
    }
  ]
}