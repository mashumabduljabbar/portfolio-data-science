{
  "nbformat": 4,
  "nbformat_minor": 0,
  "metadata": {
    "kernelspec": {
      "display_name": "Python 3",
      "language": "python",
      "name": "python3"
    },
    "language_info": {
      "codemirror_mode": {
        "name": "ipython",
        "version": 3
      },
      "file_extension": ".py",
      "mimetype": "text/x-python",
      "name": "python",
      "nbconvert_exporter": "python",
      "pygments_lexer": "ipython3",
      "version": "3.7.3"
    },
    "colab": {
      "name": "DBSCAN.ipynb",
      "provenance": [],
      "collapsed_sections": [],
      "include_colab_link": true
    }
  },
  "cells": [
    {
      "cell_type": "markdown",
      "metadata": {
        "id": "view-in-github",
        "colab_type": "text"
      },
      "source": [
        "<a href=\"https://colab.research.google.com/github/multimediary/portfolio-data-science/blob/main/fraud-modeling-CDR-DBSCAN.ipynb\" target=\"_parent\"><img src=\"https://colab.research.google.com/assets/colab-badge.svg\" alt=\"Open In Colab\"/></a>"
      ]
    },
    {
      "cell_type": "markdown",
      "metadata": {
        "id": "u4iY8H7VwvFa"
      },
      "source": [
        "**1. IMPORT LIBRARY**"
      ]
    },
    {
      "cell_type": "code",
      "metadata": {
        "id": "_h-zjM9KaxLi",
        "colab": {
          "base_uri": "https://localhost:8080/"
        },
        "outputId": "4aef1a78-d9ba-4cc2-b85c-e03f16006068"
      },
      "source": [
        "# For ignore warning\n",
        "import warnings\n",
        "warnings.filterwarnings('ignore')\n",
        "warnings.simplefilter('ignore')\n",
        "\n",
        "# Library For code execution time\n",
        "!pip install ipython-autotime\n",
        "%load_ext autotime\n",
        "\n",
        "# Library For Preprocessing\n",
        "import pandas as pd\n",
        "import numpy as np\n",
        "from sklearn.preprocessing import MinMaxScaler, LabelEncoder, StandardScaler\n",
        "from sklearn.metrics import homogeneity_score, silhouette_score\n",
        "\n",
        "# Library For Clustering\n",
        "from sklearn.cluster import DBSCAN\n",
        "from sklearn import metrics\n",
        "\n",
        "# Library For Visualization\n",
        "import plotly\n",
        "import plotly.graph_objs as go\n",
        "from plotly.offline import download_plotlyjs, init_notebook_mode, plot, iplot\n",
        "from sklearn.decomposition import PCA\n",
        "import matplotlib.pyplot as plt\n",
        "\n",
        "# Library For Evaluation\n",
        "from sklearn.metrics import confusion_matrix, accuracy_score, precision_score, recall_score, f1_score"
      ],
      "execution_count": 29,
      "outputs": [
        {
          "output_type": "stream",
          "name": "stdout",
          "text": [
            "Requirement already satisfied: ipython-autotime in /usr/local/lib/python3.7/dist-packages (0.3.1)\n",
            "Requirement already satisfied: ipython in /usr/local/lib/python3.7/dist-packages (from ipython-autotime) (5.5.0)\n",
            "Requirement already satisfied: pickleshare in /usr/local/lib/python3.7/dist-packages (from ipython->ipython-autotime) (0.7.5)\n",
            "Requirement already satisfied: setuptools>=18.5 in /usr/local/lib/python3.7/dist-packages (from ipython->ipython-autotime) (57.4.0)\n",
            "Requirement already satisfied: traitlets>=4.2 in /usr/local/lib/python3.7/dist-packages (from ipython->ipython-autotime) (5.1.0)\n",
            "Requirement already satisfied: prompt-toolkit<2.0.0,>=1.0.4 in /usr/local/lib/python3.7/dist-packages (from ipython->ipython-autotime) (1.0.18)\n",
            "Requirement already satisfied: decorator in /usr/local/lib/python3.7/dist-packages (from ipython->ipython-autotime) (4.4.2)\n",
            "Requirement already satisfied: pygments in /usr/local/lib/python3.7/dist-packages (from ipython->ipython-autotime) (2.6.1)\n",
            "Requirement already satisfied: pexpect in /usr/local/lib/python3.7/dist-packages (from ipython->ipython-autotime) (4.8.0)\n",
            "Requirement already satisfied: simplegeneric>0.8 in /usr/local/lib/python3.7/dist-packages (from ipython->ipython-autotime) (0.8.1)\n",
            "Requirement already satisfied: six>=1.9.0 in /usr/local/lib/python3.7/dist-packages (from prompt-toolkit<2.0.0,>=1.0.4->ipython->ipython-autotime) (1.15.0)\n",
            "Requirement already satisfied: wcwidth in /usr/local/lib/python3.7/dist-packages (from prompt-toolkit<2.0.0,>=1.0.4->ipython->ipython-autotime) (0.2.5)\n",
            "Requirement already satisfied: ptyprocess>=0.5 in /usr/local/lib/python3.7/dist-packages (from pexpect->ipython->ipython-autotime) (0.7.0)\n",
            "The autotime extension is already loaded. To reload it, use:\n",
            "  %reload_ext autotime\n",
            "time: 2.96 s (started: 2021-10-11 14:37:16 +00:00)\n"
          ]
        }
      ]
    },
    {
      "cell_type": "markdown",
      "metadata": {
        "id": "x_XuR48GpqP9"
      },
      "source": [
        "**2. DATA GATHERING**"
      ]
    },
    {
      "cell_type": "code",
      "metadata": {
        "id": "FY8kYBHywWfO",
        "colab": {
          "base_uri": "https://localhost:8080/",
          "height": 220
        },
        "outputId": "81922a3c-6c2e-4d05-ece3-50ee04ccb8b7"
      },
      "source": [
        "# Read Dataset with Pandas from Git\n",
        "df = pd.read_csv(\"https://github.com/multimediary/dataset/blob/master/dataset.csv?raw=true\")\n",
        "df.head()"
      ],
      "execution_count": 30,
      "outputs": [
        {
          "output_type": "execute_result",
          "data": {
            "text/html": [
              "<div>\n",
              "<style scoped>\n",
              "    .dataframe tbody tr th:only-of-type {\n",
              "        vertical-align: middle;\n",
              "    }\n",
              "\n",
              "    .dataframe tbody tr th {\n",
              "        vertical-align: top;\n",
              "    }\n",
              "\n",
              "    .dataframe thead th {\n",
              "        text-align: right;\n",
              "    }\n",
              "</style>\n",
              "<table border=\"1\" class=\"dataframe\">\n",
              "  <thead>\n",
              "    <tr style=\"text-align: right;\">\n",
              "      <th></th>\n",
              "      <th>starttime</th>\n",
              "      <th>stoptime</th>\n",
              "      <th>anumber</th>\n",
              "      <th>bnumber</th>\n",
              "      <th>duration</th>\n",
              "      <th>fee</th>\n",
              "      <th>destination</th>\n",
              "      <th>type</th>\n",
              "      <th>label</th>\n",
              "    </tr>\n",
              "  </thead>\n",
              "  <tbody>\n",
              "    <tr>\n",
              "      <th>0</th>\n",
              "      <td>2018-05-02 09:13:24</td>\n",
              "      <td>2018-05-02 09:20:38</td>\n",
              "      <td>62626292960</td>\n",
              "      <td>1500200</td>\n",
              "      <td>434</td>\n",
              "      <td>6000</td>\n",
              "      <td>callcenter</td>\n",
              "      <td>Injapati</td>\n",
              "      <td>0</td>\n",
              "    </tr>\n",
              "    <tr>\n",
              "      <th>1</th>\n",
              "      <td>2018-05-18 16:49:19</td>\n",
              "      <td>2018-05-18 16:52:11</td>\n",
              "      <td>62626292960</td>\n",
              "      <td>1500200</td>\n",
              "      <td>172</td>\n",
              "      <td>2250</td>\n",
              "      <td>callcenter</td>\n",
              "      <td>Injapati</td>\n",
              "      <td>0</td>\n",
              "    </tr>\n",
              "    <tr>\n",
              "      <th>2</th>\n",
              "      <td>2018-05-18 18:15:17</td>\n",
              "      <td>2018-05-18 18:18:20</td>\n",
              "      <td>62626292960</td>\n",
              "      <td>1500200</td>\n",
              "      <td>183</td>\n",
              "      <td>3000</td>\n",
              "      <td>callcenter</td>\n",
              "      <td>Injapati</td>\n",
              "      <td>0</td>\n",
              "    </tr>\n",
              "    <tr>\n",
              "      <th>3</th>\n",
              "      <td>2018-05-31 08:52:46</td>\n",
              "      <td>2018-05-31 08:53:03</td>\n",
              "      <td>62626292253</td>\n",
              "      <td>1500788</td>\n",
              "      <td>17</td>\n",
              "      <td>750</td>\n",
              "      <td>callcenter</td>\n",
              "      <td>Injapati</td>\n",
              "      <td>0</td>\n",
              "    </tr>\n",
              "    <tr>\n",
              "      <th>4</th>\n",
              "      <td>2018-05-31 08:53:10</td>\n",
              "      <td>2018-05-31 08:53:24</td>\n",
              "      <td>62626292253</td>\n",
              "      <td>1500788</td>\n",
              "      <td>14</td>\n",
              "      <td>750</td>\n",
              "      <td>callcenter</td>\n",
              "      <td>Injapati</td>\n",
              "      <td>0</td>\n",
              "    </tr>\n",
              "  </tbody>\n",
              "</table>\n",
              "</div>"
            ],
            "text/plain": [
              "             starttime             stoptime  ...      type label\n",
              "0  2018-05-02 09:13:24  2018-05-02 09:20:38  ...  Injapati     0\n",
              "1  2018-05-18 16:49:19  2018-05-18 16:52:11  ...  Injapati     0\n",
              "2  2018-05-18 18:15:17  2018-05-18 18:18:20  ...  Injapati     0\n",
              "3  2018-05-31 08:52:46  2018-05-31 08:53:03  ...  Injapati     0\n",
              "4  2018-05-31 08:53:10  2018-05-31 08:53:24  ...  Injapati     0\n",
              "\n",
              "[5 rows x 9 columns]"
            ]
          },
          "metadata": {},
          "execution_count": 30
        },
        {
          "output_type": "stream",
          "name": "stdout",
          "text": [
            "time: 451 ms (started: 2021-10-11 14:37:19 +00:00)\n"
          ]
        }
      ]
    },
    {
      "cell_type": "code",
      "metadata": {
        "id": "vj6eSmf5yOSR",
        "colab": {
          "base_uri": "https://localhost:8080/"
        },
        "outputId": "ad93b767-d0d7-4efa-86f4-6f7062211f82"
      },
      "source": [
        "# Show Dataset Description (Focus at Dtype)\n",
        "df.info()"
      ],
      "execution_count": 31,
      "outputs": [
        {
          "output_type": "stream",
          "name": "stdout",
          "text": [
            "<class 'pandas.core.frame.DataFrame'>\n",
            "RangeIndex: 11418 entries, 0 to 11417\n",
            "Data columns (total 9 columns):\n",
            " #   Column       Non-Null Count  Dtype \n",
            "---  ------       --------------  ----- \n",
            " 0   starttime    11418 non-null  object\n",
            " 1   stoptime     11418 non-null  object\n",
            " 2   anumber      11418 non-null  int64 \n",
            " 3   bnumber      11418 non-null  object\n",
            " 4   duration     11418 non-null  int64 \n",
            " 5   fee          11418 non-null  int64 \n",
            " 6   destination  11418 non-null  object\n",
            " 7   type         11418 non-null  object\n",
            " 8   label        11418 non-null  int64 \n",
            "dtypes: int64(4), object(5)\n",
            "memory usage: 803.0+ KB\n",
            "time: 16.4 ms (started: 2021-10-11 14:37:20 +00:00)\n"
          ]
        }
      ]
    },
    {
      "cell_type": "code",
      "metadata": {
        "id": "RXkGItcRIeeF",
        "colab": {
          "base_uri": "https://localhost:8080/",
          "height": 312
        },
        "outputId": "5a5cbc12-32e2-44aa-9224-edc162c79075"
      },
      "source": [
        "# Displays Dataframe Statistics (Focus at std)\n",
        "df.describe()"
      ],
      "execution_count": 32,
      "outputs": [
        {
          "output_type": "execute_result",
          "data": {
            "text/html": [
              "<div>\n",
              "<style scoped>\n",
              "    .dataframe tbody tr th:only-of-type {\n",
              "        vertical-align: middle;\n",
              "    }\n",
              "\n",
              "    .dataframe tbody tr th {\n",
              "        vertical-align: top;\n",
              "    }\n",
              "\n",
              "    .dataframe thead th {\n",
              "        text-align: right;\n",
              "    }\n",
              "</style>\n",
              "<table border=\"1\" class=\"dataframe\">\n",
              "  <thead>\n",
              "    <tr style=\"text-align: right;\">\n",
              "      <th></th>\n",
              "      <th>anumber</th>\n",
              "      <th>duration</th>\n",
              "      <th>fee</th>\n",
              "      <th>label</th>\n",
              "    </tr>\n",
              "  </thead>\n",
              "  <tbody>\n",
              "    <tr>\n",
              "      <th>count</th>\n",
              "      <td>1.141800e+04</td>\n",
              "      <td>11418.000000</td>\n",
              "      <td>1.141800e+04</td>\n",
              "      <td>11418.000000</td>\n",
              "    </tr>\n",
              "    <tr>\n",
              "      <th>mean</th>\n",
              "      <td>6.262625e+10</td>\n",
              "      <td>154.111841</td>\n",
              "      <td>1.215145e+04</td>\n",
              "      <td>0.034770</td>\n",
              "    </tr>\n",
              "    <tr>\n",
              "      <th>std</th>\n",
              "      <td>3.985148e+04</td>\n",
              "      <td>410.204092</td>\n",
              "      <td>4.131463e+04</td>\n",
              "      <td>0.183204</td>\n",
              "    </tr>\n",
              "    <tr>\n",
              "      <th>min</th>\n",
              "      <td>6.262621e+10</td>\n",
              "      <td>0.000000</td>\n",
              "      <td>4.300000e+01</td>\n",
              "      <td>0.000000</td>\n",
              "    </tr>\n",
              "    <tr>\n",
              "      <th>25%</th>\n",
              "      <td>6.262621e+10</td>\n",
              "      <td>24.000000</td>\n",
              "      <td>6.340000e+02</td>\n",
              "      <td>0.000000</td>\n",
              "    </tr>\n",
              "    <tr>\n",
              "      <th>50%</th>\n",
              "      <td>6.262621e+10</td>\n",
              "      <td>57.000000</td>\n",
              "      <td>2.614000e+03</td>\n",
              "      <td>0.000000</td>\n",
              "    </tr>\n",
              "    <tr>\n",
              "      <th>75%</th>\n",
              "      <td>6.262629e+10</td>\n",
              "      <td>143.000000</td>\n",
              "      <td>1.045400e+04</td>\n",
              "      <td>0.000000</td>\n",
              "    </tr>\n",
              "    <tr>\n",
              "      <th>max</th>\n",
              "      <td>6.262630e+10</td>\n",
              "      <td>17735.000000</td>\n",
              "      <td>1.567841e+06</td>\n",
              "      <td>1.000000</td>\n",
              "    </tr>\n",
              "  </tbody>\n",
              "</table>\n",
              "</div>"
            ],
            "text/plain": [
              "            anumber      duration           fee         label\n",
              "count  1.141800e+04  11418.000000  1.141800e+04  11418.000000\n",
              "mean   6.262625e+10    154.111841  1.215145e+04      0.034770\n",
              "std    3.985148e+04    410.204092  4.131463e+04      0.183204\n",
              "min    6.262621e+10      0.000000  4.300000e+01      0.000000\n",
              "25%    6.262621e+10     24.000000  6.340000e+02      0.000000\n",
              "50%    6.262621e+10     57.000000  2.614000e+03      0.000000\n",
              "75%    6.262629e+10    143.000000  1.045400e+04      0.000000\n",
              "max    6.262630e+10  17735.000000  1.567841e+06      1.000000"
            ]
          },
          "metadata": {},
          "execution_count": 32
        },
        {
          "output_type": "stream",
          "name": "stdout",
          "text": [
            "time: 31 ms (started: 2021-10-11 14:37:20 +00:00)\n"
          ]
        }
      ]
    },
    {
      "cell_type": "code",
      "metadata": {
        "id": "ERzzPo6swj60",
        "colab": {
          "base_uri": "https://localhost:8080/"
        },
        "outputId": "3c2e8758-9833-4939-ca70-ad09ef097029"
      },
      "source": [
        "# Show dataset shape\n",
        "df.shape"
      ],
      "execution_count": 33,
      "outputs": [
        {
          "output_type": "execute_result",
          "data": {
            "text/plain": [
              "(11418, 9)"
            ]
          },
          "metadata": {},
          "execution_count": 33
        },
        {
          "output_type": "stream",
          "name": "stdout",
          "text": [
            "time: 4.48 ms (started: 2021-10-11 14:37:20 +00:00)\n"
          ]
        }
      ]
    },
    {
      "cell_type": "code",
      "metadata": {
        "id": "5NcmExGDwpe7",
        "colab": {
          "base_uri": "https://localhost:8080/"
        },
        "outputId": "2cf8d639-5c02-4bf7-80cf-128cb02982ff"
      },
      "source": [
        "# Show the dataset labeled fraud (1) and non fraud (0)\n",
        "df['label'].value_counts()"
      ],
      "execution_count": 34,
      "outputs": [
        {
          "output_type": "execute_result",
          "data": {
            "text/plain": [
              "0    11021\n",
              "1      397\n",
              "Name: label, dtype: int64"
            ]
          },
          "metadata": {},
          "execution_count": 34
        },
        {
          "output_type": "stream",
          "name": "stdout",
          "text": [
            "time: 8.49 ms (started: 2021-10-11 14:37:20 +00:00)\n"
          ]
        }
      ]
    },
    {
      "cell_type": "code",
      "metadata": {
        "id": "gdASqke5xCat",
        "colab": {
          "base_uri": "https://localhost:8080/"
        },
        "outputId": "0f442775-1ad1-47f7-cd00-f9434777ae40"
      },
      "source": [
        "# Show a comparison between the dataset labeled fraud and non-fraud\n",
        "print(df['label'].value_counts() / df['label'].shape[0])"
      ],
      "execution_count": 35,
      "outputs": [
        {
          "output_type": "stream",
          "name": "stdout",
          "text": [
            "0    0.96523\n",
            "1    0.03477\n",
            "Name: label, dtype: float64\n",
            "time: 6.14 ms (started: 2021-10-11 14:37:20 +00:00)\n"
          ]
        }
      ]
    },
    {
      "cell_type": "code",
      "metadata": {
        "id": "idKX9pCW01jm",
        "colab": {
          "base_uri": "https://localhost:8080/"
        },
        "outputId": "c1fd317c-192c-4f67-c7b2-c82b96d7dfdc"
      },
      "source": [
        "# Check what types of calls are there\n",
        "df['type'].value_counts()"
      ],
      "execution_count": 36,
      "outputs": [
        {
          "output_type": "execute_result",
          "data": {
            "text/plain": [
              "SLJJ          7093\n",
              "SLI 001       4035\n",
              "Lokal          153\n",
              "SLI 007        102\n",
              "VoIP 01017      21\n",
              "Injapati        14\n",
              "Name: type, dtype: int64"
            ]
          },
          "metadata": {},
          "execution_count": 36
        },
        {
          "output_type": "stream",
          "name": "stdout",
          "text": [
            "time: 9.33 ms (started: 2021-10-11 14:37:20 +00:00)\n"
          ]
        }
      ]
    },
    {
      "cell_type": "code",
      "metadata": {
        "id": "CLcq74ZVT67o",
        "colab": {
          "base_uri": "https://localhost:8080/"
        },
        "outputId": "12c87fe8-67f3-4725-9c26-257fdcf68a19"
      },
      "source": [
        "# Find null in the dataset\n",
        "df.isnull().sum().max()"
      ],
      "execution_count": 37,
      "outputs": [
        {
          "output_type": "execute_result",
          "data": {
            "text/plain": [
              "0"
            ]
          },
          "metadata": {},
          "execution_count": 37
        },
        {
          "output_type": "stream",
          "name": "stdout",
          "text": [
            "time: 12.4 ms (started: 2021-10-11 14:37:20 +00:00)\n"
          ]
        }
      ]
    },
    {
      "cell_type": "markdown",
      "metadata": {
        "id": "fr55APKM1y_2"
      },
      "source": [
        "**3. DATA PREPARATION**"
      ]
    },
    {
      "cell_type": "code",
      "metadata": {
        "id": "BM8j8Rkb2cI9",
        "colab": {
          "base_uri": "https://localhost:8080/"
        },
        "outputId": "abe52808-1710-416d-d05e-7dbe599165a5"
      },
      "source": [
        "# Drop unneeded attributes, namely startime and stoptime, destination and label\n",
        "dataset = df.drop(['starttime','stoptime','destination','label'], axis = 1)\n",
        "label = df.label"
      ],
      "execution_count": 38,
      "outputs": [
        {
          "output_type": "stream",
          "name": "stdout",
          "text": [
            "time: 5.21 ms (started: 2021-10-11 14:37:20 +00:00)\n"
          ]
        }
      ]
    },
    {
      "cell_type": "code",
      "metadata": {
        "id": "wNs92sk74z5l",
        "colab": {
          "base_uri": "https://localhost:8080/"
        },
        "outputId": "a40d291c-74d2-4c15-b6c9-0c5af2d2d9e1"
      },
      "source": [
        "# Encoding Dataset Function\n",
        "enc = LabelEncoder()\n",
        "def transforming(input, j):\n",
        "    input.iloc[:,j] = enc.fit_transform(input.iloc[:,j])\n",
        "\n",
        "# Change data in the form of objects / strings into numbers\n",
        "for i in range(0,5):\n",
        "    if(i!=2 or i!=3):\n",
        "        transforming(dataset, i)"
      ],
      "execution_count": 39,
      "outputs": [
        {
          "output_type": "stream",
          "name": "stdout",
          "text": [
            "time: 27.1 ms (started: 2021-10-11 14:37:20 +00:00)\n"
          ]
        }
      ]
    },
    {
      "cell_type": "code",
      "metadata": {
        "id": "ucktkXe951aG",
        "colab": {
          "base_uri": "https://localhost:8080/",
          "height": 220
        },
        "outputId": "ca019961-9c77-434c-82bb-74a20b047c19"
      },
      "source": [
        "# Show Dataset \n",
        "dataset.head()"
      ],
      "execution_count": 40,
      "outputs": [
        {
          "output_type": "execute_result",
          "data": {
            "text/html": [
              "<div>\n",
              "<style scoped>\n",
              "    .dataframe tbody tr th:only-of-type {\n",
              "        vertical-align: middle;\n",
              "    }\n",
              "\n",
              "    .dataframe tbody tr th {\n",
              "        vertical-align: top;\n",
              "    }\n",
              "\n",
              "    .dataframe thead th {\n",
              "        text-align: right;\n",
              "    }\n",
              "</style>\n",
              "<table border=\"1\" class=\"dataframe\">\n",
              "  <thead>\n",
              "    <tr style=\"text-align: right;\">\n",
              "      <th></th>\n",
              "      <th>anumber</th>\n",
              "      <th>bnumber</th>\n",
              "      <th>duration</th>\n",
              "      <th>fee</th>\n",
              "      <th>type</th>\n",
              "    </tr>\n",
              "  </thead>\n",
              "  <tbody>\n",
              "    <tr>\n",
              "      <th>0</th>\n",
              "      <td>265</td>\n",
              "      <td>1333</td>\n",
              "      <td>431</td>\n",
              "      <td>447</td>\n",
              "      <td>0</td>\n",
              "    </tr>\n",
              "    <tr>\n",
              "      <th>1</th>\n",
              "      <td>265</td>\n",
              "      <td>1333</td>\n",
              "      <td>172</td>\n",
              "      <td>238</td>\n",
              "      <td>0</td>\n",
              "    </tr>\n",
              "    <tr>\n",
              "      <th>2</th>\n",
              "      <td>265</td>\n",
              "      <td>1333</td>\n",
              "      <td>183</td>\n",
              "      <td>294</td>\n",
              "      <td>0</td>\n",
              "    </tr>\n",
              "    <tr>\n",
              "      <th>3</th>\n",
              "      <td>225</td>\n",
              "      <td>1334</td>\n",
              "      <td>17</td>\n",
              "      <td>96</td>\n",
              "      <td>0</td>\n",
              "    </tr>\n",
              "    <tr>\n",
              "      <th>4</th>\n",
              "      <td>225</td>\n",
              "      <td>1334</td>\n",
              "      <td>14</td>\n",
              "      <td>96</td>\n",
              "      <td>0</td>\n",
              "    </tr>\n",
              "  </tbody>\n",
              "</table>\n",
              "</div>"
            ],
            "text/plain": [
              "   anumber  bnumber  duration  fee  type\n",
              "0      265     1333       431  447     0\n",
              "1      265     1333       172  238     0\n",
              "2      265     1333       183  294     0\n",
              "3      225     1334        17   96     0\n",
              "4      225     1334        14   96     0"
            ]
          },
          "metadata": {},
          "execution_count": 40
        },
        {
          "output_type": "stream",
          "name": "stdout",
          "text": [
            "time: 17.3 ms (started: 2021-10-11 14:37:20 +00:00)\n"
          ]
        }
      ]
    },
    {
      "cell_type": "code",
      "metadata": {
        "id": "VFwFuKZB59bd",
        "colab": {
          "base_uri": "https://localhost:8080/"
        },
        "outputId": "3231d45b-f002-4de7-ccb6-68bae82c3aa5"
      },
      "source": [
        "# Transform data with Scaler to perform data normalization so that the data used does not have large deviations.\n",
        "features = ['anumber', 'bnumber', 'duration', 'fee', 'type']\n",
        "Final_Dataset = dataset.loc[:, features].values\n",
        "Final_Dataset = StandardScaler().fit_transform(Final_Dataset)\n",
        "Final_Dataset = pd.DataFrame(data = Final_Dataset, columns = features)"
      ],
      "execution_count": 41,
      "outputs": [
        {
          "output_type": "stream",
          "name": "stdout",
          "text": [
            "time: 8.02 ms (started: 2021-10-11 14:37:20 +00:00)\n"
          ]
        }
      ]
    },
    {
      "cell_type": "code",
      "metadata": {
        "id": "yHUS7rgl6c53",
        "colab": {
          "base_uri": "https://localhost:8080/",
          "height": 220
        },
        "outputId": "e111c717-560f-45b2-fc69-e7d87ad2214e"
      },
      "source": [
        "# Show the Final Dataset \n",
        "Final_Dataset.head()"
      ],
      "execution_count": 42,
      "outputs": [
        {
          "output_type": "execute_result",
          "data": {
            "text/html": [
              "<div>\n",
              "<style scoped>\n",
              "    .dataframe tbody tr th:only-of-type {\n",
              "        vertical-align: middle;\n",
              "    }\n",
              "\n",
              "    .dataframe tbody tr th {\n",
              "        vertical-align: top;\n",
              "    }\n",
              "\n",
              "    .dataframe thead th {\n",
              "        text-align: right;\n",
              "    }\n",
              "</style>\n",
              "<table border=\"1\" class=\"dataframe\">\n",
              "  <thead>\n",
              "    <tr style=\"text-align: right;\">\n",
              "      <th></th>\n",
              "      <th>anumber</th>\n",
              "      <th>bnumber</th>\n",
              "      <th>duration</th>\n",
              "      <th>fee</th>\n",
              "      <th>type</th>\n",
              "    </tr>\n",
              "  </thead>\n",
              "  <tbody>\n",
              "    <tr>\n",
              "      <th>0</th>\n",
              "      <td>1.097724</td>\n",
              "      <td>-0.319205</td>\n",
              "      <td>1.697394</td>\n",
              "      <td>0.358047</td>\n",
              "      <td>-3.259819</td>\n",
              "    </tr>\n",
              "    <tr>\n",
              "      <th>1</th>\n",
              "      <td>1.097724</td>\n",
              "      <td>-0.319205</td>\n",
              "      <td>0.250598</td>\n",
              "      <td>-0.376284</td>\n",
              "      <td>-3.259819</td>\n",
              "    </tr>\n",
              "    <tr>\n",
              "      <th>2</th>\n",
              "      <td>1.097724</td>\n",
              "      <td>-0.319205</td>\n",
              "      <td>0.312045</td>\n",
              "      <td>-0.179525</td>\n",
              "      <td>-3.259819</td>\n",
              "    </tr>\n",
              "    <tr>\n",
              "      <th>3</th>\n",
              "      <td>0.540323</td>\n",
              "      <td>-0.318117</td>\n",
              "      <td>-0.615244</td>\n",
              "      <td>-0.875207</td>\n",
              "      <td>-3.259819</td>\n",
              "    </tr>\n",
              "    <tr>\n",
              "      <th>4</th>\n",
              "      <td>0.540323</td>\n",
              "      <td>-0.318117</td>\n",
              "      <td>-0.632003</td>\n",
              "      <td>-0.875207</td>\n",
              "      <td>-3.259819</td>\n",
              "    </tr>\n",
              "  </tbody>\n",
              "</table>\n",
              "</div>"
            ],
            "text/plain": [
              "    anumber   bnumber  duration       fee      type\n",
              "0  1.097724 -0.319205  1.697394  0.358047 -3.259819\n",
              "1  1.097724 -0.319205  0.250598 -0.376284 -3.259819\n",
              "2  1.097724 -0.319205  0.312045 -0.179525 -3.259819\n",
              "3  0.540323 -0.318117 -0.615244 -0.875207 -3.259819\n",
              "4  0.540323 -0.318117 -0.632003 -0.875207 -3.259819"
            ]
          },
          "metadata": {},
          "execution_count": 42
        },
        {
          "output_type": "stream",
          "name": "stdout",
          "text": [
            "time: 19.8 ms (started: 2021-10-11 14:37:20 +00:00)\n"
          ]
        }
      ]
    },
    {
      "cell_type": "code",
      "metadata": {
        "id": "uJnlos1T-IXO",
        "colab": {
          "base_uri": "https://localhost:8080/"
        },
        "outputId": "efe74e8e-92e9-4f30-858a-4e2a292273d0"
      },
      "source": [
        "# Show Final Dataset Description (Focus at Dtype)\n",
        "Final_Dataset.info()"
      ],
      "execution_count": 43,
      "outputs": [
        {
          "output_type": "stream",
          "name": "stdout",
          "text": [
            "<class 'pandas.core.frame.DataFrame'>\n",
            "RangeIndex: 11418 entries, 0 to 11417\n",
            "Data columns (total 5 columns):\n",
            " #   Column    Non-Null Count  Dtype  \n",
            "---  ------    --------------  -----  \n",
            " 0   anumber   11418 non-null  float64\n",
            " 1   bnumber   11418 non-null  float64\n",
            " 2   duration  11418 non-null  float64\n",
            " 3   fee       11418 non-null  float64\n",
            " 4   type      11418 non-null  float64\n",
            "dtypes: float64(5)\n",
            "memory usage: 446.1 KB\n",
            "time: 11.5 ms (started: 2021-10-11 14:37:20 +00:00)\n"
          ]
        }
      ]
    },
    {
      "cell_type": "code",
      "metadata": {
        "id": "jz-e6ybYUdjz",
        "colab": {
          "base_uri": "https://localhost:8080/",
          "height": 312
        },
        "outputId": "ee1df1ab-1265-4934-c009-83d10af8755d"
      },
      "source": [
        "# Displays Final_Dataset Statistics (Focus at std)\n",
        "Final_Dataset.describe()"
      ],
      "execution_count": 44,
      "outputs": [
        {
          "output_type": "execute_result",
          "data": {
            "text/html": [
              "<div>\n",
              "<style scoped>\n",
              "    .dataframe tbody tr th:only-of-type {\n",
              "        vertical-align: middle;\n",
              "    }\n",
              "\n",
              "    .dataframe tbody tr th {\n",
              "        vertical-align: top;\n",
              "    }\n",
              "\n",
              "    .dataframe thead th {\n",
              "        text-align: right;\n",
              "    }\n",
              "</style>\n",
              "<table border=\"1\" class=\"dataframe\">\n",
              "  <thead>\n",
              "    <tr style=\"text-align: right;\">\n",
              "      <th></th>\n",
              "      <th>anumber</th>\n",
              "      <th>bnumber</th>\n",
              "      <th>duration</th>\n",
              "      <th>fee</th>\n",
              "      <th>type</th>\n",
              "    </tr>\n",
              "  </thead>\n",
              "  <tbody>\n",
              "    <tr>\n",
              "      <th>count</th>\n",
              "      <td>1.141800e+04</td>\n",
              "      <td>1.141800e+04</td>\n",
              "      <td>1.141800e+04</td>\n",
              "      <td>1.141800e+04</td>\n",
              "      <td>1.141800e+04</td>\n",
              "    </tr>\n",
              "    <tr>\n",
              "      <th>mean</th>\n",
              "      <td>-2.250511e-15</td>\n",
              "      <td>1.410651e-14</td>\n",
              "      <td>-6.163206e-16</td>\n",
              "      <td>-7.016049e-15</td>\n",
              "      <td>3.629611e-14</td>\n",
              "    </tr>\n",
              "    <tr>\n",
              "      <th>std</th>\n",
              "      <td>1.000044e+00</td>\n",
              "      <td>1.000044e+00</td>\n",
              "      <td>1.000044e+00</td>\n",
              "      <td>1.000044e+00</td>\n",
              "      <td>1.000044e+00</td>\n",
              "    </tr>\n",
              "    <tr>\n",
              "      <th>min</th>\n",
              "      <td>-2.595056e+00</td>\n",
              "      <td>-1.770219e+00</td>\n",
              "      <td>-7.102079e-01</td>\n",
              "      <td>-1.212507e+00</td>\n",
              "      <td>-3.259819e+00</td>\n",
              "    </tr>\n",
              "    <tr>\n",
              "      <th>25%</th>\n",
              "      <td>-5.048034e-01</td>\n",
              "      <td>-9.353144e-01</td>\n",
              "      <td>-5.761419e-01</td>\n",
              "      <td>-9.314236e-01</td>\n",
              "      <td>-1.248220e+00</td>\n",
              "    </tr>\n",
              "    <tr>\n",
              "      <th>50%</th>\n",
              "      <td>-2.121680e-01</td>\n",
              "      <td>8.137480e-02</td>\n",
              "      <td>-3.918012e-01</td>\n",
              "      <td>-2.849318e-01</td>\n",
              "      <td>7.633788e-01</td>\n",
              "    </tr>\n",
              "    <tr>\n",
              "      <th>75%</th>\n",
              "      <td>1.055919e+00</td>\n",
              "      <td>8.027996e-01</td>\n",
              "      <td>8.860188e-02</td>\n",
              "      <td>7.831852e-01</td>\n",
              "      <td>7.633788e-01</td>\n",
              "    </tr>\n",
              "    <tr>\n",
              "      <th>max</th>\n",
              "      <td>1.515775e+00</td>\n",
              "      <td>1.755538e+00</td>\n",
              "      <td>4.814428e+00</td>\n",
              "      <td>2.736715e+00</td>\n",
              "      <td>1.769178e+00</td>\n",
              "    </tr>\n",
              "  </tbody>\n",
              "</table>\n",
              "</div>"
            ],
            "text/plain": [
              "            anumber       bnumber      duration           fee          type\n",
              "count  1.141800e+04  1.141800e+04  1.141800e+04  1.141800e+04  1.141800e+04\n",
              "mean  -2.250511e-15  1.410651e-14 -6.163206e-16 -7.016049e-15  3.629611e-14\n",
              "std    1.000044e+00  1.000044e+00  1.000044e+00  1.000044e+00  1.000044e+00\n",
              "min   -2.595056e+00 -1.770219e+00 -7.102079e-01 -1.212507e+00 -3.259819e+00\n",
              "25%   -5.048034e-01 -9.353144e-01 -5.761419e-01 -9.314236e-01 -1.248220e+00\n",
              "50%   -2.121680e-01  8.137480e-02 -3.918012e-01 -2.849318e-01  7.633788e-01\n",
              "75%    1.055919e+00  8.027996e-01  8.860188e-02  7.831852e-01  7.633788e-01\n",
              "max    1.515775e+00  1.755538e+00  4.814428e+00  2.736715e+00  1.769178e+00"
            ]
          },
          "metadata": {},
          "execution_count": 44
        },
        {
          "output_type": "stream",
          "name": "stdout",
          "text": [
            "time: 37.9 ms (started: 2021-10-11 14:37:20 +00:00)\n"
          ]
        }
      ]
    },
    {
      "cell_type": "code",
      "metadata": {
        "id": "CvTNvUuTxSK-",
        "colab": {
          "base_uri": "https://localhost:8080/"
        },
        "outputId": "7e150be7-12ee-4c4a-e3a8-35ea69892d88"
      },
      "source": [
        "# Persiapan Dataset\n",
        "X = Final_Dataset.to_numpy()\n",
        "y = df.iloc[:, 8] # Label Fraud\n",
        "y = np.array(y).astype(np.float)"
      ],
      "execution_count": 45,
      "outputs": [
        {
          "output_type": "stream",
          "name": "stdout",
          "text": [
            "time: 2.76 ms (started: 2021-10-11 14:37:20 +00:00)\n"
          ]
        }
      ]
    },
    {
      "cell_type": "code",
      "metadata": {
        "id": "6f2UMB4_ARl6",
        "colab": {
          "base_uri": "https://localhost:8080/"
        },
        "outputId": "6f1f8c8c-d735-42e3-82d5-c2decd6f96a8"
      },
      "source": [
        "X"
      ],
      "execution_count": 46,
      "outputs": [
        {
          "output_type": "execute_result",
          "data": {
            "text/plain": [
              "array([[ 1.09772399, -0.31920511,  1.6973936 ,  0.35804655, -3.25981941],\n",
              "       [ 1.09772399, -0.31920511,  0.25059827, -0.37628386, -3.25981941],\n",
              "       [ 1.09772399, -0.31920511,  0.31204517, -0.17952547, -3.25981941],\n",
              "       ...,\n",
              "       [ 1.09772399, -0.3322675 ,  0.64162403,  1.18372906,  1.76917832],\n",
              "       [ 1.09772399, -0.33117897, -0.69344965, -0.05303794,  1.76917832],\n",
              "       [ 1.09772399, -0.33117897, -0.67110532, -0.05303794,  1.76917832]])"
            ]
          },
          "metadata": {},
          "execution_count": 46
        },
        {
          "output_type": "stream",
          "name": "stdout",
          "text": [
            "time: 4.57 ms (started: 2021-10-11 14:37:20 +00:00)\n"
          ]
        }
      ]
    },
    {
      "cell_type": "code",
      "metadata": {
        "id": "T3KEMFflAVkb",
        "colab": {
          "base_uri": "https://localhost:8080/"
        },
        "outputId": "af7041cf-1872-4cde-bc41-2820d68ff35e"
      },
      "source": [
        "y"
      ],
      "execution_count": 47,
      "outputs": [
        {
          "output_type": "execute_result",
          "data": {
            "text/plain": [
              "array([0., 0., 0., ..., 0., 0., 0.])"
            ]
          },
          "metadata": {},
          "execution_count": 47
        },
        {
          "output_type": "stream",
          "name": "stdout",
          "text": [
            "time: 8.31 ms (started: 2021-10-11 14:37:20 +00:00)\n"
          ]
        }
      ]
    },
    {
      "cell_type": "markdown",
      "metadata": {
        "id": "l0kFRGc32Qyq"
      },
      "source": [
        "**4. DATA MODELING WITH DBSCAN**\n"
      ]
    },
    {
      "cell_type": "markdown",
      "metadata": {
        "id": "kCf3O8JdcaQt"
      },
      "source": [
        "Density-based spatial clustering of applications with noise (DBSCAN) is a well-known data clustering algorithm that is commonly used in data mining and machine learning. Based on a set of points (let’s think in a bidimensional space as exemplified in the figure), DBSCAN groups together points that are close to each other based on a distance measurement (usually Euclidean distance) and a minimum number of points. It also marks as outliers the points that are in low-density regions. (Towards Data Science, 2017)"
      ]
    },
    {
      "cell_type": "code",
      "metadata": {
        "id": "jeqfsqph0aea",
        "colab": {
          "base_uri": "https://localhost:8080/"
        },
        "outputId": "6f589f66-3f7a-4432-ccc1-c5f1f080e0b6"
      },
      "source": [
        "# DBSCAN Parameters\n",
        "dbscan  = DBSCAN(eps=1.67, min_samples=4, n_jobs=-1).fit(X)\n",
        "# Obtain the predicted labels and calculate number of clusters\n",
        "pred_labels = dbscan.labels_"
      ],
      "execution_count": 48,
      "outputs": [
        {
          "output_type": "stream",
          "name": "stdout",
          "text": [
            "time: 1.49 s (started: 2021-10-11 14:37:20 +00:00)\n"
          ]
        }
      ]
    },
    {
      "cell_type": "code",
      "metadata": {
        "id": "cR2t4fA-Rbtn",
        "colab": {
          "base_uri": "https://localhost:8080/"
        },
        "outputId": "d40d13fb-b374-4a92-91d0-4f0ab3153748"
      },
      "source": [
        "# Result of labeling by DBSCAN\n",
        "print(set(pred_labels))"
      ],
      "execution_count": 49,
      "outputs": [
        {
          "output_type": "stream",
          "name": "stdout",
          "text": [
            "{0, 1, 2}\n",
            "time: 4.54 ms (started: 2021-10-11 14:37:21 +00:00)\n"
          ]
        }
      ]
    },
    {
      "cell_type": "code",
      "metadata": {
        "id": "MGaiSbffQOLJ",
        "colab": {
          "base_uri": "https://localhost:8080/"
        },
        "outputId": "1985e241-ce19-48aa-b0f9-af4a820b3218"
      },
      "source": [
        "# Number of Clusters\n",
        "n_clusters = len(set(pred_labels)) - (1 if -1 in pred_labels else 0)\n",
        "# Print performance metrics for DBscan\n",
        "print(f'Estimated number of clusters: {n_clusters}')\n",
        "print(f'Silhouette Coefficient: {silhouette_score(X, pred_labels):0.3f}')"
      ],
      "execution_count": 50,
      "outputs": [
        {
          "output_type": "stream",
          "name": "stdout",
          "text": [
            "Estimated number of clusters: 3\n",
            "Silhouette Coefficient: 0.223\n",
            "time: 2.68 s (started: 2021-10-11 14:37:21 +00:00)\n"
          ]
        }
      ]
    },
    {
      "cell_type": "code",
      "metadata": {
        "id": "PjISXY7BHpgc",
        "colab": {
          "base_uri": "https://localhost:8080/"
        },
        "outputId": "9fc27118-d552-45fa-ee3e-a5439e293108"
      },
      "source": [
        "# Duplicate Final Dataset and Add Column Labels DBSCAN\n",
        "Final_Dataset_copy = Final_Dataset.copy()\n",
        "Final_Dataset_copy['labels_dbscan'] = pred_labels"
      ],
      "execution_count": 51,
      "outputs": [
        {
          "output_type": "stream",
          "name": "stdout",
          "text": [
            "time: 3.29 ms (started: 2021-10-11 14:37:24 +00:00)\n"
          ]
        }
      ]
    },
    {
      "cell_type": "code",
      "metadata": {
        "id": "HJlh-pJZHyH4",
        "colab": {
          "base_uri": "https://localhost:8080/",
          "height": 220
        },
        "outputId": "42d382eb-1a33-44fe-b257-3c3f31b72739"
      },
      "source": [
        "# Show Final Dataset Copy plus Labels DBSCAN \n",
        "Final_Dataset_copy.head()"
      ],
      "execution_count": 52,
      "outputs": [
        {
          "output_type": "execute_result",
          "data": {
            "text/html": [
              "<div>\n",
              "<style scoped>\n",
              "    .dataframe tbody tr th:only-of-type {\n",
              "        vertical-align: middle;\n",
              "    }\n",
              "\n",
              "    .dataframe tbody tr th {\n",
              "        vertical-align: top;\n",
              "    }\n",
              "\n",
              "    .dataframe thead th {\n",
              "        text-align: right;\n",
              "    }\n",
              "</style>\n",
              "<table border=\"1\" class=\"dataframe\">\n",
              "  <thead>\n",
              "    <tr style=\"text-align: right;\">\n",
              "      <th></th>\n",
              "      <th>anumber</th>\n",
              "      <th>bnumber</th>\n",
              "      <th>duration</th>\n",
              "      <th>fee</th>\n",
              "      <th>type</th>\n",
              "      <th>labels_dbscan</th>\n",
              "    </tr>\n",
              "  </thead>\n",
              "  <tbody>\n",
              "    <tr>\n",
              "      <th>0</th>\n",
              "      <td>1.097724</td>\n",
              "      <td>-0.319205</td>\n",
              "      <td>1.697394</td>\n",
              "      <td>0.358047</td>\n",
              "      <td>-3.259819</td>\n",
              "      <td>0</td>\n",
              "    </tr>\n",
              "    <tr>\n",
              "      <th>1</th>\n",
              "      <td>1.097724</td>\n",
              "      <td>-0.319205</td>\n",
              "      <td>0.250598</td>\n",
              "      <td>-0.376284</td>\n",
              "      <td>-3.259819</td>\n",
              "      <td>0</td>\n",
              "    </tr>\n",
              "    <tr>\n",
              "      <th>2</th>\n",
              "      <td>1.097724</td>\n",
              "      <td>-0.319205</td>\n",
              "      <td>0.312045</td>\n",
              "      <td>-0.179525</td>\n",
              "      <td>-3.259819</td>\n",
              "      <td>0</td>\n",
              "    </tr>\n",
              "    <tr>\n",
              "      <th>3</th>\n",
              "      <td>0.540323</td>\n",
              "      <td>-0.318117</td>\n",
              "      <td>-0.615244</td>\n",
              "      <td>-0.875207</td>\n",
              "      <td>-3.259819</td>\n",
              "      <td>0</td>\n",
              "    </tr>\n",
              "    <tr>\n",
              "      <th>4</th>\n",
              "      <td>0.540323</td>\n",
              "      <td>-0.318117</td>\n",
              "      <td>-0.632003</td>\n",
              "      <td>-0.875207</td>\n",
              "      <td>-3.259819</td>\n",
              "      <td>0</td>\n",
              "    </tr>\n",
              "  </tbody>\n",
              "</table>\n",
              "</div>"
            ],
            "text/plain": [
              "    anumber   bnumber  duration       fee      type  labels_dbscan\n",
              "0  1.097724 -0.319205  1.697394  0.358047 -3.259819              0\n",
              "1  1.097724 -0.319205  0.250598 -0.376284 -3.259819              0\n",
              "2  1.097724 -0.319205  0.312045 -0.179525 -3.259819              0\n",
              "3  0.540323 -0.318117 -0.615244 -0.875207 -3.259819              0\n",
              "4  0.540323 -0.318117 -0.632003 -0.875207 -3.259819              0"
            ]
          },
          "metadata": {},
          "execution_count": 52
        },
        {
          "output_type": "stream",
          "name": "stdout",
          "text": [
            "time: 21.5 ms (started: 2021-10-11 14:37:24 +00:00)\n"
          ]
        }
      ]
    },
    {
      "cell_type": "code",
      "metadata": {
        "id": "L79UaQtbI0aQ",
        "colab": {
          "base_uri": "https://localhost:8080/"
        },
        "outputId": "3809e0b4-31b9-49db-8f01-22ddcad29543"
      },
      "source": [
        "# Count Labels\n",
        "Final_Dataset_copy['labels_dbscan'].value_counts().sort_index()"
      ],
      "execution_count": 53,
      "outputs": [
        {
          "output_type": "execute_result",
          "data": {
            "text/plain": [
              "0       14\n",
              "1      153\n",
              "2    11251\n",
              "Name: labels_dbscan, dtype: int64"
            ]
          },
          "metadata": {},
          "execution_count": 53
        },
        {
          "output_type": "stream",
          "name": "stdout",
          "text": [
            "time: 7.41 ms (started: 2021-10-11 14:37:24 +00:00)\n"
          ]
        }
      ]
    },
    {
      "cell_type": "code",
      "metadata": {
        "id": "xDNvDluQ-nN1",
        "colab": {
          "base_uri": "https://localhost:8080/"
        },
        "outputId": "e38726fa-1551-4c7b-f3de-8b38431bba71"
      },
      "source": [
        "# Count observations in each cluster number\n",
        "counts = np.bincount(pred_labels[pred_labels >= 0])\n",
        "\n",
        "# Print the result\n",
        "print(counts)\n",
        "\n",
        "# Sort the number of cluster samples and take the top 3 smallest clusters\n",
        "smallest_clusters = np.argsort(counts)[:3]\n",
        "\n",
        "# Print the results \n",
        "print(f'The smallest clusters are clusters: {smallest_clusters}')"
      ],
      "execution_count": 54,
      "outputs": [
        {
          "output_type": "stream",
          "name": "stdout",
          "text": [
            "[   14   153 11251]\n",
            "The smallest clusters are clusters: [0 1 2]\n",
            "time: 6.86 ms (started: 2021-10-11 14:37:24 +00:00)\n"
          ]
        }
      ]
    },
    {
      "cell_type": "code",
      "metadata": {
        "id": "UuRc3E0K_TZ3",
        "colab": {
          "base_uri": "https://localhost:8080/"
        },
        "outputId": "52b7d001-678f-4f8d-acde-0659a1de2ff0"
      },
      "source": [
        "# Print the counts of the smallest clusters only\n",
        "print(f'Their counts are: {counts[smallest_clusters]}')"
      ],
      "execution_count": 55,
      "outputs": [
        {
          "output_type": "stream",
          "name": "stdout",
          "text": [
            "Their counts are: [   14   153 11251]\n",
            "time: 2.42 ms (started: 2021-10-11 14:37:24 +00:00)\n"
          ]
        }
      ]
    },
    {
      "cell_type": "code",
      "metadata": {
        "id": "cIbadKip_h8f",
        "colab": {
          "base_uri": "https://localhost:8080/"
        },
        "outputId": "33e729a4-cdfb-4904-840f-9fc5b26d7010"
      },
      "source": [
        "# Create a condition flagging fraud for the smallest clusters \n",
        "# When label 0, 3, or 1 then change into 1 (Fraud), else change into 0 (Non Fraud)\n",
        "Final_Dataset_copy['labels_dbscan'] = np.where((Final_Dataset_copy['labels_dbscan'].isin([0, 3, 1])), 1 , 0)"
      ],
      "execution_count": 56,
      "outputs": [
        {
          "output_type": "stream",
          "name": "stdout",
          "text": [
            "time: 2.96 ms (started: 2021-10-11 14:37:24 +00:00)\n"
          ]
        }
      ]
    },
    {
      "cell_type": "code",
      "metadata": {
        "id": "v3GuT2s9IVV-",
        "colab": {
          "base_uri": "https://localhost:8080/",
          "height": 434
        },
        "outputId": "c2f400b4-9018-4a6b-f10d-7c110c32fd89"
      },
      "source": [
        "#Show Final_Dataset_copy with Final labels_dbscan \n",
        "Final_Dataset_copy"
      ],
      "execution_count": 57,
      "outputs": [
        {
          "output_type": "execute_result",
          "data": {
            "text/html": [
              "<div>\n",
              "<style scoped>\n",
              "    .dataframe tbody tr th:only-of-type {\n",
              "        vertical-align: middle;\n",
              "    }\n",
              "\n",
              "    .dataframe tbody tr th {\n",
              "        vertical-align: top;\n",
              "    }\n",
              "\n",
              "    .dataframe thead th {\n",
              "        text-align: right;\n",
              "    }\n",
              "</style>\n",
              "<table border=\"1\" class=\"dataframe\">\n",
              "  <thead>\n",
              "    <tr style=\"text-align: right;\">\n",
              "      <th></th>\n",
              "      <th>anumber</th>\n",
              "      <th>bnumber</th>\n",
              "      <th>duration</th>\n",
              "      <th>fee</th>\n",
              "      <th>type</th>\n",
              "      <th>labels_dbscan</th>\n",
              "    </tr>\n",
              "  </thead>\n",
              "  <tbody>\n",
              "    <tr>\n",
              "      <th>0</th>\n",
              "      <td>1.097724</td>\n",
              "      <td>-0.319205</td>\n",
              "      <td>1.697394</td>\n",
              "      <td>0.358047</td>\n",
              "      <td>-3.259819</td>\n",
              "      <td>1</td>\n",
              "    </tr>\n",
              "    <tr>\n",
              "      <th>1</th>\n",
              "      <td>1.097724</td>\n",
              "      <td>-0.319205</td>\n",
              "      <td>0.250598</td>\n",
              "      <td>-0.376284</td>\n",
              "      <td>-3.259819</td>\n",
              "      <td>1</td>\n",
              "    </tr>\n",
              "    <tr>\n",
              "      <th>2</th>\n",
              "      <td>1.097724</td>\n",
              "      <td>-0.319205</td>\n",
              "      <td>0.312045</td>\n",
              "      <td>-0.179525</td>\n",
              "      <td>-3.259819</td>\n",
              "      <td>1</td>\n",
              "    </tr>\n",
              "    <tr>\n",
              "      <th>3</th>\n",
              "      <td>0.540323</td>\n",
              "      <td>-0.318117</td>\n",
              "      <td>-0.615244</td>\n",
              "      <td>-0.875207</td>\n",
              "      <td>-3.259819</td>\n",
              "      <td>1</td>\n",
              "    </tr>\n",
              "    <tr>\n",
              "      <th>4</th>\n",
              "      <td>0.540323</td>\n",
              "      <td>-0.318117</td>\n",
              "      <td>-0.632003</td>\n",
              "      <td>-0.875207</td>\n",
              "      <td>-3.259819</td>\n",
              "      <td>1</td>\n",
              "    </tr>\n",
              "    <tr>\n",
              "      <th>...</th>\n",
              "      <td>...</td>\n",
              "      <td>...</td>\n",
              "      <td>...</td>\n",
              "      <td>...</td>\n",
              "      <td>...</td>\n",
              "      <td>...</td>\n",
              "    </tr>\n",
              "    <tr>\n",
              "      <th>11413</th>\n",
              "      <td>1.097724</td>\n",
              "      <td>-0.332268</td>\n",
              "      <td>0.742174</td>\n",
              "      <td>1.183729</td>\n",
              "      <td>1.769178</td>\n",
              "      <td>0</td>\n",
              "    </tr>\n",
              "    <tr>\n",
              "      <th>11414</th>\n",
              "      <td>1.097724</td>\n",
              "      <td>-0.332268</td>\n",
              "      <td>1.971112</td>\n",
              "      <td>1.601841</td>\n",
              "      <td>1.769178</td>\n",
              "      <td>0</td>\n",
              "    </tr>\n",
              "    <tr>\n",
              "      <th>11415</th>\n",
              "      <td>1.097724</td>\n",
              "      <td>-0.332268</td>\n",
              "      <td>0.641624</td>\n",
              "      <td>1.183729</td>\n",
              "      <td>1.769178</td>\n",
              "      <td>0</td>\n",
              "    </tr>\n",
              "    <tr>\n",
              "      <th>11416</th>\n",
              "      <td>1.097724</td>\n",
              "      <td>-0.331179</td>\n",
              "      <td>-0.693450</td>\n",
              "      <td>-0.053038</td>\n",
              "      <td>1.769178</td>\n",
              "      <td>0</td>\n",
              "    </tr>\n",
              "    <tr>\n",
              "      <th>11417</th>\n",
              "      <td>1.097724</td>\n",
              "      <td>-0.331179</td>\n",
              "      <td>-0.671105</td>\n",
              "      <td>-0.053038</td>\n",
              "      <td>1.769178</td>\n",
              "      <td>0</td>\n",
              "    </tr>\n",
              "  </tbody>\n",
              "</table>\n",
              "<p>11418 rows × 6 columns</p>\n",
              "</div>"
            ],
            "text/plain": [
              "        anumber   bnumber  duration       fee      type  labels_dbscan\n",
              "0      1.097724 -0.319205  1.697394  0.358047 -3.259819              1\n",
              "1      1.097724 -0.319205  0.250598 -0.376284 -3.259819              1\n",
              "2      1.097724 -0.319205  0.312045 -0.179525 -3.259819              1\n",
              "3      0.540323 -0.318117 -0.615244 -0.875207 -3.259819              1\n",
              "4      0.540323 -0.318117 -0.632003 -0.875207 -3.259819              1\n",
              "...         ...       ...       ...       ...       ...            ...\n",
              "11413  1.097724 -0.332268  0.742174  1.183729  1.769178              0\n",
              "11414  1.097724 -0.332268  1.971112  1.601841  1.769178              0\n",
              "11415  1.097724 -0.332268  0.641624  1.183729  1.769178              0\n",
              "11416  1.097724 -0.331179 -0.693450 -0.053038  1.769178              0\n",
              "11417  1.097724 -0.331179 -0.671105 -0.053038  1.769178              0\n",
              "\n",
              "[11418 rows x 6 columns]"
            ]
          },
          "metadata": {},
          "execution_count": 57
        },
        {
          "output_type": "stream",
          "name": "stdout",
          "text": [
            "time: 31.2 ms (started: 2021-10-11 14:37:24 +00:00)\n"
          ]
        }
      ]
    },
    {
      "cell_type": "code",
      "metadata": {
        "id": "hdqlwu4EIdw1",
        "colab": {
          "base_uri": "https://localhost:8080/"
        },
        "outputId": "9654cbc8-90b6-4053-aa7f-8e6ae42a5858"
      },
      "source": [
        "# Count Fraud and Non Fraud from Final Dataset Copy\n",
        "Final_Dataset_copy['labels_dbscan'].value_counts()"
      ],
      "execution_count": 58,
      "outputs": [
        {
          "output_type": "execute_result",
          "data": {
            "text/plain": [
              "0    11251\n",
              "1      167\n",
              "Name: labels_dbscan, dtype: int64"
            ]
          },
          "metadata": {},
          "execution_count": 58
        },
        {
          "output_type": "stream",
          "name": "stdout",
          "text": [
            "time: 6.66 ms (started: 2021-10-11 14:37:24 +00:00)\n"
          ]
        }
      ]
    },
    {
      "cell_type": "markdown",
      "metadata": {
        "id": "aQu_jH-vwI82"
      },
      "source": [
        "**5. DATA VISUALIZATION WITH PCA**"
      ]
    },
    {
      "cell_type": "code",
      "metadata": {
        "id": "8EJ78RCbFhzU",
        "colab": {
          "base_uri": "https://localhost:8080/"
        },
        "outputId": "71b3e741-c366-4bb9-a8c7-897abaebebfe"
      },
      "source": [
        "plotX = Final_Dataset_copy"
      ],
      "execution_count": 59,
      "outputs": [
        {
          "output_type": "stream",
          "name": "stdout",
          "text": [
            "time: 1.44 ms (started: 2021-10-11 14:37:24 +00:00)\n"
          ]
        }
      ]
    },
    {
      "cell_type": "code",
      "metadata": {
        "id": "T4bQDj3iIMtF",
        "colab": {
          "base_uri": "https://localhost:8080/"
        },
        "outputId": "e940946f-90b5-40e6-9efb-ff69b062fa7c"
      },
      "source": [
        "pca_2d = PCA(n_components=2)"
      ],
      "execution_count": 60,
      "outputs": [
        {
          "output_type": "stream",
          "name": "stdout",
          "text": [
            "time: 1.48 ms (started: 2021-10-11 14:37:24 +00:00)\n"
          ]
        }
      ]
    },
    {
      "cell_type": "code",
      "metadata": {
        "id": "drcxY-clNQq_",
        "colab": {
          "base_uri": "https://localhost:8080/"
        },
        "outputId": "43a54962-bedc-4499-bdff-ac25671826cb"
      },
      "source": [
        "PCs_2d = pd.DataFrame(pca_2d.fit_transform(plotX.drop([\"labels_dbscan\"], axis=1)))"
      ],
      "execution_count": 61,
      "outputs": [
        {
          "output_type": "stream",
          "name": "stdout",
          "text": [
            "time: 59 ms (started: 2021-10-11 14:37:24 +00:00)\n"
          ]
        }
      ]
    },
    {
      "cell_type": "code",
      "metadata": {
        "id": "c8E0ylMXUuhh",
        "colab": {
          "base_uri": "https://localhost:8080/"
        },
        "outputId": "586eb62e-08e8-4154-ca44-96af8527692d"
      },
      "source": [
        "PCs_2d.columns = [\"PC1_2d\", \"PC2_2d\"]"
      ],
      "execution_count": 62,
      "outputs": [
        {
          "output_type": "stream",
          "name": "stdout",
          "text": [
            "time: 1.62 ms (started: 2021-10-11 14:37:24 +00:00)\n"
          ]
        }
      ]
    },
    {
      "cell_type": "code",
      "metadata": {
        "id": "NdwW6ukhXesb",
        "colab": {
          "base_uri": "https://localhost:8080/"
        },
        "outputId": "486aacf6-1edd-43fa-843e-e7aad73cd999"
      },
      "source": [
        "plotX = pd.concat([plotX,PCs_2d], axis=1, join='inner')"
      ],
      "execution_count": 63,
      "outputs": [
        {
          "output_type": "stream",
          "name": "stdout",
          "text": [
            "time: 5.4 ms (started: 2021-10-11 14:37:24 +00:00)\n"
          ]
        }
      ]
    },
    {
      "cell_type": "code",
      "metadata": {
        "id": "oMmR7ICaZGwj",
        "colab": {
          "base_uri": "https://localhost:8080/"
        },
        "outputId": "41bdfe25-d8e0-4154-9b76-63f003b681d8"
      },
      "source": [
        "cluster0 = plotX[plotX[\"labels_dbscan\"] == 0]\n",
        "cluster1 = plotX[plotX[\"labels_dbscan\"] == 1]"
      ],
      "execution_count": 64,
      "outputs": [
        {
          "output_type": "stream",
          "name": "stdout",
          "text": [
            "time: 16.4 ms (started: 2021-10-11 14:37:24 +00:00)\n"
          ]
        }
      ]
    },
    {
      "cell_type": "code",
      "metadata": {
        "id": "19EJz-XmY32T",
        "colab": {
          "base_uri": "https://localhost:8080/",
          "height": 34
        },
        "outputId": "507c3c96-2d96-4d56-ebbe-c56102cd11f2"
      },
      "source": [
        "init_notebook_mode(connected=True)"
      ],
      "execution_count": 65,
      "outputs": [
        {
          "output_type": "display_data",
          "data": {
            "text/html": [
              "        <script type=\"text/javascript\">\n",
              "        window.PlotlyConfig = {MathJaxConfig: 'local'};\n",
              "        if (window.MathJax) {MathJax.Hub.Config({SVG: {font: \"STIX-Web\"}});}\n",
              "        if (typeof require !== 'undefined') {\n",
              "        require.undef(\"plotly\");\n",
              "        requirejs.config({\n",
              "            paths: {\n",
              "                'plotly': ['https://cdn.plot.ly/plotly-latest.min']\n",
              "            }\n",
              "        });\n",
              "        require(['plotly'], function(Plotly) {\n",
              "            window._Plotly = Plotly;\n",
              "        });\n",
              "        }\n",
              "        </script>\n",
              "        "
            ]
          },
          "metadata": {}
        },
        {
          "output_type": "stream",
          "name": "stdout",
          "text": [
            "time: 5.83 ms (started: 2021-10-11 14:37:24 +00:00)\n"
          ]
        }
      ]
    },
    {
      "cell_type": "code",
      "metadata": {
        "id": "kX3akTE2Zd1p",
        "colab": {
          "base_uri": "https://localhost:8080/",
          "height": 35
        },
        "outputId": "1aab21dd-d73a-43fe-b48e-25269363192b"
      },
      "source": [
        "#trace1 is for 'Cluster 0'\n",
        "trace1 = go.Scatter(\n",
        "                    x = cluster0[\"PC1_2d\"],\n",
        "                    y = cluster0[\"PC2_2d\"],\n",
        "                    mode = \"markers\",\n",
        "                    name = \"Non Fraud\",\n",
        "                    marker = dict(color = 'rgba(0, 0, 0, 0.8)'),\n",
        "                    text = None)\n",
        "\n",
        "#trace2 is for 'Cluster 1'\n",
        "trace2 = go.Scatter(\n",
        "                    x = cluster1[\"PC1_2d\"],\n",
        "                    y = cluster1[\"PC2_2d\"],\n",
        "                    mode = \"markers\",\n",
        "                    name = \"Fraud\",\n",
        "                    marker = dict(color = 'rgba(240, 52, 52, 0.8)'),\n",
        "                    text = None)\n",
        "\n",
        "data = [trace1, trace2]\n",
        "\n",
        "title = \"DBSCAN - PCA\"\n",
        "\n",
        "layout = dict(title = title,\n",
        "              xaxis= dict(title= 'PC1',ticklen= 5,zeroline= False),\n",
        "              yaxis= dict(title= 'PC2',ticklen= 5,zeroline= False)\n",
        "             )\n",
        "\n",
        "#Plot and save html\n",
        "plotly.offline.plot({\"data\": data,\n",
        "                     \"layout\": layout},\n",
        "                     auto_open=True)"
      ],
      "execution_count": 66,
      "outputs": [
        {
          "output_type": "execute_result",
          "data": {
            "application/vnd.google.colaboratory.intrinsic+json": {
              "type": "string"
            },
            "text/plain": [
              "'temp-plot.html'"
            ]
          },
          "metadata": {},
          "execution_count": 66
        },
        {
          "output_type": "stream",
          "name": "stdout",
          "text": [
            "time: 1.25 s (started: 2021-10-11 14:37:24 +00:00)\n"
          ]
        }
      ]
    },
    {
      "cell_type": "markdown",
      "metadata": {
        "id": "ReNhJtOKfNM8"
      },
      "source": [
        "Download and Open File temp-plot.html to see the Graph, please screenshoot and Place in here.\n",
        "\n",
        "![](https://raw.githubusercontent.com/multimediary/portfolio-data-science/main/screenshots/fraud-modeling-CDR-DBSCAN.jpg)    "
      ]
    },
    {
      "cell_type": "markdown",
      "metadata": {
        "id": "GHRJdugewQgj"
      },
      "source": [
        "**6. DATA EVALUATION WITH CONFUSION MATRIX**"
      ]
    },
    {
      "cell_type": "code",
      "metadata": {
        "id": "07SkEFCTmj3a",
        "colab": {
          "base_uri": "https://localhost:8080/",
          "height": 301
        },
        "outputId": "c66524bb-d4f1-4239-d583-b21203390721"
      },
      "source": [
        "C = confusion_matrix(df[\"label\"],plotX[\"labels_dbscan\"])\n",
        "\n",
        "# Plot confusion matrix\n",
        "plt.imshow(C,interpolation='none',cmap='Blues')\n",
        "for (i, j), z in np.ndenumerate(C):\n",
        "    plt.text(j, i, z, ha='center', va='center')\n",
        "plt.xlabel(\"labels_dbscan\")\n",
        "plt.ylabel(\"label_fraud\")\n",
        "plt.show()"
      ],
      "execution_count": 67,
      "outputs": [
        {
          "output_type": "display_data",
          "data": {
            "image/png": "[encoded data removed]",
            "text/plain": [
              "<Figure size 432x288 with 1 Axes>"
            ]
          },
          "metadata": {
            "needs_background": "light"
          }
        },
        {
          "output_type": "stream",
          "name": "stdout",
          "text": [
            "time: 206 ms (started: 2021-10-11 14:37:26 +00:00)\n"
          ]
        }
      ]
    },
    {
      "cell_type": "code",
      "metadata": {
        "id": "7Ka9UgbCm4rh",
        "colab": {
          "base_uri": "https://localhost:8080/"
        },
        "outputId": "34e791e4-d64e-4c3d-937d-b2da8335796b"
      },
      "source": [
        "print(C)"
      ],
      "execution_count": 68,
      "outputs": [
        {
          "output_type": "stream",
          "name": "stdout",
          "text": [
            "[[10854   167]\n",
            " [  397     0]]\n",
            "time: 2.24 ms (started: 2021-10-11 14:37:26 +00:00)\n"
          ]
        }
      ]
    },
    {
      "cell_type": "code",
      "metadata": {
        "id": "fdm51Dbom72l",
        "colab": {
          "base_uri": "https://localhost:8080/"
        },
        "outputId": "9de78793-92ae-409e-8599-194f61b1f3f0"
      },
      "source": [
        "# Nilai Accuracy, Precision, Recall, and F1 Score\n",
        "print(\"Accuracy Score of DBSCAN\", accuracy_score(df[\"label\"], plotX[\"labels_dbscan\"]))\n",
        "print(\"Recall of DBSCAN\", recall_score(df[\"label\"], plotX[\"labels_dbscan\"],average=None, zero_division=1))\n",
        "print(\"Precision Score of DBSCAN\", precision_score(df[\"label\"], plotX[\"labels_dbscan\"],average=None, zero_division=1))\n",
        "print(\"F1 Score of DBSCAN\", f1_score(df[\"label\"], plotX[\"labels_dbscan\"],average=None, zero_division=1))"
      ],
      "execution_count": 69,
      "outputs": [
        {
          "output_type": "stream",
          "name": "stdout",
          "text": [
            "Accuracy Score of DBSCAN 0.9506043089858118\n",
            "Recall of DBSCAN [0.98484711 0.        ]\n",
            "Precision Score of DBSCAN [0.96471425 0.        ]\n",
            "F1 Score of DBSCAN [0.97467672 0.        ]\n",
            "time: 29.7 ms (started: 2021-10-11 14:37:26 +00:00)\n"
          ]
        }
      ]
    }
  ]
}