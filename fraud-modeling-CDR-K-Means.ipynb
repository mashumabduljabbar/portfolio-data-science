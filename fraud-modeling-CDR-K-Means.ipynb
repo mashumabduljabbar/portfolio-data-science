{
  "nbformat": 4,
  "nbformat_minor": 0,
  "metadata": {
    "kernelspec": {
      "display_name": "Python 3",
      "language": "python",
      "name": "python3"
    },
    "language_info": {
      "codemirror_mode": {
        "name": "ipython",
        "version": 3
      },
      "file_extension": ".py",
      "mimetype": "text/x-python",
      "name": "python",
      "nbconvert_exporter": "python",
      "pygments_lexer": "ipython3",
      "version": "3.7.3"
    },
    "colab": {
      "name": "K-Means.ipynb",
      "provenance": [],
      "collapsed_sections": [],
      "include_colab_link": true
    }
  },
  "cells": [
    {
      "cell_type": "markdown",
      "metadata": {
        "id": "view-in-github",
        "colab_type": "text"
      },
      "source": [
        "<a href=\"https://colab.research.google.com/github/multimediary/portfolio-data-science/blob/main/fraud-modeling-CDR-K-Means.ipynb\" target=\"_parent\"><img src=\"https://colab.research.google.com/assets/colab-badge.svg\" alt=\"Open In Colab\"/></a>"
      ]
    },
    {
      "cell_type": "markdown",
      "metadata": {
        "id": "u4iY8H7VwvFa"
      },
      "source": [
        "**1. IMPORT LIBRARY**"
      ]
    },
    {
      "cell_type": "code",
      "metadata": {
        "id": "_h-zjM9KaxLi",
        "colab": {
          "base_uri": "https://localhost:8080/"
        },
        "outputId": "a7532d94-5cd4-4442-a945-9d17ea2921d9"
      },
      "source": [
        "# For ignore warning\n",
        "import warnings\n",
        "warnings.filterwarnings('ignore')\n",
        "warnings.simplefilter('ignore')\n",
        "\n",
        "# Library For code execution time\n",
        "!pip install ipython-autotime\n",
        "%load_ext autotime\n",
        "\n",
        "# Library For Preprocessing\n",
        "import pandas as pd\n",
        "import numpy as np\n",
        "from sklearn.preprocessing import MinMaxScaler, LabelEncoder, StandardScaler\n",
        "\n",
        "# Library For Clustering\n",
        "from sklearn.cluster import KMeans\n",
        "\n",
        "# Library For Visualization\n",
        "import plotly\n",
        "import plotly.graph_objs as go\n",
        "from plotly.offline import download_plotlyjs, init_notebook_mode, plot, iplot\n",
        "from sklearn.decomposition import PCA\n",
        "import matplotlib.pyplot as plt\n",
        "\n",
        "# Library For Evaluation\n",
        "from sklearn.metrics import confusion_matrix, accuracy_score, precision_score, recall_score, f1_score"
      ],
      "execution_count": 1,
      "outputs": [
        {
          "output_type": "stream",
          "name": "stdout",
          "text": [
            "Collecting ipython-autotime\n",
            "  Downloading ipython_autotime-0.3.1-py2.py3-none-any.whl (6.8 kB)\n",
            "Requirement already satisfied: ipython in /usr/local/lib/python3.7/dist-packages (from ipython-autotime) (5.5.0)\n",
            "Requirement already satisfied: decorator in /usr/local/lib/python3.7/dist-packages (from ipython->ipython-autotime) (4.4.2)\n",
            "Requirement already satisfied: traitlets>=4.2 in /usr/local/lib/python3.7/dist-packages (from ipython->ipython-autotime) (5.1.0)\n",
            "Requirement already satisfied: prompt-toolkit<2.0.0,>=1.0.4 in /usr/local/lib/python3.7/dist-packages (from ipython->ipython-autotime) (1.0.18)\n",
            "Requirement already satisfied: setuptools>=18.5 in /usr/local/lib/python3.7/dist-packages (from ipython->ipython-autotime) (57.4.0)\n",
            "Requirement already satisfied: pickleshare in /usr/local/lib/python3.7/dist-packages (from ipython->ipython-autotime) (0.7.5)\n",
            "Requirement already satisfied: simplegeneric>0.8 in /usr/local/lib/python3.7/dist-packages (from ipython->ipython-autotime) (0.8.1)\n",
            "Requirement already satisfied: pexpect in /usr/local/lib/python3.7/dist-packages (from ipython->ipython-autotime) (4.8.0)\n",
            "Requirement already satisfied: pygments in /usr/local/lib/python3.7/dist-packages (from ipython->ipython-autotime) (2.6.1)\n",
            "Requirement already satisfied: six>=1.9.0 in /usr/local/lib/python3.7/dist-packages (from prompt-toolkit<2.0.0,>=1.0.4->ipython->ipython-autotime) (1.15.0)\n",
            "Requirement already satisfied: wcwidth in /usr/local/lib/python3.7/dist-packages (from prompt-toolkit<2.0.0,>=1.0.4->ipython->ipython-autotime) (0.2.5)\n",
            "Requirement already satisfied: ptyprocess>=0.5 in /usr/local/lib/python3.7/dist-packages (from pexpect->ipython->ipython-autotime) (0.7.0)\n",
            "Installing collected packages: ipython-autotime\n",
            "Successfully installed ipython-autotime-0.3.1\n",
            "time: 1.65 s (started: 2021-10-11 14:32:17 +00:00)\n"
          ]
        }
      ]
    },
    {
      "cell_type": "markdown",
      "metadata": {
        "id": "x_XuR48GpqP9"
      },
      "source": [
        "**2. DATA GATHERING**"
      ]
    },
    {
      "cell_type": "code",
      "metadata": {
        "id": "FY8kYBHywWfO",
        "colab": {
          "base_uri": "https://localhost:8080/",
          "height": 220
        },
        "outputId": "c073d5a9-8d4b-44ce-e4f6-e49c5b9f07dd"
      },
      "source": [
        "# Read Dataset with Pandas from Git\n",
        "df = pd.read_csv(\"https://github.com/multimediary/dataset/blob/master/dataset.csv?raw=true\")\n",
        "df.head()"
      ],
      "execution_count": 2,
      "outputs": [
        {
          "output_type": "execute_result",
          "data": {
            "text/html": [
              "<div>\n",
              "<style scoped>\n",
              "    .dataframe tbody tr th:only-of-type {\n",
              "        vertical-align: middle;\n",
              "    }\n",
              "\n",
              "    .dataframe tbody tr th {\n",
              "        vertical-align: top;\n",
              "    }\n",
              "\n",
              "    .dataframe thead th {\n",
              "        text-align: right;\n",
              "    }\n",
              "</style>\n",
              "<table border=\"1\" class=\"dataframe\">\n",
              "  <thead>\n",
              "    <tr style=\"text-align: right;\">\n",
              "      <th></th>\n",
              "      <th>starttime</th>\n",
              "      <th>stoptime</th>\n",
              "      <th>anumber</th>\n",
              "      <th>bnumber</th>\n",
              "      <th>duration</th>\n",
              "      <th>fee</th>\n",
              "      <th>destination</th>\n",
              "      <th>type</th>\n",
              "      <th>label</th>\n",
              "    </tr>\n",
              "  </thead>\n",
              "  <tbody>\n",
              "    <tr>\n",
              "      <th>0</th>\n",
              "      <td>2018-05-02 09:13:24</td>\n",
              "      <td>2018-05-02 09:20:38</td>\n",
              "      <td>62626292960</td>\n",
              "      <td>1500200</td>\n",
              "      <td>434</td>\n",
              "      <td>6000</td>\n",
              "      <td>callcenter</td>\n",
              "      <td>Injapati</td>\n",
              "      <td>0</td>\n",
              "    </tr>\n",
              "    <tr>\n",
              "      <th>1</th>\n",
              "      <td>2018-05-18 16:49:19</td>\n",
              "      <td>2018-05-18 16:52:11</td>\n",
              "      <td>62626292960</td>\n",
              "      <td>1500200</td>\n",
              "      <td>172</td>\n",
              "      <td>2250</td>\n",
              "      <td>callcenter</td>\n",
              "      <td>Injapati</td>\n",
              "      <td>0</td>\n",
              "    </tr>\n",
              "    <tr>\n",
              "      <th>2</th>\n",
              "      <td>2018-05-18 18:15:17</td>\n",
              "      <td>2018-05-18 18:18:20</td>\n",
              "      <td>62626292960</td>\n",
              "      <td>1500200</td>\n",
              "      <td>183</td>\n",
              "      <td>3000</td>\n",
              "      <td>callcenter</td>\n",
              "      <td>Injapati</td>\n",
              "      <td>0</td>\n",
              "    </tr>\n",
              "    <tr>\n",
              "      <th>3</th>\n",
              "      <td>2018-05-31 08:52:46</td>\n",
              "      <td>2018-05-31 08:53:03</td>\n",
              "      <td>62626292253</td>\n",
              "      <td>1500788</td>\n",
              "      <td>17</td>\n",
              "      <td>750</td>\n",
              "      <td>callcenter</td>\n",
              "      <td>Injapati</td>\n",
              "      <td>0</td>\n",
              "    </tr>\n",
              "    <tr>\n",
              "      <th>4</th>\n",
              "      <td>2018-05-31 08:53:10</td>\n",
              "      <td>2018-05-31 08:53:24</td>\n",
              "      <td>62626292253</td>\n",
              "      <td>1500788</td>\n",
              "      <td>14</td>\n",
              "      <td>750</td>\n",
              "      <td>callcenter</td>\n",
              "      <td>Injapati</td>\n",
              "      <td>0</td>\n",
              "    </tr>\n",
              "  </tbody>\n",
              "</table>\n",
              "</div>"
            ],
            "text/plain": [
              "             starttime             stoptime  ...      type label\n",
              "0  2018-05-02 09:13:24  2018-05-02 09:20:38  ...  Injapati     0\n",
              "1  2018-05-18 16:49:19  2018-05-18 16:52:11  ...  Injapati     0\n",
              "2  2018-05-18 18:15:17  2018-05-18 18:18:20  ...  Injapati     0\n",
              "3  2018-05-31 08:52:46  2018-05-31 08:53:03  ...  Injapati     0\n",
              "4  2018-05-31 08:53:10  2018-05-31 08:53:24  ...  Injapati     0\n",
              "\n",
              "[5 rows x 9 columns]"
            ]
          },
          "metadata": {},
          "execution_count": 2
        },
        {
          "output_type": "stream",
          "name": "stdout",
          "text": [
            "time: 1.04 s (started: 2021-10-11 14:32:19 +00:00)\n"
          ]
        }
      ]
    },
    {
      "cell_type": "code",
      "metadata": {
        "id": "vj6eSmf5yOSR",
        "colab": {
          "base_uri": "https://localhost:8080/"
        },
        "outputId": "381c8bf3-f75a-4a5d-a542-deef7055ad22"
      },
      "source": [
        "# Show Dataset Description (Focus at Dtype)\n",
        "df.info()"
      ],
      "execution_count": 3,
      "outputs": [
        {
          "output_type": "stream",
          "name": "stdout",
          "text": [
            "<class 'pandas.core.frame.DataFrame'>\n",
            "RangeIndex: 11418 entries, 0 to 11417\n",
            "Data columns (total 9 columns):\n",
            " #   Column       Non-Null Count  Dtype \n",
            "---  ------       --------------  ----- \n",
            " 0   starttime    11418 non-null  object\n",
            " 1   stoptime     11418 non-null  object\n",
            " 2   anumber      11418 non-null  int64 \n",
            " 3   bnumber      11418 non-null  object\n",
            " 4   duration     11418 non-null  int64 \n",
            " 5   fee          11418 non-null  int64 \n",
            " 6   destination  11418 non-null  object\n",
            " 7   type         11418 non-null  object\n",
            " 8   label        11418 non-null  int64 \n",
            "dtypes: int64(4), object(5)\n",
            "memory usage: 803.0+ KB\n",
            "time: 16.1 ms (started: 2021-10-11 14:32:20 +00:00)\n"
          ]
        }
      ]
    },
    {
      "cell_type": "code",
      "metadata": {
        "id": "atMYvtJYC9t5",
        "colab": {
          "base_uri": "https://localhost:8080/",
          "height": 312
        },
        "outputId": "5ee0ccff-7c28-4bc4-a211-0ec95c3136b8"
      },
      "source": [
        "# Displays Dataframe Statistics (Focus at std)\n",
        "df.describe()"
      ],
      "execution_count": 4,
      "outputs": [
        {
          "output_type": "execute_result",
          "data": {
            "text/html": [
              "<div>\n",
              "<style scoped>\n",
              "    .dataframe tbody tr th:only-of-type {\n",
              "        vertical-align: middle;\n",
              "    }\n",
              "\n",
              "    .dataframe tbody tr th {\n",
              "        vertical-align: top;\n",
              "    }\n",
              "\n",
              "    .dataframe thead th {\n",
              "        text-align: right;\n",
              "    }\n",
              "</style>\n",
              "<table border=\"1\" class=\"dataframe\">\n",
              "  <thead>\n",
              "    <tr style=\"text-align: right;\">\n",
              "      <th></th>\n",
              "      <th>anumber</th>\n",
              "      <th>duration</th>\n",
              "      <th>fee</th>\n",
              "      <th>label</th>\n",
              "    </tr>\n",
              "  </thead>\n",
              "  <tbody>\n",
              "    <tr>\n",
              "      <th>count</th>\n",
              "      <td>1.141800e+04</td>\n",
              "      <td>11418.000000</td>\n",
              "      <td>1.141800e+04</td>\n",
              "      <td>11418.000000</td>\n",
              "    </tr>\n",
              "    <tr>\n",
              "      <th>mean</th>\n",
              "      <td>6.262625e+10</td>\n",
              "      <td>154.111841</td>\n",
              "      <td>1.215145e+04</td>\n",
              "      <td>0.034770</td>\n",
              "    </tr>\n",
              "    <tr>\n",
              "      <th>std</th>\n",
              "      <td>3.985148e+04</td>\n",
              "      <td>410.204092</td>\n",
              "      <td>4.131463e+04</td>\n",
              "      <td>0.183204</td>\n",
              "    </tr>\n",
              "    <tr>\n",
              "      <th>min</th>\n",
              "      <td>6.262621e+10</td>\n",
              "      <td>0.000000</td>\n",
              "      <td>4.300000e+01</td>\n",
              "      <td>0.000000</td>\n",
              "    </tr>\n",
              "    <tr>\n",
              "      <th>25%</th>\n",
              "      <td>6.262621e+10</td>\n",
              "      <td>24.000000</td>\n",
              "      <td>6.340000e+02</td>\n",
              "      <td>0.000000</td>\n",
              "    </tr>\n",
              "    <tr>\n",
              "      <th>50%</th>\n",
              "      <td>6.262621e+10</td>\n",
              "      <td>57.000000</td>\n",
              "      <td>2.614000e+03</td>\n",
              "      <td>0.000000</td>\n",
              "    </tr>\n",
              "    <tr>\n",
              "      <th>75%</th>\n",
              "      <td>6.262629e+10</td>\n",
              "      <td>143.000000</td>\n",
              "      <td>1.045400e+04</td>\n",
              "      <td>0.000000</td>\n",
              "    </tr>\n",
              "    <tr>\n",
              "      <th>max</th>\n",
              "      <td>6.262630e+10</td>\n",
              "      <td>17735.000000</td>\n",
              "      <td>1.567841e+06</td>\n",
              "      <td>1.000000</td>\n",
              "    </tr>\n",
              "  </tbody>\n",
              "</table>\n",
              "</div>"
            ],
            "text/plain": [
              "            anumber      duration           fee         label\n",
              "count  1.141800e+04  11418.000000  1.141800e+04  11418.000000\n",
              "mean   6.262625e+10    154.111841  1.215145e+04      0.034770\n",
              "std    3.985148e+04    410.204092  4.131463e+04      0.183204\n",
              "min    6.262621e+10      0.000000  4.300000e+01      0.000000\n",
              "25%    6.262621e+10     24.000000  6.340000e+02      0.000000\n",
              "50%    6.262621e+10     57.000000  2.614000e+03      0.000000\n",
              "75%    6.262629e+10    143.000000  1.045400e+04      0.000000\n",
              "max    6.262630e+10  17735.000000  1.567841e+06      1.000000"
            ]
          },
          "metadata": {},
          "execution_count": 4
        },
        {
          "output_type": "stream",
          "name": "stdout",
          "text": [
            "time: 26.7 ms (started: 2021-10-11 14:32:20 +00:00)\n"
          ]
        }
      ]
    },
    {
      "cell_type": "code",
      "metadata": {
        "id": "ERzzPo6swj60",
        "colab": {
          "base_uri": "https://localhost:8080/"
        },
        "outputId": "408d3428-2b86-4f08-c188-5a790bebc5f2"
      },
      "source": [
        "# Show dataset shape\n",
        "df.shape"
      ],
      "execution_count": 5,
      "outputs": [
        {
          "output_type": "execute_result",
          "data": {
            "text/plain": [
              "(11418, 9)"
            ]
          },
          "metadata": {},
          "execution_count": 5
        },
        {
          "output_type": "stream",
          "name": "stdout",
          "text": [
            "time: 3.41 ms (started: 2021-10-11 14:32:20 +00:00)\n"
          ]
        }
      ]
    },
    {
      "cell_type": "code",
      "metadata": {
        "id": "5NcmExGDwpe7",
        "colab": {
          "base_uri": "https://localhost:8080/"
        },
        "outputId": "34a33d04-cf25-4747-807c-e1a4ec3ff0e3"
      },
      "source": [
        "# Show the dataset labeled fraud (1) and non fraud (0)\n",
        "df['label'].value_counts()"
      ],
      "execution_count": 6,
      "outputs": [
        {
          "output_type": "execute_result",
          "data": {
            "text/plain": [
              "0    11021\n",
              "1      397\n",
              "Name: label, dtype: int64"
            ]
          },
          "metadata": {},
          "execution_count": 6
        },
        {
          "output_type": "stream",
          "name": "stdout",
          "text": [
            "time: 5.6 ms (started: 2021-10-11 14:32:20 +00:00)\n"
          ]
        }
      ]
    },
    {
      "cell_type": "code",
      "metadata": {
        "id": "gdASqke5xCat",
        "colab": {
          "base_uri": "https://localhost:8080/"
        },
        "outputId": "38c03f8b-c786-4515-814d-ac236ec56270"
      },
      "source": [
        "# Show a comparison between the dataset labeled fraud and non-fraud\n",
        "print(df['label'].value_counts() / df['label'].shape[0])"
      ],
      "execution_count": 7,
      "outputs": [
        {
          "output_type": "stream",
          "name": "stdout",
          "text": [
            "0    0.96523\n",
            "1    0.03477\n",
            "Name: label, dtype: float64\n",
            "time: 19.6 ms (started: 2021-10-11 14:32:20 +00:00)\n"
          ]
        }
      ]
    },
    {
      "cell_type": "code",
      "metadata": {
        "id": "idKX9pCW01jm",
        "colab": {
          "base_uri": "https://localhost:8080/"
        },
        "outputId": "00fc520c-debe-41ea-9c74-b902d1f98dd4"
      },
      "source": [
        "# Check what types of calls are there\n",
        "df['type'].value_counts()"
      ],
      "execution_count": 8,
      "outputs": [
        {
          "output_type": "execute_result",
          "data": {
            "text/plain": [
              "SLJJ          7093\n",
              "SLI 001       4035\n",
              "Lokal          153\n",
              "SLI 007        102\n",
              "VoIP 01017      21\n",
              "Injapati        14\n",
              "Name: type, dtype: int64"
            ]
          },
          "metadata": {},
          "execution_count": 8
        },
        {
          "output_type": "stream",
          "name": "stdout",
          "text": [
            "time: 7.25 ms (started: 2021-10-11 14:32:20 +00:00)\n"
          ]
        }
      ]
    },
    {
      "cell_type": "code",
      "metadata": {
        "id": "CLcq74ZVT67o",
        "colab": {
          "base_uri": "https://localhost:8080/"
        },
        "outputId": "9e887cc6-d1e4-4b2e-a1d9-fa42e81064da"
      },
      "source": [
        "# Find null in the dataset\n",
        "df.isnull().sum().max()"
      ],
      "execution_count": 9,
      "outputs": [
        {
          "output_type": "execute_result",
          "data": {
            "text/plain": [
              "0"
            ]
          },
          "metadata": {},
          "execution_count": 9
        },
        {
          "output_type": "stream",
          "name": "stdout",
          "text": [
            "time: 10.4 ms (started: 2021-10-11 14:32:20 +00:00)\n"
          ]
        }
      ]
    },
    {
      "cell_type": "markdown",
      "metadata": {
        "id": "fr55APKM1y_2"
      },
      "source": [
        "**3. DATA PREPARATION**"
      ]
    },
    {
      "cell_type": "code",
      "metadata": {
        "id": "BM8j8Rkb2cI9",
        "colab": {
          "base_uri": "https://localhost:8080/"
        },
        "outputId": "08665a1e-ac50-4c1e-88f9-31c21963b278"
      },
      "source": [
        "# Drop unneeded attributes, namely startime and stoptime, destination and label\n",
        "dataset = df.drop(['starttime','stoptime','destination','label'], axis = 1)\n",
        "label = df.label"
      ],
      "execution_count": 10,
      "outputs": [
        {
          "output_type": "stream",
          "name": "stdout",
          "text": [
            "time: 3.61 ms (started: 2021-10-11 14:32:20 +00:00)\n"
          ]
        }
      ]
    },
    {
      "cell_type": "code",
      "metadata": {
        "id": "wNs92sk74z5l",
        "colab": {
          "base_uri": "https://localhost:8080/"
        },
        "outputId": "b5cfeaff-536d-4f4e-d565-9970941c1f4b"
      },
      "source": [
        "enc = LabelEncoder()\n",
        "def transforming(input, j):\n",
        "    input.iloc[:,j] = enc.fit_transform(input.iloc[:,j])\n",
        "\n",
        "# Change data in the form of objects / strings into numbers\n",
        "for i in range(0,5):\n",
        "    if(i!=2 or i!=3):\n",
        "        transforming(dataset, i)"
      ],
      "execution_count": 11,
      "outputs": [
        {
          "output_type": "stream",
          "name": "stdout",
          "text": [
            "time: 27 ms (started: 2021-10-11 14:32:20 +00:00)\n"
          ]
        }
      ]
    },
    {
      "cell_type": "code",
      "metadata": {
        "id": "ucktkXe951aG",
        "colab": {
          "base_uri": "https://localhost:8080/",
          "height": 220
        },
        "outputId": "9dd1c73f-7b51-4d4e-a638-1de0ee090738"
      },
      "source": [
        "# Show Dataset \n",
        "dataset.head()"
      ],
      "execution_count": 12,
      "outputs": [
        {
          "output_type": "execute_result",
          "data": {
            "text/html": [
              "<div>\n",
              "<style scoped>\n",
              "    .dataframe tbody tr th:only-of-type {\n",
              "        vertical-align: middle;\n",
              "    }\n",
              "\n",
              "    .dataframe tbody tr th {\n",
              "        vertical-align: top;\n",
              "    }\n",
              "\n",
              "    .dataframe thead th {\n",
              "        text-align: right;\n",
              "    }\n",
              "</style>\n",
              "<table border=\"1\" class=\"dataframe\">\n",
              "  <thead>\n",
              "    <tr style=\"text-align: right;\">\n",
              "      <th></th>\n",
              "      <th>anumber</th>\n",
              "      <th>bnumber</th>\n",
              "      <th>duration</th>\n",
              "      <th>fee</th>\n",
              "      <th>type</th>\n",
              "    </tr>\n",
              "  </thead>\n",
              "  <tbody>\n",
              "    <tr>\n",
              "      <th>0</th>\n",
              "      <td>265</td>\n",
              "      <td>1333</td>\n",
              "      <td>431</td>\n",
              "      <td>447</td>\n",
              "      <td>0</td>\n",
              "    </tr>\n",
              "    <tr>\n",
              "      <th>1</th>\n",
              "      <td>265</td>\n",
              "      <td>1333</td>\n",
              "      <td>172</td>\n",
              "      <td>238</td>\n",
              "      <td>0</td>\n",
              "    </tr>\n",
              "    <tr>\n",
              "      <th>2</th>\n",
              "      <td>265</td>\n",
              "      <td>1333</td>\n",
              "      <td>183</td>\n",
              "      <td>294</td>\n",
              "      <td>0</td>\n",
              "    </tr>\n",
              "    <tr>\n",
              "      <th>3</th>\n",
              "      <td>225</td>\n",
              "      <td>1334</td>\n",
              "      <td>17</td>\n",
              "      <td>96</td>\n",
              "      <td>0</td>\n",
              "    </tr>\n",
              "    <tr>\n",
              "      <th>4</th>\n",
              "      <td>225</td>\n",
              "      <td>1334</td>\n",
              "      <td>14</td>\n",
              "      <td>96</td>\n",
              "      <td>0</td>\n",
              "    </tr>\n",
              "  </tbody>\n",
              "</table>\n",
              "</div>"
            ],
            "text/plain": [
              "   anumber  bnumber  duration  fee  type\n",
              "0      265     1333       431  447     0\n",
              "1      265     1333       172  238     0\n",
              "2      265     1333       183  294     0\n",
              "3      225     1334        17   96     0\n",
              "4      225     1334        14   96     0"
            ]
          },
          "metadata": {},
          "execution_count": 12
        },
        {
          "output_type": "stream",
          "name": "stdout",
          "text": [
            "time: 14.3 ms (started: 2021-10-11 14:32:20 +00:00)\n"
          ]
        }
      ]
    },
    {
      "cell_type": "code",
      "metadata": {
        "id": "VFwFuKZB59bd",
        "colab": {
          "base_uri": "https://localhost:8080/"
        },
        "outputId": "1b0cc7f8-08bf-4c42-fc66-75ac4ea3a687"
      },
      "source": [
        "# Transform data with Scaler to perform data normalization so that the data used does not have large deviations.\n",
        "features = ['anumber', 'bnumber', 'duration', 'fee', 'type']\n",
        "Final_Dataset = dataset.loc[:, features].values\n",
        "Final_Dataset = StandardScaler().fit_transform(Final_Dataset)\n",
        "Final_Dataset = pd.DataFrame(data = Final_Dataset, columns = features)"
      ],
      "execution_count": 13,
      "outputs": [
        {
          "output_type": "stream",
          "name": "stdout",
          "text": [
            "time: 8.71 ms (started: 2021-10-11 14:32:20 +00:00)\n"
          ]
        }
      ]
    },
    {
      "cell_type": "code",
      "metadata": {
        "id": "yHUS7rgl6c53",
        "colab": {
          "base_uri": "https://localhost:8080/",
          "height": 220
        },
        "outputId": "ccb50a4c-639e-432f-802c-6fd592757bca"
      },
      "source": [
        "# Show the Final Dataset \n",
        "Final_Dataset.head()"
      ],
      "execution_count": 14,
      "outputs": [
        {
          "output_type": "execute_result",
          "data": {
            "text/html": [
              "<div>\n",
              "<style scoped>\n",
              "    .dataframe tbody tr th:only-of-type {\n",
              "        vertical-align: middle;\n",
              "    }\n",
              "\n",
              "    .dataframe tbody tr th {\n",
              "        vertical-align: top;\n",
              "    }\n",
              "\n",
              "    .dataframe thead th {\n",
              "        text-align: right;\n",
              "    }\n",
              "</style>\n",
              "<table border=\"1\" class=\"dataframe\">\n",
              "  <thead>\n",
              "    <tr style=\"text-align: right;\">\n",
              "      <th></th>\n",
              "      <th>anumber</th>\n",
              "      <th>bnumber</th>\n",
              "      <th>duration</th>\n",
              "      <th>fee</th>\n",
              "      <th>type</th>\n",
              "    </tr>\n",
              "  </thead>\n",
              "  <tbody>\n",
              "    <tr>\n",
              "      <th>0</th>\n",
              "      <td>1.097724</td>\n",
              "      <td>-0.319205</td>\n",
              "      <td>1.697394</td>\n",
              "      <td>0.358047</td>\n",
              "      <td>-3.259819</td>\n",
              "    </tr>\n",
              "    <tr>\n",
              "      <th>1</th>\n",
              "      <td>1.097724</td>\n",
              "      <td>-0.319205</td>\n",
              "      <td>0.250598</td>\n",
              "      <td>-0.376284</td>\n",
              "      <td>-3.259819</td>\n",
              "    </tr>\n",
              "    <tr>\n",
              "      <th>2</th>\n",
              "      <td>1.097724</td>\n",
              "      <td>-0.319205</td>\n",
              "      <td>0.312045</td>\n",
              "      <td>-0.179525</td>\n",
              "      <td>-3.259819</td>\n",
              "    </tr>\n",
              "    <tr>\n",
              "      <th>3</th>\n",
              "      <td>0.540323</td>\n",
              "      <td>-0.318117</td>\n",
              "      <td>-0.615244</td>\n",
              "      <td>-0.875207</td>\n",
              "      <td>-3.259819</td>\n",
              "    </tr>\n",
              "    <tr>\n",
              "      <th>4</th>\n",
              "      <td>0.540323</td>\n",
              "      <td>-0.318117</td>\n",
              "      <td>-0.632003</td>\n",
              "      <td>-0.875207</td>\n",
              "      <td>-3.259819</td>\n",
              "    </tr>\n",
              "  </tbody>\n",
              "</table>\n",
              "</div>"
            ],
            "text/plain": [
              "    anumber   bnumber  duration       fee      type\n",
              "0  1.097724 -0.319205  1.697394  0.358047 -3.259819\n",
              "1  1.097724 -0.319205  0.250598 -0.376284 -3.259819\n",
              "2  1.097724 -0.319205  0.312045 -0.179525 -3.259819\n",
              "3  0.540323 -0.318117 -0.615244 -0.875207 -3.259819\n",
              "4  0.540323 -0.318117 -0.632003 -0.875207 -3.259819"
            ]
          },
          "metadata": {},
          "execution_count": 14
        },
        {
          "output_type": "stream",
          "name": "stdout",
          "text": [
            "time: 17.8 ms (started: 2021-10-11 14:32:20 +00:00)\n"
          ]
        }
      ]
    },
    {
      "cell_type": "code",
      "metadata": {
        "id": "uJnlos1T-IXO",
        "colab": {
          "base_uri": "https://localhost:8080/"
        },
        "outputId": "215dbec1-deb0-4941-b76a-cd1378d30604"
      },
      "source": [
        "# Show Final Dataset Description (Focus at Dtype)\n",
        "Final_Dataset.info()"
      ],
      "execution_count": 15,
      "outputs": [
        {
          "output_type": "stream",
          "name": "stdout",
          "text": [
            "<class 'pandas.core.frame.DataFrame'>\n",
            "RangeIndex: 11418 entries, 0 to 11417\n",
            "Data columns (total 5 columns):\n",
            " #   Column    Non-Null Count  Dtype  \n",
            "---  ------    --------------  -----  \n",
            " 0   anumber   11418 non-null  float64\n",
            " 1   bnumber   11418 non-null  float64\n",
            " 2   duration  11418 non-null  float64\n",
            " 3   fee       11418 non-null  float64\n",
            " 4   type      11418 non-null  float64\n",
            "dtypes: float64(5)\n",
            "memory usage: 446.1 KB\n",
            "time: 10.1 ms (started: 2021-10-11 14:32:20 +00:00)\n"
          ]
        }
      ]
    },
    {
      "cell_type": "code",
      "metadata": {
        "id": "jz-e6ybYUdjz",
        "colab": {
          "base_uri": "https://localhost:8080/",
          "height": 312
        },
        "outputId": "725ca433-8fa6-4ec3-c8b4-c182e825c093"
      },
      "source": [
        "# Displays Final_Dataset Statistics (Focus at std)\n",
        "Final_Dataset.describe()"
      ],
      "execution_count": 16,
      "outputs": [
        {
          "output_type": "execute_result",
          "data": {
            "text/html": [
              "<div>\n",
              "<style scoped>\n",
              "    .dataframe tbody tr th:only-of-type {\n",
              "        vertical-align: middle;\n",
              "    }\n",
              "\n",
              "    .dataframe tbody tr th {\n",
              "        vertical-align: top;\n",
              "    }\n",
              "\n",
              "    .dataframe thead th {\n",
              "        text-align: right;\n",
              "    }\n",
              "</style>\n",
              "<table border=\"1\" class=\"dataframe\">\n",
              "  <thead>\n",
              "    <tr style=\"text-align: right;\">\n",
              "      <th></th>\n",
              "      <th>anumber</th>\n",
              "      <th>bnumber</th>\n",
              "      <th>duration</th>\n",
              "      <th>fee</th>\n",
              "      <th>type</th>\n",
              "    </tr>\n",
              "  </thead>\n",
              "  <tbody>\n",
              "    <tr>\n",
              "      <th>count</th>\n",
              "      <td>1.141800e+04</td>\n",
              "      <td>1.141800e+04</td>\n",
              "      <td>1.141800e+04</td>\n",
              "      <td>1.141800e+04</td>\n",
              "      <td>1.141800e+04</td>\n",
              "    </tr>\n",
              "    <tr>\n",
              "      <th>mean</th>\n",
              "      <td>-2.250511e-15</td>\n",
              "      <td>1.410651e-14</td>\n",
              "      <td>-6.163206e-16</td>\n",
              "      <td>-7.016049e-15</td>\n",
              "      <td>3.629611e-14</td>\n",
              "    </tr>\n",
              "    <tr>\n",
              "      <th>std</th>\n",
              "      <td>1.000044e+00</td>\n",
              "      <td>1.000044e+00</td>\n",
              "      <td>1.000044e+00</td>\n",
              "      <td>1.000044e+00</td>\n",
              "      <td>1.000044e+00</td>\n",
              "    </tr>\n",
              "    <tr>\n",
              "      <th>min</th>\n",
              "      <td>-2.595056e+00</td>\n",
              "      <td>-1.770219e+00</td>\n",
              "      <td>-7.102079e-01</td>\n",
              "      <td>-1.212507e+00</td>\n",
              "      <td>-3.259819e+00</td>\n",
              "    </tr>\n",
              "    <tr>\n",
              "      <th>25%</th>\n",
              "      <td>-5.048034e-01</td>\n",
              "      <td>-9.353144e-01</td>\n",
              "      <td>-5.761419e-01</td>\n",
              "      <td>-9.314236e-01</td>\n",
              "      <td>-1.248220e+00</td>\n",
              "    </tr>\n",
              "    <tr>\n",
              "      <th>50%</th>\n",
              "      <td>-2.121680e-01</td>\n",
              "      <td>8.137480e-02</td>\n",
              "      <td>-3.918012e-01</td>\n",
              "      <td>-2.849318e-01</td>\n",
              "      <td>7.633788e-01</td>\n",
              "    </tr>\n",
              "    <tr>\n",
              "      <th>75%</th>\n",
              "      <td>1.055919e+00</td>\n",
              "      <td>8.027996e-01</td>\n",
              "      <td>8.860188e-02</td>\n",
              "      <td>7.831852e-01</td>\n",
              "      <td>7.633788e-01</td>\n",
              "    </tr>\n",
              "    <tr>\n",
              "      <th>max</th>\n",
              "      <td>1.515775e+00</td>\n",
              "      <td>1.755538e+00</td>\n",
              "      <td>4.814428e+00</td>\n",
              "      <td>2.736715e+00</td>\n",
              "      <td>1.769178e+00</td>\n",
              "    </tr>\n",
              "  </tbody>\n",
              "</table>\n",
              "</div>"
            ],
            "text/plain": [
              "            anumber       bnumber      duration           fee          type\n",
              "count  1.141800e+04  1.141800e+04  1.141800e+04  1.141800e+04  1.141800e+04\n",
              "mean  -2.250511e-15  1.410651e-14 -6.163206e-16 -7.016049e-15  3.629611e-14\n",
              "std    1.000044e+00  1.000044e+00  1.000044e+00  1.000044e+00  1.000044e+00\n",
              "min   -2.595056e+00 -1.770219e+00 -7.102079e-01 -1.212507e+00 -3.259819e+00\n",
              "25%   -5.048034e-01 -9.353144e-01 -5.761419e-01 -9.314236e-01 -1.248220e+00\n",
              "50%   -2.121680e-01  8.137480e-02 -3.918012e-01 -2.849318e-01  7.633788e-01\n",
              "75%    1.055919e+00  8.027996e-01  8.860188e-02  7.831852e-01  7.633788e-01\n",
              "max    1.515775e+00  1.755538e+00  4.814428e+00  2.736715e+00  1.769178e+00"
            ]
          },
          "metadata": {},
          "execution_count": 16
        },
        {
          "output_type": "stream",
          "name": "stdout",
          "text": [
            "time: 30.6 ms (started: 2021-10-11 14:32:20 +00:00)\n"
          ]
        }
      ]
    },
    {
      "cell_type": "code",
      "metadata": {
        "id": "CvTNvUuTxSK-",
        "colab": {
          "base_uri": "https://localhost:8080/"
        },
        "outputId": "3e319596-dfb6-4518-e1e3-234c7fee769c"
      },
      "source": [
        "# Persiapan Dataset\n",
        "X = Final_Dataset.to_numpy()\n",
        "y = df.iloc[:, 8] # Label Fraud\n",
        "y = np.array(y).astype(np.float)"
      ],
      "execution_count": 17,
      "outputs": [
        {
          "output_type": "stream",
          "name": "stdout",
          "text": [
            "time: 2.72 ms (started: 2021-10-11 14:32:20 +00:00)\n"
          ]
        }
      ]
    },
    {
      "cell_type": "code",
      "metadata": {
        "id": "6f2UMB4_ARl6",
        "colab": {
          "base_uri": "https://localhost:8080/"
        },
        "outputId": "54167ee8-def6-4d88-f7d6-125526192853"
      },
      "source": [
        "X"
      ],
      "execution_count": 18,
      "outputs": [
        {
          "output_type": "execute_result",
          "data": {
            "text/plain": [
              "array([[ 1.09772399, -0.31920511,  1.6973936 ,  0.35804655, -3.25981941],\n",
              "       [ 1.09772399, -0.31920511,  0.25059827, -0.37628386, -3.25981941],\n",
              "       [ 1.09772399, -0.31920511,  0.31204517, -0.17952547, -3.25981941],\n",
              "       ...,\n",
              "       [ 1.09772399, -0.3322675 ,  0.64162403,  1.18372906,  1.76917832],\n",
              "       [ 1.09772399, -0.33117897, -0.69344965, -0.05303794,  1.76917832],\n",
              "       [ 1.09772399, -0.33117897, -0.67110532, -0.05303794,  1.76917832]])"
            ]
          },
          "metadata": {},
          "execution_count": 18
        },
        {
          "output_type": "stream",
          "name": "stdout",
          "text": [
            "time: 4.38 ms (started: 2021-10-11 14:32:20 +00:00)\n"
          ]
        }
      ]
    },
    {
      "cell_type": "code",
      "metadata": {
        "id": "T3KEMFflAVkb",
        "colab": {
          "base_uri": "https://localhost:8080/"
        },
        "outputId": "e5125f65-fb4b-4dca-9699-0050a80ca6af"
      },
      "source": [
        "y"
      ],
      "execution_count": 19,
      "outputs": [
        {
          "output_type": "execute_result",
          "data": {
            "text/plain": [
              "array([0., 0., 0., ..., 0., 0., 0.])"
            ]
          },
          "metadata": {},
          "execution_count": 19
        },
        {
          "output_type": "stream",
          "name": "stdout",
          "text": [
            "time: 3.44 ms (started: 2021-10-11 14:32:20 +00:00)\n"
          ]
        }
      ]
    },
    {
      "cell_type": "markdown",
      "metadata": {
        "id": "1L3PMpPzG7U5"
      },
      "source": [
        "**4. DATA MODELING WITH K-MEANS**"
      ]
    },
    {
      "cell_type": "markdown",
      "metadata": {
        "id": "VJhOOGy0I1gB"
      },
      "source": [
        "Kmeans algorithm is an iterative algorithm that tries to partition the dataset into Kpre-defined distinct non-overlapping subgroups (clusters) where each data point belongs to only one group. It tries to make the intra-cluster data points as similar as possible while also keeping the clusters as different (far) as possible. It assigns data points to a cluster such that the sum of the squared distance between the data points and the cluster’s centroid (arithmetic mean of all the data points that belong to that cluster) is at the minimum. The less variation we have within clusters, the more homogeneous (similar) the data points are within the same cluster. (Towards Data Science, 2018)"
      ]
    },
    {
      "cell_type": "markdown",
      "metadata": {
        "id": "ck9wjGP1JDKn"
      },
      "source": [
        "**Elbow Methode**\n",
        "\n",
        "Elbow method gives us an idea on what a good k number of clusters would be based on the sum of squared distance (SSE) between data points and their assigned clusters’ centroids. We pick k at the spot where SSE starts to flatten out and forming an elbow. We’ll use the geyser dataset and evaluate SSE for different values of k and see where the curve might form an elbow and flatten out. (Towards Data Science, 2018)"
      ]
    },
    {
      "cell_type": "code",
      "metadata": {
        "id": "OmC-jXelHv6q",
        "colab": {
          "base_uri": "https://localhost:8080/",
          "height": 405
        },
        "outputId": "4a253bff-c58c-48e8-c9ad-0c05248a2c52"
      },
      "source": [
        "# Find cluster with Elbow Method\n",
        "distortions = []\n",
        "K = range(1,10)\n",
        "for k in K:\n",
        "    kmeanModel = KMeans(n_clusters=k, random_state=0)\n",
        "    kmeanModel.fit(Final_Dataset)\n",
        "    distortions.append(kmeanModel.inertia_)\n",
        "\n",
        "plt.figure(figsize=(8,6))\n",
        "plt.plot(K, distortions, 'bx-')\n",
        "plt.xlabel('k')\n",
        "plt.ylabel('Distortion')\n",
        "plt.grid(c='black')\n",
        "#plt.title('The Elbow Method showing the optimal k')\n",
        "plt.show()"
      ],
      "execution_count": 20,
      "outputs": [
        {
          "output_type": "display_data",
          "data": {
            "image/png": "[encoded data removed]",
            "text/plain": [
              "<Figure size 576x432 with 1 Axes>"
            ]
          },
          "metadata": {
            "needs_background": "light"
          }
        },
        {
          "output_type": "stream",
          "name": "stdout",
          "text": [
            "time: 3.2 s (started: 2021-10-11 14:32:20 +00:00)\n"
          ]
        }
      ]
    },
    {
      "cell_type": "markdown",
      "metadata": {
        "id": "LFOp4PYtyq8o"
      },
      "source": [
        "Based on the graph above, we take the K value is 4."
      ]
    },
    {
      "cell_type": "code",
      "metadata": {
        "id": "jeqfsqph0aea",
        "colab": {
          "base_uri": "https://localhost:8080/"
        },
        "outputId": "8be4025d-ee05-48f2-b694-796d9ac56bc9"
      },
      "source": [
        "# K-Means parameters\n",
        "kmeans = KMeans(n_clusters=4, init ='k-means++', max_iter =1000,\n",
        "                random_state=0, verbose=0, n_init=1).fit(X)\n",
        "\n",
        "# Get the cluster number for each data point\n",
        "X_clusters = kmeans.predict(X)\n",
        "\n",
        "# Save the cluster centroid\n",
        "X_clusters_centers = kmeans.cluster_centers_\n",
        "\n",
        "# Calculate the distance to the center of the group for each point\n",
        "dist = [np.linalg.norm(x-y) for x,y in zip(X, X_clusters_centers[X_clusters])]\n",
        "\n",
        "# Make predictions based on distance\n",
        "km_y_pred = np.array(dist)\n",
        "\n",
        "# If the distance is far, it will be an outlier / fraud\n",
        "km_y_pred[dist>=np.percentile(dist, 93)] = 1\n",
        "\n",
        "# If the distance is close, it is not an outlier / non fraud\n",
        "km_y_pred[dist<np.percentile(dist, 93)] = 0\n",
        "\n",
        "km_y_pred"
      ],
      "execution_count": 21,
      "outputs": [
        {
          "output_type": "execute_result",
          "data": {
            "text/plain": [
              "array([1., 1., 1., ..., 1., 0., 0.])"
            ]
          },
          "metadata": {},
          "execution_count": 21
        },
        {
          "output_type": "stream",
          "name": "stdout",
          "text": [
            "time: 197 ms (started: 2021-10-11 14:32:23 +00:00)\n"
          ]
        }
      ]
    },
    {
      "cell_type": "code",
      "metadata": {
        "id": "ZbhLynGj3kmB",
        "colab": {
          "base_uri": "https://localhost:8080/"
        },
        "outputId": "c314736c-e76b-4e07-bd84-f94eaa3b90bf"
      },
      "source": [
        "# Duplicate Final Dataset and Add Column Labels K-Means\n",
        "Final_Dataset_copy = Final_Dataset.copy()\n",
        "Final_Dataset_copy['labels_kmeans'] = km_y_pred"
      ],
      "execution_count": 22,
      "outputs": [
        {
          "output_type": "stream",
          "name": "stdout",
          "text": [
            "time: 3.17 ms (started: 2021-10-11 14:32:23 +00:00)\n"
          ]
        }
      ]
    },
    {
      "cell_type": "code",
      "metadata": {
        "id": "HusFJ2xTY1he",
        "colab": {
          "base_uri": "https://localhost:8080/",
          "height": 220
        },
        "outputId": "e1de8581-bd0a-49db-9e5d-7dd2433f7ec4"
      },
      "source": [
        "# Show Final Dataset Copy plus Labels K-Means \n",
        "Final_Dataset_copy.head()"
      ],
      "execution_count": 23,
      "outputs": [
        {
          "output_type": "execute_result",
          "data": {
            "text/html": [
              "<div>\n",
              "<style scoped>\n",
              "    .dataframe tbody tr th:only-of-type {\n",
              "        vertical-align: middle;\n",
              "    }\n",
              "\n",
              "    .dataframe tbody tr th {\n",
              "        vertical-align: top;\n",
              "    }\n",
              "\n",
              "    .dataframe thead th {\n",
              "        text-align: right;\n",
              "    }\n",
              "</style>\n",
              "<table border=\"1\" class=\"dataframe\">\n",
              "  <thead>\n",
              "    <tr style=\"text-align: right;\">\n",
              "      <th></th>\n",
              "      <th>anumber</th>\n",
              "      <th>bnumber</th>\n",
              "      <th>duration</th>\n",
              "      <th>fee</th>\n",
              "      <th>type</th>\n",
              "      <th>labels_kmeans</th>\n",
              "    </tr>\n",
              "  </thead>\n",
              "  <tbody>\n",
              "    <tr>\n",
              "      <th>0</th>\n",
              "      <td>1.097724</td>\n",
              "      <td>-0.319205</td>\n",
              "      <td>1.697394</td>\n",
              "      <td>0.358047</td>\n",
              "      <td>-3.259819</td>\n",
              "      <td>1.0</td>\n",
              "    </tr>\n",
              "    <tr>\n",
              "      <th>1</th>\n",
              "      <td>1.097724</td>\n",
              "      <td>-0.319205</td>\n",
              "      <td>0.250598</td>\n",
              "      <td>-0.376284</td>\n",
              "      <td>-3.259819</td>\n",
              "      <td>1.0</td>\n",
              "    </tr>\n",
              "    <tr>\n",
              "      <th>2</th>\n",
              "      <td>1.097724</td>\n",
              "      <td>-0.319205</td>\n",
              "      <td>0.312045</td>\n",
              "      <td>-0.179525</td>\n",
              "      <td>-3.259819</td>\n",
              "      <td>1.0</td>\n",
              "    </tr>\n",
              "    <tr>\n",
              "      <th>3</th>\n",
              "      <td>0.540323</td>\n",
              "      <td>-0.318117</td>\n",
              "      <td>-0.615244</td>\n",
              "      <td>-0.875207</td>\n",
              "      <td>-3.259819</td>\n",
              "      <td>1.0</td>\n",
              "    </tr>\n",
              "    <tr>\n",
              "      <th>4</th>\n",
              "      <td>0.540323</td>\n",
              "      <td>-0.318117</td>\n",
              "      <td>-0.632003</td>\n",
              "      <td>-0.875207</td>\n",
              "      <td>-3.259819</td>\n",
              "      <td>1.0</td>\n",
              "    </tr>\n",
              "  </tbody>\n",
              "</table>\n",
              "</div>"
            ],
            "text/plain": [
              "    anumber   bnumber  duration       fee      type  labels_kmeans\n",
              "0  1.097724 -0.319205  1.697394  0.358047 -3.259819            1.0\n",
              "1  1.097724 -0.319205  0.250598 -0.376284 -3.259819            1.0\n",
              "2  1.097724 -0.319205  0.312045 -0.179525 -3.259819            1.0\n",
              "3  0.540323 -0.318117 -0.615244 -0.875207 -3.259819            1.0\n",
              "4  0.540323 -0.318117 -0.632003 -0.875207 -3.259819            1.0"
            ]
          },
          "metadata": {},
          "execution_count": 23
        },
        {
          "output_type": "stream",
          "name": "stdout",
          "text": [
            "time: 22.3 ms (started: 2021-10-11 14:32:23 +00:00)\n"
          ]
        }
      ]
    },
    {
      "cell_type": "code",
      "metadata": {
        "id": "XajQXuQbZdgl",
        "colab": {
          "base_uri": "https://localhost:8080/"
        },
        "outputId": "b30a062c-51c1-4c41-fcd7-f732488e92f7"
      },
      "source": [
        "# Count Labels\n",
        "Final_Dataset_copy['labels_kmeans'].value_counts().sort_index()"
      ],
      "execution_count": 24,
      "outputs": [
        {
          "output_type": "execute_result",
          "data": {
            "text/plain": [
              "0.0    10618\n",
              "1.0      800\n",
              "Name: labels_kmeans, dtype: int64"
            ]
          },
          "metadata": {},
          "execution_count": 24
        },
        {
          "output_type": "stream",
          "name": "stdout",
          "text": [
            "time: 7.32 ms (started: 2021-10-11 14:32:23 +00:00)\n"
          ]
        }
      ]
    },
    {
      "cell_type": "markdown",
      "metadata": {
        "id": "sZc4v4gAZ1OB"
      },
      "source": [
        "**5. DATA VISUALIZATION WITH PCA**"
      ]
    },
    {
      "cell_type": "code",
      "metadata": {
        "id": "ZAcuh1edQdPk",
        "colab": {
          "base_uri": "https://localhost:8080/"
        },
        "outputId": "865365f2-d7c6-4f5c-f139-27e1ba1690dd"
      },
      "source": [
        "plotX = Final_Dataset_copy"
      ],
      "execution_count": 25,
      "outputs": [
        {
          "output_type": "stream",
          "name": "stdout",
          "text": [
            "time: 1.18 ms (started: 2021-10-11 14:32:23 +00:00)\n"
          ]
        }
      ]
    },
    {
      "cell_type": "code",
      "metadata": {
        "id": "T4bQDj3iIMtF",
        "colab": {
          "base_uri": "https://localhost:8080/"
        },
        "outputId": "061a6c8e-76ff-4c2b-debb-f133b4f6f2b3"
      },
      "source": [
        "pca_2d = PCA(n_components=2)"
      ],
      "execution_count": 26,
      "outputs": [
        {
          "output_type": "stream",
          "name": "stdout",
          "text": [
            "time: 1.18 ms (started: 2021-10-11 14:32:24 +00:00)\n"
          ]
        }
      ]
    },
    {
      "cell_type": "code",
      "metadata": {
        "id": "drcxY-clNQq_",
        "colab": {
          "base_uri": "https://localhost:8080/"
        },
        "outputId": "6a4ccab5-480e-4695-adb1-fe447be40701"
      },
      "source": [
        "PCs_2d = pd.DataFrame(pca_2d.fit_transform(plotX.drop([\"labels_kmeans\"], axis=1)))"
      ],
      "execution_count": 27,
      "outputs": [
        {
          "output_type": "stream",
          "name": "stdout",
          "text": [
            "time: 43.5 ms (started: 2021-10-11 14:32:24 +00:00)\n"
          ]
        }
      ]
    },
    {
      "cell_type": "code",
      "metadata": {
        "id": "c8E0ylMXUuhh",
        "colab": {
          "base_uri": "https://localhost:8080/"
        },
        "outputId": "7802a14f-4f5f-4de8-e89a-43afa9f006e4"
      },
      "source": [
        "PCs_2d.columns = [\"PC1_2d\", \"PC2_2d\"]"
      ],
      "execution_count": 28,
      "outputs": [
        {
          "output_type": "stream",
          "name": "stdout",
          "text": [
            "time: 3.19 ms (started: 2021-10-11 14:32:24 +00:00)\n"
          ]
        }
      ]
    },
    {
      "cell_type": "code",
      "metadata": {
        "id": "NdwW6ukhXesb",
        "colab": {
          "base_uri": "https://localhost:8080/"
        },
        "outputId": "8da82403-8a03-4549-a5f2-b60571c5c71a"
      },
      "source": [
        "plotX = pd.concat([plotX,PCs_2d], axis=1, join='inner')"
      ],
      "execution_count": 29,
      "outputs": [
        {
          "output_type": "stream",
          "name": "stdout",
          "text": [
            "time: 4.42 ms (started: 2021-10-11 14:32:24 +00:00)\n"
          ]
        }
      ]
    },
    {
      "cell_type": "code",
      "metadata": {
        "id": "oMmR7ICaZGwj",
        "colab": {
          "base_uri": "https://localhost:8080/"
        },
        "outputId": "2d66c852-0dd5-4e2c-c8c6-01683096ad4f"
      },
      "source": [
        "cluster0 = plotX[plotX[\"labels_kmeans\"] == 0]\n",
        "cluster1 = plotX[plotX[\"labels_kmeans\"] == 1]"
      ],
      "execution_count": 30,
      "outputs": [
        {
          "output_type": "stream",
          "name": "stdout",
          "text": [
            "time: 13.1 ms (started: 2021-10-11 14:32:24 +00:00)\n"
          ]
        }
      ]
    },
    {
      "cell_type": "code",
      "metadata": {
        "id": "19EJz-XmY32T",
        "colab": {
          "base_uri": "https://localhost:8080/",
          "height": 34
        },
        "outputId": "22720e96-e9a4-4c48-b2ff-08b318cebc2a"
      },
      "source": [
        "init_notebook_mode(connected=True)"
      ],
      "execution_count": 31,
      "outputs": [
        {
          "output_type": "display_data",
          "data": {
            "text/html": [
              "        <script type=\"text/javascript\">\n",
              "        window.PlotlyConfig = {MathJaxConfig: 'local'};\n",
              "        if (window.MathJax) {MathJax.Hub.Config({SVG: {font: \"STIX-Web\"}});}\n",
              "        if (typeof require !== 'undefined') {\n",
              "        require.undef(\"plotly\");\n",
              "        requirejs.config({\n",
              "            paths: {\n",
              "                'plotly': ['https://cdn.plot.ly/plotly-latest.min']\n",
              "            }\n",
              "        });\n",
              "        require(['plotly'], function(Plotly) {\n",
              "            window._Plotly = Plotly;\n",
              "        });\n",
              "        }\n",
              "        </script>\n",
              "        "
            ]
          },
          "metadata": {}
        },
        {
          "output_type": "stream",
          "name": "stdout",
          "text": [
            "time: 4.53 ms (started: 2021-10-11 14:32:24 +00:00)\n"
          ]
        }
      ]
    },
    {
      "cell_type": "code",
      "metadata": {
        "id": "kX3akTE2Zd1p",
        "colab": {
          "base_uri": "https://localhost:8080/",
          "height": 35
        },
        "outputId": "cd29227a-e3c5-42cd-d6df-15e21c9f0749"
      },
      "source": [
        "#trace1 is for 'Cluster 0'\n",
        "trace1 = go.Scatter(\n",
        "                    x = cluster0[\"PC1_2d\"],\n",
        "                    y = cluster0[\"PC2_2d\"],\n",
        "                    mode = \"markers\",\n",
        "                    name = \"Non Fraud\",\n",
        "                    marker = dict(color = 'rgba(0, 0, 0, 0.8)'),\n",
        "                    text = None)\n",
        "\n",
        "#trace2 is for 'Cluster 1'\n",
        "trace2 = go.Scatter(\n",
        "                    x = cluster1[\"PC1_2d\"],\n",
        "                    y = cluster1[\"PC2_2d\"],\n",
        "                    mode = \"markers\",\n",
        "                    name = \"Fraud\",\n",
        "                    marker = dict(color = 'rgba(240, 52, 52, 0.8)'),\n",
        "                    text = None)\n",
        "\n",
        "data = [trace1, trace2]\n",
        "\n",
        "title = \"K-Means - PCA\"\n",
        "\n",
        "layout = dict(title = title,\n",
        "              xaxis= dict(title= 'PC1',ticklen= 5,zeroline= False),\n",
        "              yaxis= dict(title= 'PC2',ticklen= 5,zeroline= False)\n",
        "             )\n",
        "\n",
        "#Plot and save html\n",
        "plotly.offline.plot({\"data\": data,\n",
        "                     \"layout\": layout},\n",
        "                     auto_open=True)"
      ],
      "execution_count": 32,
      "outputs": [
        {
          "output_type": "execute_result",
          "data": {
            "application/vnd.google.colaboratory.intrinsic+json": {
              "type": "string"
            },
            "text/plain": [
              "'temp-plot.html'"
            ]
          },
          "metadata": {},
          "execution_count": 32
        },
        {
          "output_type": "stream",
          "name": "stdout",
          "text": [
            "time: 1.24 s (started: 2021-10-11 14:32:24 +00:00)\n"
          ]
        }
      ]
    },
    {
      "cell_type": "markdown",
      "metadata": {
        "id": "0BvOTvWMasU4"
      },
      "source": [
        "Download and Open File temp-plot.html to see the Graph, please screenshoot and Place in here.\n",
        "\n",
        "![](https://github.com/multimediary/portfolio-data-science/blob/main/screenshots/fraud-modeling-CDR-K-Means.jpg?raw=true)"
      ]
    },
    {
      "cell_type": "markdown",
      "metadata": {
        "id": "GHRJdugewQgj"
      },
      "source": [
        "**6. DATA EVALUATION WITH CONFUSION MATRIX**"
      ]
    },
    {
      "cell_type": "code",
      "metadata": {
        "id": "07SkEFCTmj3a",
        "colab": {
          "base_uri": "https://localhost:8080/",
          "height": 301
        },
        "outputId": "671cc117-8975-4844-87ed-71721d5e79a5"
      },
      "source": [
        "C = confusion_matrix(df[\"label\"],plotX[\"labels_kmeans\"])\n",
        "\n",
        "# Plot confusion matrix\n",
        "plt.imshow(C,interpolation='none',cmap='Blues')\n",
        "for (i, j), z in np.ndenumerate(C):\n",
        "    plt.text(j, i, z, ha='center', va='center')\n",
        "plt.xlabel(\"labels_kmeans\")\n",
        "plt.ylabel(\"label_fraud\")\n",
        "plt.show()"
      ],
      "execution_count": 33,
      "outputs": [
        {
          "output_type": "display_data",
          "data": {
            "image/png": "[encoded data removed]",
            "text/plain": [
              "<Figure size 432x288 with 1 Axes>"
            ]
          },
          "metadata": {
            "needs_background": "light"
          }
        },
        {
          "output_type": "stream",
          "name": "stdout",
          "text": [
            "time: 191 ms (started: 2021-10-11 14:32:25 +00:00)\n"
          ]
        }
      ]
    },
    {
      "cell_type": "code",
      "metadata": {
        "id": "7Ka9UgbCm4rh",
        "colab": {
          "base_uri": "https://localhost:8080/"
        },
        "outputId": "32ea0f8b-936a-4863-875e-3f36d222cd50"
      },
      "source": [
        "print(C)"
      ],
      "execution_count": 34,
      "outputs": [
        {
          "output_type": "stream",
          "name": "stdout",
          "text": [
            "[[10238   783]\n",
            " [  380    17]]\n",
            "time: 2.11 ms (started: 2021-10-11 14:32:25 +00:00)\n"
          ]
        }
      ]
    },
    {
      "cell_type": "code",
      "metadata": {
        "id": "fdm51Dbom72l",
        "colab": {
          "base_uri": "https://localhost:8080/"
        },
        "outputId": "f9755b0f-66a3-496e-f585-f2c96d871254"
      },
      "source": [
        "# Nilai Accuracy, Precision, Recall, and F1 Score\n",
        "print(\"Accuracy Score of K-Means\", accuracy_score(df[\"label\"], plotX[\"labels_kmeans\"]))\n",
        "print(\"Recall of K-Means\", recall_score(df[\"label\"], plotX[\"labels_kmeans\"],average=None, zero_division=1))\n",
        "print(\"Precision Score of K-Means\", precision_score(df[\"label\"], plotX[\"labels_kmeans\"],average=None, zero_division=1))\n",
        "print(\"F1 Score of K-Means\", f1_score(df[\"label\"], plotX[\"labels_kmeans\"],average=None, zero_division=1))"
      ],
      "execution_count": 35,
      "outputs": [
        {
          "output_type": "stream",
          "name": "stdout",
          "text": [
            "Accuracy Score of K-Means 0.8981432825363461\n",
            "Recall of K-Means [0.92895382 0.04282116]\n",
            "Precision Score of K-Means [0.96421172 0.02125   ]\n",
            "F1 Score of K-Means [0.94625445 0.02840434]\n",
            "time: 35.6 ms (started: 2021-10-11 14:32:25 +00:00)\n"
          ]
        }
      ]
    }
  ]
}