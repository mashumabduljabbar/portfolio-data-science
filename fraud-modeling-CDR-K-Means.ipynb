{
  "nbformat": 4,
  "nbformat_minor": 0,
  "metadata": {
    "kernelspec": {
      "display_name": "Python 3",
      "language": "python",
      "name": "python3"
    },
    "language_info": {
      "codemirror_mode": {
        "name": "ipython",
        "version": 3
      },
      "file_extension": ".py",
      "mimetype": "text/x-python",
      "name": "python",
      "nbconvert_exporter": "python",
      "pygments_lexer": "ipython3",
      "version": "3.7.3"
    },
    "colab": {
      "name": "K-Means.ipynb",
      "provenance": [],
      "collapsed_sections": [],
      "include_colab_link": true
    }
  },
  "cells": [
    {
      "cell_type": "markdown",
      "metadata": {
        "id": "view-in-github",
        "colab_type": "text"
      },
      "source": [
        "<a href=\"https://colab.research.google.com/github/multimediary/portfolio-data-science/blob/main/fraud-modeling-CDR-K-Means.ipynb\" target=\"_parent\"><img src=\"https://colab.research.google.com/assets/colab-badge.svg\" alt=\"Open In Colab\"/></a>"
      ]
    },
    {
      "cell_type": "markdown",
      "metadata": {
        "id": "u4iY8H7VwvFa"
      },
      "source": [
        "**1. IMPORT LIBRARY**"
      ]
    },
    {
      "cell_type": "code",
      "metadata": {
        "id": "_h-zjM9KaxLi",
        "colab": {
          "base_uri": "https://localhost:8080/"
        },
        "outputId": "f08a03ff-8edb-4e93-f263-a5bd379bf0f7"
      },
      "source": [
        "# For ignore warning\n",
        "import warnings\n",
        "warnings.filterwarnings('ignore')\n",
        "warnings.simplefilter('ignore')\n",
        "\n",
        "# Library For code execution time\n",
        "!pip install ipython-autotime\n",
        "%load_ext autotime\n",
        "\n",
        "# Library For Preprocessing\n",
        "import pandas as pd\n",
        "import numpy as np\n",
        "from sklearn.preprocessing import MinMaxScaler, LabelEncoder, StandardScaler\n",
        "\n",
        "# Library For Clustering\n",
        "from sklearn.cluster import KMeans\n",
        "\n",
        "# Library For Visualization\n",
        "import plotly\n",
        "import plotly.graph_objs as go\n",
        "from plotly.offline import download_plotlyjs, init_notebook_mode, plot, iplot\n",
        "from sklearn.decomposition import PCA\n",
        "import matplotlib.pyplot as plt\n",
        "\n",
        "# Library For Evaluation\n",
        "from sklearn.metrics import confusion_matrix, accuracy_score, precision_score, recall_score, f1_score"
      ],
      "execution_count": 2,
      "outputs": [
        {
          "output_type": "stream",
          "text": [
            "Requirement already satisfied: ipython-autotime in /usr/local/lib/python3.7/dist-packages (0.3.1)\n",
            "Requirement already satisfied: ipython in /usr/local/lib/python3.7/dist-packages (from ipython-autotime) (5.5.0)\n",
            "Requirement already satisfied: prompt-toolkit<2.0.0,>=1.0.4 in /usr/local/lib/python3.7/dist-packages (from ipython->ipython-autotime) (1.0.18)\n",
            "Requirement already satisfied: pexpect; sys_platform != \"win32\" in /usr/local/lib/python3.7/dist-packages (from ipython->ipython-autotime) (4.8.0)\n",
            "Requirement already satisfied: pickleshare in /usr/local/lib/python3.7/dist-packages (from ipython->ipython-autotime) (0.7.5)\n",
            "Requirement already satisfied: traitlets>=4.2 in /usr/local/lib/python3.7/dist-packages (from ipython->ipython-autotime) (5.0.5)\n",
            "Requirement already satisfied: decorator in /usr/local/lib/python3.7/dist-packages (from ipython->ipython-autotime) (4.4.2)\n",
            "Requirement already satisfied: pygments in /usr/local/lib/python3.7/dist-packages (from ipython->ipython-autotime) (2.6.1)\n",
            "Requirement already satisfied: simplegeneric>0.8 in /usr/local/lib/python3.7/dist-packages (from ipython->ipython-autotime) (0.8.1)\n",
            "Requirement already satisfied: setuptools>=18.5 in /usr/local/lib/python3.7/dist-packages (from ipython->ipython-autotime) (54.2.0)\n",
            "Requirement already satisfied: wcwidth in /usr/local/lib/python3.7/dist-packages (from prompt-toolkit<2.0.0,>=1.0.4->ipython->ipython-autotime) (0.2.5)\n",
            "Requirement already satisfied: six>=1.9.0 in /usr/local/lib/python3.7/dist-packages (from prompt-toolkit<2.0.0,>=1.0.4->ipython->ipython-autotime) (1.15.0)\n",
            "Requirement already satisfied: ptyprocess>=0.5 in /usr/local/lib/python3.7/dist-packages (from pexpect; sys_platform != \"win32\"->ipython->ipython-autotime) (0.7.0)\n",
            "Requirement already satisfied: ipython-genutils in /usr/local/lib/python3.7/dist-packages (from traitlets>=4.2->ipython->ipython-autotime) (0.2.0)\n",
            "The autotime extension is already loaded. To reload it, use:\n",
            "  %reload_ext autotime\n",
            "time: 2.64 s (started: 2021-04-11 13:06:57 +00:00)\n"
          ],
          "name": "stdout"
        }
      ]
    },
    {
      "cell_type": "markdown",
      "metadata": {
        "id": "x_XuR48GpqP9"
      },
      "source": [
        "**2. DATA GATHERING**"
      ]
    },
    {
      "cell_type": "code",
      "metadata": {
        "id": "FY8kYBHywWfO",
        "colab": {
          "base_uri": "https://localhost:8080/",
          "height": 212
        },
        "outputId": "5be08ce3-eb4f-4e07-d185-afa8a594c248"
      },
      "source": [
        "# Read Dataset with Pandas from Git\n",
        "df = pd.read_csv(\"https://raw.githubusercontent.com/multimediary/dataset/master/cdrwithfraude.csv\")\n",
        "df.head()"
      ],
      "execution_count": 3,
      "outputs": [
        {
          "output_type": "execute_result",
          "data": {
            "text/html": [
              "<div>\n",
              "<style scoped>\n",
              "    .dataframe tbody tr th:only-of-type {\n",
              "        vertical-align: middle;\n",
              "    }\n",
              "\n",
              "    .dataframe tbody tr th {\n",
              "        vertical-align: top;\n",
              "    }\n",
              "\n",
              "    .dataframe thead th {\n",
              "        text-align: right;\n",
              "    }\n",
              "</style>\n",
              "<table border=\"1\" class=\"dataframe\">\n",
              "  <thead>\n",
              "    <tr style=\"text-align: right;\">\n",
              "      <th></th>\n",
              "      <th>starttime</th>\n",
              "      <th>stoptime</th>\n",
              "      <th>anumber</th>\n",
              "      <th>bnumber</th>\n",
              "      <th>duration</th>\n",
              "      <th>fee</th>\n",
              "      <th>destination</th>\n",
              "      <th>type</th>\n",
              "      <th>label</th>\n",
              "    </tr>\n",
              "  </thead>\n",
              "  <tbody>\n",
              "    <tr>\n",
              "      <th>0</th>\n",
              "      <td>2018-05-02 09:13:24</td>\n",
              "      <td>2018-05-02 09:20:38</td>\n",
              "      <td>778692960</td>\n",
              "      <td>1500200</td>\n",
              "      <td>434</td>\n",
              "      <td>6000</td>\n",
              "      <td>callcenter</td>\n",
              "      <td>Injapati</td>\n",
              "      <td>0</td>\n",
              "    </tr>\n",
              "    <tr>\n",
              "      <th>1</th>\n",
              "      <td>2018-05-18 16:49:19</td>\n",
              "      <td>2018-05-18 16:52:11</td>\n",
              "      <td>778692960</td>\n",
              "      <td>1500200</td>\n",
              "      <td>172</td>\n",
              "      <td>2250</td>\n",
              "      <td>callcenter</td>\n",
              "      <td>Injapati</td>\n",
              "      <td>0</td>\n",
              "    </tr>\n",
              "    <tr>\n",
              "      <th>2</th>\n",
              "      <td>2018-05-18 18:15:17</td>\n",
              "      <td>2018-05-18 18:18:20</td>\n",
              "      <td>778692960</td>\n",
              "      <td>1500200</td>\n",
              "      <td>183</td>\n",
              "      <td>3000</td>\n",
              "      <td>callcenter</td>\n",
              "      <td>Injapati</td>\n",
              "      <td>0</td>\n",
              "    </tr>\n",
              "    <tr>\n",
              "      <th>3</th>\n",
              "      <td>2018-05-31 08:52:46</td>\n",
              "      <td>2018-05-31 08:53:03</td>\n",
              "      <td>778692253</td>\n",
              "      <td>1500788</td>\n",
              "      <td>17</td>\n",
              "      <td>750</td>\n",
              "      <td>callcenter</td>\n",
              "      <td>Injapati</td>\n",
              "      <td>0</td>\n",
              "    </tr>\n",
              "    <tr>\n",
              "      <th>4</th>\n",
              "      <td>2018-05-31 08:53:10</td>\n",
              "      <td>2018-05-31 08:53:24</td>\n",
              "      <td>778692253</td>\n",
              "      <td>1500788</td>\n",
              "      <td>14</td>\n",
              "      <td>750</td>\n",
              "      <td>callcenter</td>\n",
              "      <td>Injapati</td>\n",
              "      <td>0</td>\n",
              "    </tr>\n",
              "  </tbody>\n",
              "</table>\n",
              "</div>"
            ],
            "text/plain": [
              "             starttime             stoptime  ...      type label\n",
              "0  2018-05-02 09:13:24  2018-05-02 09:20:38  ...  Injapati     0\n",
              "1  2018-05-18 16:49:19  2018-05-18 16:52:11  ...  Injapati     0\n",
              "2  2018-05-18 18:15:17  2018-05-18 18:18:20  ...  Injapati     0\n",
              "3  2018-05-31 08:52:46  2018-05-31 08:53:03  ...  Injapati     0\n",
              "4  2018-05-31 08:53:10  2018-05-31 08:53:24  ...  Injapati     0\n",
              "\n",
              "[5 rows x 9 columns]"
            ]
          },
          "metadata": {
            "tags": []
          },
          "execution_count": 3
        },
        {
          "output_type": "stream",
          "text": [
            "time: 423 ms (started: 2021-04-11 13:07:28 +00:00)\n"
          ],
          "name": "stdout"
        }
      ]
    },
    {
      "cell_type": "code",
      "metadata": {
        "id": "vj6eSmf5yOSR",
        "colab": {
          "base_uri": "https://localhost:8080/"
        },
        "outputId": "77b3e693-17ff-4413-bfaf-4b513b5d9130"
      },
      "source": [
        "# Show Dataset Description (Focus at Dtype)\n",
        "df.info()"
      ],
      "execution_count": 4,
      "outputs": [
        {
          "output_type": "stream",
          "text": [
            "<class 'pandas.core.frame.DataFrame'>\n",
            "RangeIndex: 11418 entries, 0 to 11417\n",
            "Data columns (total 9 columns):\n",
            " #   Column       Non-Null Count  Dtype \n",
            "---  ------       --------------  ----- \n",
            " 0   starttime    11418 non-null  object\n",
            " 1   stoptime     11418 non-null  object\n",
            " 2   anumber      11418 non-null  int64 \n",
            " 3   bnumber      11418 non-null  object\n",
            " 4   duration     11418 non-null  int64 \n",
            " 5   fee          11418 non-null  int64 \n",
            " 6   destination  11418 non-null  object\n",
            " 7   type         11418 non-null  object\n",
            " 8   label        11418 non-null  int64 \n",
            "dtypes: int64(4), object(5)\n",
            "memory usage: 803.0+ KB\n",
            "time: 28.5 ms (started: 2021-04-11 13:07:50 +00:00)\n"
          ],
          "name": "stdout"
        }
      ]
    },
    {
      "cell_type": "code",
      "metadata": {
        "id": "atMYvtJYC9t5",
        "outputId": "554c2e53-23f5-4c62-f684-18dff7b66809",
        "colab": {
          "base_uri": "https://localhost:8080/",
          "height": 301
        }
      },
      "source": [
        "# Displays Dataframe Statistics (Focus at std)\n",
        "df.describe()"
      ],
      "execution_count": 5,
      "outputs": [
        {
          "output_type": "execute_result",
          "data": {
            "text/html": [
              "<div>\n",
              "<style scoped>\n",
              "    .dataframe tbody tr th:only-of-type {\n",
              "        vertical-align: middle;\n",
              "    }\n",
              "\n",
              "    .dataframe tbody tr th {\n",
              "        vertical-align: top;\n",
              "    }\n",
              "\n",
              "    .dataframe thead th {\n",
              "        text-align: right;\n",
              "    }\n",
              "</style>\n",
              "<table border=\"1\" class=\"dataframe\">\n",
              "  <thead>\n",
              "    <tr style=\"text-align: right;\">\n",
              "      <th></th>\n",
              "      <th>anumber</th>\n",
              "      <th>duration</th>\n",
              "      <th>fee</th>\n",
              "      <th>label</th>\n",
              "    </tr>\n",
              "  </thead>\n",
              "  <tbody>\n",
              "    <tr>\n",
              "      <th>count</th>\n",
              "      <td>1.141800e+04</td>\n",
              "      <td>11418.000000</td>\n",
              "      <td>1.141800e+04</td>\n",
              "      <td>11418.000000</td>\n",
              "    </tr>\n",
              "    <tr>\n",
              "      <th>mean</th>\n",
              "      <td>7.786475e+08</td>\n",
              "      <td>154.111841</td>\n",
              "      <td>1.215145e+04</td>\n",
              "      <td>0.034770</td>\n",
              "    </tr>\n",
              "    <tr>\n",
              "      <th>std</th>\n",
              "      <td>3.985148e+04</td>\n",
              "      <td>410.204092</td>\n",
              "      <td>4.131463e+04</td>\n",
              "      <td>0.183204</td>\n",
              "    </tr>\n",
              "    <tr>\n",
              "      <th>min</th>\n",
              "      <td>7.786101e+08</td>\n",
              "      <td>0.000000</td>\n",
              "      <td>4.300000e+01</td>\n",
              "      <td>0.000000</td>\n",
              "    </tr>\n",
              "    <tr>\n",
              "      <th>25%</th>\n",
              "      <td>7.786133e+08</td>\n",
              "      <td>24.000000</td>\n",
              "      <td>6.340000e+02</td>\n",
              "      <td>0.000000</td>\n",
              "    </tr>\n",
              "    <tr>\n",
              "      <th>50%</th>\n",
              "      <td>7.786134e+08</td>\n",
              "      <td>57.000000</td>\n",
              "      <td>2.614000e+03</td>\n",
              "      <td>0.000000</td>\n",
              "    </tr>\n",
              "    <tr>\n",
              "      <th>75%</th>\n",
              "      <td>7.786930e+08</td>\n",
              "      <td>143.000000</td>\n",
              "      <td>1.045400e+04</td>\n",
              "      <td>0.000000</td>\n",
              "    </tr>\n",
              "    <tr>\n",
              "      <th>max</th>\n",
              "      <td>7.786978e+08</td>\n",
              "      <td>17735.000000</td>\n",
              "      <td>1.567841e+06</td>\n",
              "      <td>1.000000</td>\n",
              "    </tr>\n",
              "  </tbody>\n",
              "</table>\n",
              "</div>"
            ],
            "text/plain": [
              "            anumber      duration           fee         label\n",
              "count  1.141800e+04  11418.000000  1.141800e+04  11418.000000\n",
              "mean   7.786475e+08    154.111841  1.215145e+04      0.034770\n",
              "std    3.985148e+04    410.204092  4.131463e+04      0.183204\n",
              "min    7.786101e+08      0.000000  4.300000e+01      0.000000\n",
              "25%    7.786133e+08     24.000000  6.340000e+02      0.000000\n",
              "50%    7.786134e+08     57.000000  2.614000e+03      0.000000\n",
              "75%    7.786930e+08    143.000000  1.045400e+04      0.000000\n",
              "max    7.786978e+08  17735.000000  1.567841e+06      1.000000"
            ]
          },
          "metadata": {
            "tags": []
          },
          "execution_count": 5
        },
        {
          "output_type": "stream",
          "text": [
            "time: 31 ms (started: 2021-04-11 13:08:07 +00:00)\n"
          ],
          "name": "stdout"
        }
      ]
    },
    {
      "cell_type": "code",
      "metadata": {
        "id": "ERzzPo6swj60",
        "colab": {
          "base_uri": "https://localhost:8080/"
        },
        "outputId": "a30bb9c4-16c1-4f26-eae1-472ea81741f0"
      },
      "source": [
        "# Show dataset shape\n",
        "df.shape"
      ],
      "execution_count": 6,
      "outputs": [
        {
          "output_type": "execute_result",
          "data": {
            "text/plain": [
              "(11418, 9)"
            ]
          },
          "metadata": {
            "tags": []
          },
          "execution_count": 6
        },
        {
          "output_type": "stream",
          "text": [
            "time: 3.48 ms (started: 2021-04-11 13:08:27 +00:00)\n"
          ],
          "name": "stdout"
        }
      ]
    },
    {
      "cell_type": "code",
      "metadata": {
        "id": "5NcmExGDwpe7",
        "colab": {
          "base_uri": "https://localhost:8080/"
        },
        "outputId": "8397598d-f37d-4f68-a178-df2a42614e6f"
      },
      "source": [
        "# Show the dataset labeled fraud (1) and non fraud (0)\n",
        "df['label'].value_counts()"
      ],
      "execution_count": 7,
      "outputs": [
        {
          "output_type": "execute_result",
          "data": {
            "text/plain": [
              "0    11021\n",
              "1      397\n",
              "Name: label, dtype: int64"
            ]
          },
          "metadata": {
            "tags": []
          },
          "execution_count": 7
        },
        {
          "output_type": "stream",
          "text": [
            "time: 10.5 ms (started: 2021-04-11 13:08:38 +00:00)\n"
          ],
          "name": "stdout"
        }
      ]
    },
    {
      "cell_type": "code",
      "metadata": {
        "id": "gdASqke5xCat",
        "colab": {
          "base_uri": "https://localhost:8080/"
        },
        "outputId": "7f27a783-d459-4de1-b8af-459e1038b069"
      },
      "source": [
        "# Show a comparison between the dataset labeled fraud and non-fraud\n",
        "print(df['label'].value_counts() / df['label'].shape[0])"
      ],
      "execution_count": 8,
      "outputs": [
        {
          "output_type": "stream",
          "text": [
            "0    0.96523\n",
            "1    0.03477\n",
            "Name: label, dtype: float64\n",
            "time: 29.5 ms (started: 2021-04-11 13:08:49 +00:00)\n"
          ],
          "name": "stdout"
        }
      ]
    },
    {
      "cell_type": "code",
      "metadata": {
        "id": "idKX9pCW01jm",
        "colab": {
          "base_uri": "https://localhost:8080/"
        },
        "outputId": "445c89c7-891e-4f8d-c6e7-83ba047d9c07"
      },
      "source": [
        "# Check what types of calls are there\n",
        "df['type'].value_counts()"
      ],
      "execution_count": 9,
      "outputs": [
        {
          "output_type": "execute_result",
          "data": {
            "text/plain": [
              "SLJJ          7093\n",
              "SLI 001       4035\n",
              "Lokal          153\n",
              "SLI 007        102\n",
              "VoIP 01017      21\n",
              "Injapati        14\n",
              "Name: type, dtype: int64"
            ]
          },
          "metadata": {
            "tags": []
          },
          "execution_count": 9
        },
        {
          "output_type": "stream",
          "text": [
            "time: 12.8 ms (started: 2021-04-11 13:08:58 +00:00)\n"
          ],
          "name": "stdout"
        }
      ]
    },
    {
      "cell_type": "code",
      "metadata": {
        "id": "CLcq74ZVT67o",
        "colab": {
          "base_uri": "https://localhost:8080/"
        },
        "outputId": "68c6601a-3449-4e16-fd0f-3deca6645a91"
      },
      "source": [
        "# Find null in the dataset\n",
        "df.isnull().sum().max()"
      ],
      "execution_count": 10,
      "outputs": [
        {
          "output_type": "execute_result",
          "data": {
            "text/plain": [
              "0"
            ]
          },
          "metadata": {
            "tags": []
          },
          "execution_count": 10
        },
        {
          "output_type": "stream",
          "text": [
            "time: 10.8 ms (started: 2021-04-11 13:09:30 +00:00)\n"
          ],
          "name": "stdout"
        }
      ]
    },
    {
      "cell_type": "markdown",
      "metadata": {
        "id": "fr55APKM1y_2"
      },
      "source": [
        "**3. DATA PREPARATION**"
      ]
    },
    {
      "cell_type": "code",
      "metadata": {
        "id": "BM8j8Rkb2cI9",
        "colab": {
          "base_uri": "https://localhost:8080/"
        },
        "outputId": "b74fad3f-6af0-4306-92cb-e6c0cb5a15a5"
      },
      "source": [
        "# Drop unneeded attributes, namely startime and stoptime, destination and label\n",
        "dataset = df.drop(['starttime','stoptime','destination','label'], axis = 1)\n",
        "label = df.label"
      ],
      "execution_count": 12,
      "outputs": [
        {
          "output_type": "stream",
          "text": [
            "time: 5.51 ms (started: 2021-04-11 13:16:04 +00:00)\n"
          ],
          "name": "stdout"
        }
      ]
    },
    {
      "cell_type": "code",
      "metadata": {
        "id": "wNs92sk74z5l",
        "colab": {
          "base_uri": "https://localhost:8080/"
        },
        "outputId": "cc3420cd-f101-4b69-b9ac-74d92b571959"
      },
      "source": [
        "enc = LabelEncoder()\n",
        "def transforming(input, j):\n",
        "    input.iloc[:,j] = enc.fit_transform(input.iloc[:,j])\n",
        "\n",
        "# Change data in the form of objects / strings into numbers\n",
        "for i in range(0,5):\n",
        "    if(i!=2 or i!=3):\n",
        "        transforming(dataset, i)"
      ],
      "execution_count": 13,
      "outputs": [
        {
          "output_type": "stream",
          "text": [
            "time: 18.1 ms (started: 2021-04-11 13:22:49 +00:00)\n"
          ],
          "name": "stdout"
        }
      ]
    },
    {
      "cell_type": "code",
      "metadata": {
        "id": "ucktkXe951aG",
        "colab": {
          "base_uri": "https://localhost:8080/",
          "height": 212
        },
        "outputId": "818da0c6-f43f-4e9a-a7f7-0a42f095121d"
      },
      "source": [
        "# Show Dataset \n",
        "dataset.head()"
      ],
      "execution_count": 14,
      "outputs": [
        {
          "output_type": "execute_result",
          "data": {
            "text/html": [
              "<div>\n",
              "<style scoped>\n",
              "    .dataframe tbody tr th:only-of-type {\n",
              "        vertical-align: middle;\n",
              "    }\n",
              "\n",
              "    .dataframe tbody tr th {\n",
              "        vertical-align: top;\n",
              "    }\n",
              "\n",
              "    .dataframe thead th {\n",
              "        text-align: right;\n",
              "    }\n",
              "</style>\n",
              "<table border=\"1\" class=\"dataframe\">\n",
              "  <thead>\n",
              "    <tr style=\"text-align: right;\">\n",
              "      <th></th>\n",
              "      <th>anumber</th>\n",
              "      <th>bnumber</th>\n",
              "      <th>duration</th>\n",
              "      <th>fee</th>\n",
              "      <th>type</th>\n",
              "    </tr>\n",
              "  </thead>\n",
              "  <tbody>\n",
              "    <tr>\n",
              "      <th>0</th>\n",
              "      <td>265</td>\n",
              "      <td>3236</td>\n",
              "      <td>431</td>\n",
              "      <td>447</td>\n",
              "      <td>0</td>\n",
              "    </tr>\n",
              "    <tr>\n",
              "      <th>1</th>\n",
              "      <td>265</td>\n",
              "      <td>3236</td>\n",
              "      <td>172</td>\n",
              "      <td>238</td>\n",
              "      <td>0</td>\n",
              "    </tr>\n",
              "    <tr>\n",
              "      <th>2</th>\n",
              "      <td>265</td>\n",
              "      <td>3236</td>\n",
              "      <td>183</td>\n",
              "      <td>294</td>\n",
              "      <td>0</td>\n",
              "    </tr>\n",
              "    <tr>\n",
              "      <th>3</th>\n",
              "      <td>225</td>\n",
              "      <td>3237</td>\n",
              "      <td>17</td>\n",
              "      <td>96</td>\n",
              "      <td>0</td>\n",
              "    </tr>\n",
              "    <tr>\n",
              "      <th>4</th>\n",
              "      <td>225</td>\n",
              "      <td>3237</td>\n",
              "      <td>14</td>\n",
              "      <td>96</td>\n",
              "      <td>0</td>\n",
              "    </tr>\n",
              "  </tbody>\n",
              "</table>\n",
              "</div>"
            ],
            "text/plain": [
              "   anumber  bnumber  duration  fee  type\n",
              "0      265     3236       431  447     0\n",
              "1      265     3236       172  238     0\n",
              "2      265     3236       183  294     0\n",
              "3      225     3237        17   96     0\n",
              "4      225     3237        14   96     0"
            ]
          },
          "metadata": {
            "tags": []
          },
          "execution_count": 14
        },
        {
          "output_type": "stream",
          "text": [
            "time: 12.3 ms (started: 2021-04-11 13:23:01 +00:00)\n"
          ],
          "name": "stdout"
        }
      ]
    },
    {
      "cell_type": "code",
      "metadata": {
        "id": "VFwFuKZB59bd",
        "colab": {
          "base_uri": "https://localhost:8080/"
        },
        "outputId": "3476568a-1cc3-4ba2-b7a4-e8ed57d33586"
      },
      "source": [
        "# Transform data with Scaler to perform data normalization so that the data used does not have large deviations.\n",
        "features = ['anumber', 'bnumber', 'duration', 'fee', 'type']\n",
        "Final_Dataset = dataset.loc[:, features].values\n",
        "Final_Dataset = StandardScaler().fit_transform(Final_Dataset)\n",
        "Final_Dataset = pd.DataFrame(data = Final_Dataset, columns = features)"
      ],
      "execution_count": 15,
      "outputs": [
        {
          "output_type": "stream",
          "text": [
            "time: 14 ms (started: 2021-04-11 13:27:49 +00:00)\n"
          ],
          "name": "stdout"
        }
      ]
    },
    {
      "cell_type": "code",
      "metadata": {
        "id": "yHUS7rgl6c53",
        "colab": {
          "base_uri": "https://localhost:8080/",
          "height": 212
        },
        "outputId": "371e1bad-8094-4c5f-857f-bc21824d9ac4"
      },
      "source": [
        "# Show the Final Dataset \n",
        "Final_Dataset.head()"
      ],
      "execution_count": 16,
      "outputs": [
        {
          "output_type": "execute_result",
          "data": {
            "text/html": [
              "<div>\n",
              "<style scoped>\n",
              "    .dataframe tbody tr th:only-of-type {\n",
              "        vertical-align: middle;\n",
              "    }\n",
              "\n",
              "    .dataframe tbody tr th {\n",
              "        vertical-align: top;\n",
              "    }\n",
              "\n",
              "    .dataframe thead th {\n",
              "        text-align: right;\n",
              "    }\n",
              "</style>\n",
              "<table border=\"1\" class=\"dataframe\">\n",
              "  <thead>\n",
              "    <tr style=\"text-align: right;\">\n",
              "      <th></th>\n",
              "      <th>anumber</th>\n",
              "      <th>bnumber</th>\n",
              "      <th>duration</th>\n",
              "      <th>fee</th>\n",
              "      <th>type</th>\n",
              "    </tr>\n",
              "  </thead>\n",
              "  <tbody>\n",
              "    <tr>\n",
              "      <th>0</th>\n",
              "      <td>1.097724</td>\n",
              "      <td>1.802827</td>\n",
              "      <td>1.697394</td>\n",
              "      <td>0.358047</td>\n",
              "      <td>-3.259819</td>\n",
              "    </tr>\n",
              "    <tr>\n",
              "      <th>1</th>\n",
              "      <td>1.097724</td>\n",
              "      <td>1.802827</td>\n",
              "      <td>0.250598</td>\n",
              "      <td>-0.376284</td>\n",
              "      <td>-3.259819</td>\n",
              "    </tr>\n",
              "    <tr>\n",
              "      <th>2</th>\n",
              "      <td>1.097724</td>\n",
              "      <td>1.802827</td>\n",
              "      <td>0.312045</td>\n",
              "      <td>-0.179525</td>\n",
              "      <td>-3.259819</td>\n",
              "    </tr>\n",
              "    <tr>\n",
              "      <th>3</th>\n",
              "      <td>0.540323</td>\n",
              "      <td>1.803923</td>\n",
              "      <td>-0.615244</td>\n",
              "      <td>-0.875207</td>\n",
              "      <td>-3.259819</td>\n",
              "    </tr>\n",
              "    <tr>\n",
              "      <th>4</th>\n",
              "      <td>0.540323</td>\n",
              "      <td>1.803923</td>\n",
              "      <td>-0.632003</td>\n",
              "      <td>-0.875207</td>\n",
              "      <td>-3.259819</td>\n",
              "    </tr>\n",
              "  </tbody>\n",
              "</table>\n",
              "</div>"
            ],
            "text/plain": [
              "    anumber   bnumber  duration       fee      type\n",
              "0  1.097724  1.802827  1.697394  0.358047 -3.259819\n",
              "1  1.097724  1.802827  0.250598 -0.376284 -3.259819\n",
              "2  1.097724  1.802827  0.312045 -0.179525 -3.259819\n",
              "3  0.540323  1.803923 -0.615244 -0.875207 -3.259819\n",
              "4  0.540323  1.803923 -0.632003 -0.875207 -3.259819"
            ]
          },
          "metadata": {
            "tags": []
          },
          "execution_count": 16
        },
        {
          "output_type": "stream",
          "text": [
            "time: 19.9 ms (started: 2021-04-11 13:28:07 +00:00)\n"
          ],
          "name": "stdout"
        }
      ]
    },
    {
      "cell_type": "code",
      "metadata": {
        "id": "uJnlos1T-IXO",
        "colab": {
          "base_uri": "https://localhost:8080/"
        },
        "outputId": "f4496f1a-4128-4fa9-ed97-54921af28e0d"
      },
      "source": [
        "# Show Final Dataset Description (Focus at Dtype)\n",
        "Final_Dataset.info()"
      ],
      "execution_count": 17,
      "outputs": [
        {
          "output_type": "stream",
          "text": [
            "<class 'pandas.core.frame.DataFrame'>\n",
            "RangeIndex: 11418 entries, 0 to 11417\n",
            "Data columns (total 5 columns):\n",
            " #   Column    Non-Null Count  Dtype  \n",
            "---  ------    --------------  -----  \n",
            " 0   anumber   11418 non-null  float64\n",
            " 1   bnumber   11418 non-null  float64\n",
            " 2   duration  11418 non-null  float64\n",
            " 3   fee       11418 non-null  float64\n",
            " 4   type      11418 non-null  float64\n",
            "dtypes: float64(5)\n",
            "memory usage: 446.1 KB\n",
            "time: 10.3 ms (started: 2021-04-11 13:28:22 +00:00)\n"
          ],
          "name": "stdout"
        }
      ]
    },
    {
      "cell_type": "code",
      "metadata": {
        "id": "jz-e6ybYUdjz",
        "colab": {
          "base_uri": "https://localhost:8080/",
          "height": 301
        },
        "outputId": "63daa974-3956-4500-8171-24354b193da6"
      },
      "source": [
        "# Displays Final_Dataset Statistics (Focus at std)\n",
        "Final_Dataset.describe()"
      ],
      "execution_count": 18,
      "outputs": [
        {
          "output_type": "execute_result",
          "data": {
            "text/html": [
              "<div>\n",
              "<style scoped>\n",
              "    .dataframe tbody tr th:only-of-type {\n",
              "        vertical-align: middle;\n",
              "    }\n",
              "\n",
              "    .dataframe tbody tr th {\n",
              "        vertical-align: top;\n",
              "    }\n",
              "\n",
              "    .dataframe thead th {\n",
              "        text-align: right;\n",
              "    }\n",
              "</style>\n",
              "<table border=\"1\" class=\"dataframe\">\n",
              "  <thead>\n",
              "    <tr style=\"text-align: right;\">\n",
              "      <th></th>\n",
              "      <th>anumber</th>\n",
              "      <th>bnumber</th>\n",
              "      <th>duration</th>\n",
              "      <th>fee</th>\n",
              "      <th>type</th>\n",
              "    </tr>\n",
              "  </thead>\n",
              "  <tbody>\n",
              "    <tr>\n",
              "      <th>count</th>\n",
              "      <td>1.141800e+04</td>\n",
              "      <td>1.141800e+04</td>\n",
              "      <td>1.141800e+04</td>\n",
              "      <td>1.141800e+04</td>\n",
              "      <td>1.141800e+04</td>\n",
              "    </tr>\n",
              "    <tr>\n",
              "      <th>mean</th>\n",
              "      <td>-2.250511e-15</td>\n",
              "      <td>1.878959e-15</td>\n",
              "      <td>-6.163206e-16</td>\n",
              "      <td>-7.016049e-15</td>\n",
              "      <td>3.629611e-14</td>\n",
              "    </tr>\n",
              "    <tr>\n",
              "      <th>std</th>\n",
              "      <td>1.000044e+00</td>\n",
              "      <td>1.000044e+00</td>\n",
              "      <td>1.000044e+00</td>\n",
              "      <td>1.000044e+00</td>\n",
              "      <td>1.000044e+00</td>\n",
              "    </tr>\n",
              "    <tr>\n",
              "      <th>min</th>\n",
              "      <td>-2.595056e+00</td>\n",
              "      <td>-1.743395e+00</td>\n",
              "      <td>-7.102079e-01</td>\n",
              "      <td>-1.212507e+00</td>\n",
              "      <td>-3.259819e+00</td>\n",
              "    </tr>\n",
              "    <tr>\n",
              "      <th>25%</th>\n",
              "      <td>-5.048034e-01</td>\n",
              "      <td>-8.346482e-01</td>\n",
              "      <td>-5.761419e-01</td>\n",
              "      <td>-9.314236e-01</td>\n",
              "      <td>-1.248220e+00</td>\n",
              "    </tr>\n",
              "    <tr>\n",
              "      <th>50%</th>\n",
              "      <td>-2.121680e-01</td>\n",
              "      <td>-5.083002e-02</td>\n",
              "      <td>-3.918012e-01</td>\n",
              "      <td>-2.849318e-01</td>\n",
              "      <td>7.633788e-01</td>\n",
              "    </tr>\n",
              "    <tr>\n",
              "      <th>75%</th>\n",
              "      <td>1.055919e+00</td>\n",
              "      <td>8.822999e-01</td>\n",
              "      <td>8.860188e-02</td>\n",
              "      <td>7.831852e-01</td>\n",
              "      <td>7.633788e-01</td>\n",
              "    </tr>\n",
              "    <tr>\n",
              "      <th>max</th>\n",
              "      <td>1.515775e+00</td>\n",
              "      <td>1.806115e+00</td>\n",
              "      <td>4.814428e+00</td>\n",
              "      <td>2.736715e+00</td>\n",
              "      <td>1.769178e+00</td>\n",
              "    </tr>\n",
              "  </tbody>\n",
              "</table>\n",
              "</div>"
            ],
            "text/plain": [
              "            anumber       bnumber      duration           fee          type\n",
              "count  1.141800e+04  1.141800e+04  1.141800e+04  1.141800e+04  1.141800e+04\n",
              "mean  -2.250511e-15  1.878959e-15 -6.163206e-16 -7.016049e-15  3.629611e-14\n",
              "std    1.000044e+00  1.000044e+00  1.000044e+00  1.000044e+00  1.000044e+00\n",
              "min   -2.595056e+00 -1.743395e+00 -7.102079e-01 -1.212507e+00 -3.259819e+00\n",
              "25%   -5.048034e-01 -8.346482e-01 -5.761419e-01 -9.314236e-01 -1.248220e+00\n",
              "50%   -2.121680e-01 -5.083002e-02 -3.918012e-01 -2.849318e-01  7.633788e-01\n",
              "75%    1.055919e+00  8.822999e-01  8.860188e-02  7.831852e-01  7.633788e-01\n",
              "max    1.515775e+00  1.806115e+00  4.814428e+00  2.736715e+00  1.769178e+00"
            ]
          },
          "metadata": {
            "tags": []
          },
          "execution_count": 18
        },
        {
          "output_type": "stream",
          "text": [
            "time: 37.6 ms (started: 2021-04-11 13:31:26 +00:00)\n"
          ],
          "name": "stdout"
        }
      ]
    },
    {
      "cell_type": "code",
      "metadata": {
        "id": "CvTNvUuTxSK-",
        "colab": {
          "base_uri": "https://localhost:8080/"
        },
        "outputId": "e16776c5-38d0-4614-a03c-0d2e7bf3a37a"
      },
      "source": [
        "# Persiapan Dataset\n",
        "X = Final_Dataset.to_numpy()\n",
        "y = df.iloc[:, 8] # Label Fraud\n",
        "y = np.array(y).astype(np.float)"
      ],
      "execution_count": 19,
      "outputs": [
        {
          "output_type": "stream",
          "text": [
            "time: 2.75 ms (started: 2021-04-11 13:31:51 +00:00)\n"
          ],
          "name": "stdout"
        }
      ]
    },
    {
      "cell_type": "code",
      "metadata": {
        "id": "6f2UMB4_ARl6",
        "colab": {
          "base_uri": "https://localhost:8080/"
        },
        "outputId": "0abcd8ce-b989-4333-902a-7420b6af162d"
      },
      "source": [
        "X"
      ],
      "execution_count": 20,
      "outputs": [
        {
          "output_type": "execute_result",
          "data": {
            "text/plain": [
              "array([[ 1.09772399,  1.80282727,  1.6973936 ,  0.35804655, -3.25981941],\n",
              "       [ 1.09772399,  1.80282727,  0.25059827, -0.37628386, -3.25981941],\n",
              "       [ 1.09772399,  1.80282727,  0.31204517, -0.17952547, -3.25981941],\n",
              "       ...,\n",
              "       [ 1.09772399,  1.78967688,  0.64162403,  1.18372906,  1.76917832],\n",
              "       [ 1.09772399,  1.79077274, -0.69344965, -0.05303794,  1.76917832],\n",
              "       [ 1.09772399,  1.79077274, -0.67110532, -0.05303794,  1.76917832]])"
            ]
          },
          "metadata": {
            "tags": []
          },
          "execution_count": 20
        },
        {
          "output_type": "stream",
          "text": [
            "time: 8.29 ms (started: 2021-04-11 13:31:55 +00:00)\n"
          ],
          "name": "stdout"
        }
      ]
    },
    {
      "cell_type": "code",
      "metadata": {
        "id": "T3KEMFflAVkb",
        "colab": {
          "base_uri": "https://localhost:8080/"
        },
        "outputId": "663ecc97-3dae-47b2-8634-479d5adb43aa"
      },
      "source": [
        "y"
      ],
      "execution_count": 21,
      "outputs": [
        {
          "output_type": "execute_result",
          "data": {
            "text/plain": [
              "array([0., 0., 0., ..., 0., 0., 0.])"
            ]
          },
          "metadata": {
            "tags": []
          },
          "execution_count": 21
        },
        {
          "output_type": "stream",
          "text": [
            "time: 3.52 ms (started: 2021-04-11 13:31:58 +00:00)\n"
          ],
          "name": "stdout"
        }
      ]
    },
    {
      "cell_type": "markdown",
      "metadata": {
        "id": "1L3PMpPzG7U5"
      },
      "source": [
        "**4. DATA MODELING WITH K-MEANS**"
      ]
    },
    {
      "cell_type": "markdown",
      "metadata": {
        "id": "VJhOOGy0I1gB"
      },
      "source": [
        "Kmeans algorithm is an iterative algorithm that tries to partition the dataset into Kpre-defined distinct non-overlapping subgroups (clusters) where each data point belongs to only one group. It tries to make the intra-cluster data points as similar as possible while also keeping the clusters as different (far) as possible. It assigns data points to a cluster such that the sum of the squared distance between the data points and the cluster’s centroid (arithmetic mean of all the data points that belong to that cluster) is at the minimum. The less variation we have within clusters, the more homogeneous (similar) the data points are within the same cluster. (Towards Data Science, 2018)"
      ]
    },
    {
      "cell_type": "markdown",
      "metadata": {
        "id": "ck9wjGP1JDKn"
      },
      "source": [
        "**Elbow Methode**\n",
        "\n",
        "Elbow method gives us an idea on what a good k number of clusters would be based on the sum of squared distance (SSE) between data points and their assigned clusters’ centroids. We pick k at the spot where SSE starts to flatten out and forming an elbow. We’ll use the geyser dataset and evaluate SSE for different values of k and see where the curve might form an elbow and flatten out. (Towards Data Science, 2018)"
      ]
    },
    {
      "cell_type": "code",
      "metadata": {
        "id": "OmC-jXelHv6q",
        "colab": {
          "base_uri": "https://localhost:8080/",
          "height": 405
        },
        "outputId": "e87cd537-23b0-45d8-c268-cf77738c86e1"
      },
      "source": [
        "# Find cluster with Elbow Method\n",
        "distortions = []\n",
        "K = range(1,10)\n",
        "for k in K:\n",
        "    kmeanModel = KMeans(n_clusters=k, random_state=0)\n",
        "    kmeanModel.fit(Final_Dataset)\n",
        "    distortions.append(kmeanModel.inertia_)\n",
        "\n",
        "plt.figure(figsize=(8,6))\n",
        "plt.plot(K, distortions, 'bx-')\n",
        "plt.xlabel('k')\n",
        "plt.ylabel('Distortion')\n",
        "plt.grid(c='black')\n",
        "#plt.title('The Elbow Method showing the optimal k')\n",
        "plt.show()"
      ],
      "execution_count": 22,
      "outputs": [
        {
          "output_type": "display_data",
          "data": {
            "image/png": "[encoded data removed]",
            "text/plain": [
              "<Figure size 576x432 with 1 Axes>"
            ]
          },
          "metadata": {
            "tags": [],
            "needs_background": "light"
          }
        },
        {
          "output_type": "stream",
          "text": [
            "time: 3.08 s (started: 2021-04-11 13:38:21 +00:00)\n"
          ],
          "name": "stdout"
        }
      ]
    },
    {
      "cell_type": "markdown",
      "metadata": {
        "id": "LFOp4PYtyq8o"
      },
      "source": [
        "Based on the graph above, we take the K value is 4."
      ]
    },
    {
      "cell_type": "code",
      "metadata": {
        "id": "jeqfsqph0aea",
        "colab": {
          "base_uri": "https://localhost:8080/"
        },
        "outputId": "6c19770a-2002-4de9-dc10-5a1168f12431"
      },
      "source": [
        "# K-Means parameters\n",
        "kmeans = KMeans(n_clusters=4, init ='k-means++', max_iter =1000,\n",
        "                random_state=0, verbose=0, n_init=1).fit(X)\n",
        "\n",
        "# Get the cluster number for each data point\n",
        "X_clusters = kmeans.predict(X)\n",
        "\n",
        "# Save the cluster centroid\n",
        "X_clusters_centers = kmeans.cluster_centers_\n",
        "\n",
        "# Calculate the distance to the center of the group for each point\n",
        "dist = [np.linalg.norm(x-y) for x,y in zip(X, X_clusters_centers[X_clusters])]\n",
        "\n",
        "# Make predictions based on distance\n",
        "km_y_pred = np.array(dist)\n",
        "\n",
        "# If the distance is far, it will be an outlier / fraud\n",
        "km_y_pred[dist>=np.percentile(dist, 93)] = 1\n",
        "\n",
        "# If the distance is close, it is not an outlier / non fraud\n",
        "km_y_pred[dist<np.percentile(dist, 93)] = 0\n",
        "\n",
        "km_y_pred"
      ],
      "execution_count": 23,
      "outputs": [
        {
          "output_type": "execute_result",
          "data": {
            "text/plain": [
              "array([1., 1., 1., ..., 1., 1., 1.])"
            ]
          },
          "metadata": {
            "tags": []
          },
          "execution_count": 23
        },
        {
          "output_type": "stream",
          "text": [
            "time: 179 ms (started: 2021-04-11 14:40:52 +00:00)\n"
          ],
          "name": "stdout"
        }
      ]
    },
    {
      "cell_type": "code",
      "metadata": {
        "id": "ZbhLynGj3kmB",
        "colab": {
          "base_uri": "https://localhost:8080/"
        },
        "outputId": "fad098a6-e7f9-4e8d-d40c-76058d190bb8"
      },
      "source": [
        "# Duplicate Final Dataset and Add Column Labels K-Means\n",
        "Final_Dataset_copy = Final_Dataset.copy()\n",
        "Final_Dataset_copy['labels_kmeans'] = km_y_pred"
      ],
      "execution_count": 24,
      "outputs": [
        {
          "output_type": "stream",
          "text": [
            "time: 4.18 ms (started: 2021-04-11 14:43:26 +00:00)\n"
          ],
          "name": "stdout"
        }
      ]
    },
    {
      "cell_type": "code",
      "metadata": {
        "id": "HusFJ2xTY1he",
        "outputId": "486815fb-3d81-4676-9a74-8335ed5cb3d4",
        "colab": {
          "base_uri": "https://localhost:8080/",
          "height": 212
        }
      },
      "source": [
        "# Show Final Dataset Copy plus Labels K-Means \n",
        "Final_Dataset_copy.head()"
      ],
      "execution_count": 26,
      "outputs": [
        {
          "output_type": "execute_result",
          "data": {
            "text/html": [
              "<div>\n",
              "<style scoped>\n",
              "    .dataframe tbody tr th:only-of-type {\n",
              "        vertical-align: middle;\n",
              "    }\n",
              "\n",
              "    .dataframe tbody tr th {\n",
              "        vertical-align: top;\n",
              "    }\n",
              "\n",
              "    .dataframe thead th {\n",
              "        text-align: right;\n",
              "    }\n",
              "</style>\n",
              "<table border=\"1\" class=\"dataframe\">\n",
              "  <thead>\n",
              "    <tr style=\"text-align: right;\">\n",
              "      <th></th>\n",
              "      <th>anumber</th>\n",
              "      <th>bnumber</th>\n",
              "      <th>duration</th>\n",
              "      <th>fee</th>\n",
              "      <th>type</th>\n",
              "      <th>labels_kmeans</th>\n",
              "    </tr>\n",
              "  </thead>\n",
              "  <tbody>\n",
              "    <tr>\n",
              "      <th>0</th>\n",
              "      <td>1.097724</td>\n",
              "      <td>1.802827</td>\n",
              "      <td>1.697394</td>\n",
              "      <td>0.358047</td>\n",
              "      <td>-3.259819</td>\n",
              "      <td>1.0</td>\n",
              "    </tr>\n",
              "    <tr>\n",
              "      <th>1</th>\n",
              "      <td>1.097724</td>\n",
              "      <td>1.802827</td>\n",
              "      <td>0.250598</td>\n",
              "      <td>-0.376284</td>\n",
              "      <td>-3.259819</td>\n",
              "      <td>1.0</td>\n",
              "    </tr>\n",
              "    <tr>\n",
              "      <th>2</th>\n",
              "      <td>1.097724</td>\n",
              "      <td>1.802827</td>\n",
              "      <td>0.312045</td>\n",
              "      <td>-0.179525</td>\n",
              "      <td>-3.259819</td>\n",
              "      <td>1.0</td>\n",
              "    </tr>\n",
              "    <tr>\n",
              "      <th>3</th>\n",
              "      <td>0.540323</td>\n",
              "      <td>1.803923</td>\n",
              "      <td>-0.615244</td>\n",
              "      <td>-0.875207</td>\n",
              "      <td>-3.259819</td>\n",
              "      <td>1.0</td>\n",
              "    </tr>\n",
              "    <tr>\n",
              "      <th>4</th>\n",
              "      <td>0.540323</td>\n",
              "      <td>1.803923</td>\n",
              "      <td>-0.632003</td>\n",
              "      <td>-0.875207</td>\n",
              "      <td>-3.259819</td>\n",
              "      <td>1.0</td>\n",
              "    </tr>\n",
              "  </tbody>\n",
              "</table>\n",
              "</div>"
            ],
            "text/plain": [
              "    anumber   bnumber  duration       fee      type  labels_kmeans\n",
              "0  1.097724  1.802827  1.697394  0.358047 -3.259819            1.0\n",
              "1  1.097724  1.802827  0.250598 -0.376284 -3.259819            1.0\n",
              "2  1.097724  1.802827  0.312045 -0.179525 -3.259819            1.0\n",
              "3  0.540323  1.803923 -0.615244 -0.875207 -3.259819            1.0\n",
              "4  0.540323  1.803923 -0.632003 -0.875207 -3.259819            1.0"
            ]
          },
          "metadata": {
            "tags": []
          },
          "execution_count": 26
        },
        {
          "output_type": "stream",
          "text": [
            "time: 16.6 ms (started: 2021-04-11 14:43:47 +00:00)\n"
          ],
          "name": "stdout"
        }
      ]
    },
    {
      "cell_type": "code",
      "metadata": {
        "id": "XajQXuQbZdgl",
        "outputId": "0791b27f-2c6e-4db1-ae5e-610452f231c4",
        "colab": {
          "base_uri": "https://localhost:8080/"
        }
      },
      "source": [
        "# Count Labels\n",
        "Final_Dataset_copy['labels_kmeans'].value_counts().sort_index()"
      ],
      "execution_count": 27,
      "outputs": [
        {
          "output_type": "execute_result",
          "data": {
            "text/plain": [
              "0.0    10618\n",
              "1.0      800\n",
              "Name: labels_kmeans, dtype: int64"
            ]
          },
          "metadata": {
            "tags": []
          },
          "execution_count": 27
        },
        {
          "output_type": "stream",
          "text": [
            "time: 9.04 ms (started: 2021-04-11 14:46:31 +00:00)\n"
          ],
          "name": "stdout"
        }
      ]
    },
    {
      "cell_type": "markdown",
      "metadata": {
        "id": "sZc4v4gAZ1OB"
      },
      "source": [
        "**5. DATA VISUALIZATION WITH PCA**"
      ]
    },
    {
      "cell_type": "code",
      "metadata": {
        "id": "ZAcuh1edQdPk",
        "colab": {
          "base_uri": "https://localhost:8080/"
        },
        "outputId": "a32887d4-492b-4b18-b61e-149ab95d1d45"
      },
      "source": [
        "plotX = Final_Dataset_copy"
      ],
      "execution_count": 28,
      "outputs": [
        {
          "output_type": "stream",
          "text": [
            "time: 1.4 ms (started: 2021-04-11 14:49:44 +00:00)\n"
          ],
          "name": "stdout"
        }
      ]
    },
    {
      "cell_type": "code",
      "metadata": {
        "id": "T4bQDj3iIMtF",
        "colab": {
          "base_uri": "https://localhost:8080/"
        },
        "outputId": "d550592a-485d-4388-b89c-2fefdea7e9ad"
      },
      "source": [
        "pca_2d = PCA(n_components=2)"
      ],
      "execution_count": 29,
      "outputs": [
        {
          "output_type": "stream",
          "text": [
            "time: 1.05 ms (started: 2021-04-11 14:49:56 +00:00)\n"
          ],
          "name": "stdout"
        }
      ]
    },
    {
      "cell_type": "code",
      "metadata": {
        "id": "drcxY-clNQq_",
        "colab": {
          "base_uri": "https://localhost:8080/"
        },
        "outputId": "8c61bcce-0c3f-4b18-cb5b-c3ff5fa01c13"
      },
      "source": [
        "PCs_2d = pd.DataFrame(pca_2d.fit_transform(plotX.drop([\"labels_kmeans\"], axis=1)))"
      ],
      "execution_count": 30,
      "outputs": [
        {
          "output_type": "stream",
          "text": [
            "time: 50.6 ms (started: 2021-04-11 14:50:00 +00:00)\n"
          ],
          "name": "stdout"
        }
      ]
    },
    {
      "cell_type": "code",
      "metadata": {
        "id": "c8E0ylMXUuhh",
        "colab": {
          "base_uri": "https://localhost:8080/"
        },
        "outputId": "8070bab9-a259-41d1-bff8-d7d00853e0d4"
      },
      "source": [
        "PCs_2d.columns = [\"PC1_2d\", \"PC2_2d\"]"
      ],
      "execution_count": 31,
      "outputs": [
        {
          "output_type": "stream",
          "text": [
            "time: 1.68 ms (started: 2021-04-11 14:50:04 +00:00)\n"
          ],
          "name": "stdout"
        }
      ]
    },
    {
      "cell_type": "code",
      "metadata": {
        "id": "NdwW6ukhXesb",
        "colab": {
          "base_uri": "https://localhost:8080/"
        },
        "outputId": "61eef3dc-6e81-4cab-9349-62f95c266c84"
      },
      "source": [
        "plotX = pd.concat([plotX,PCs_2d], axis=1, join='inner')"
      ],
      "execution_count": 32,
      "outputs": [
        {
          "output_type": "stream",
          "text": [
            "time: 4.5 ms (started: 2021-04-11 14:50:15 +00:00)\n"
          ],
          "name": "stdout"
        }
      ]
    },
    {
      "cell_type": "code",
      "metadata": {
        "id": "oMmR7ICaZGwj",
        "colab": {
          "base_uri": "https://localhost:8080/"
        },
        "outputId": "3e101b05-cb83-40c2-82b4-5be5b49343d3"
      },
      "source": [
        "cluster0 = plotX[plotX[\"labels_kmeans\"] == 0]\n",
        "cluster1 = plotX[plotX[\"labels_kmeans\"] == 1]"
      ],
      "execution_count": 33,
      "outputs": [
        {
          "output_type": "stream",
          "text": [
            "time: 8.55 ms (started: 2021-04-11 14:50:18 +00:00)\n"
          ],
          "name": "stdout"
        }
      ]
    },
    {
      "cell_type": "code",
      "metadata": {
        "id": "19EJz-XmY32T",
        "colab": {
          "base_uri": "https://localhost:8080/",
          "height": 34
        },
        "outputId": "ccae0571-c33f-4c5c-da55-4427ed278cc7"
      },
      "source": [
        "init_notebook_mode(connected=True)"
      ],
      "execution_count": 34,
      "outputs": [
        {
          "output_type": "display_data",
          "data": {
            "text/html": [
              "        <script type=\"text/javascript\">\n",
              "        window.PlotlyConfig = {MathJaxConfig: 'local'};\n",
              "        if (window.MathJax) {MathJax.Hub.Config({SVG: {font: \"STIX-Web\"}});}\n",
              "        if (typeof require !== 'undefined') {\n",
              "        require.undef(\"plotly\");\n",
              "        requirejs.config({\n",
              "            paths: {\n",
              "                'plotly': ['https://cdn.plot.ly/plotly-latest.min']\n",
              "            }\n",
              "        });\n",
              "        require(['plotly'], function(Plotly) {\n",
              "            window._Plotly = Plotly;\n",
              "        });\n",
              "        }\n",
              "        </script>\n",
              "        "
            ]
          },
          "metadata": {
            "tags": []
          }
        },
        {
          "output_type": "stream",
          "text": [
            "time: 5.21 ms (started: 2021-04-11 14:50:21 +00:00)\n"
          ],
          "name": "stdout"
        }
      ]
    },
    {
      "cell_type": "code",
      "metadata": {
        "id": "kX3akTE2Zd1p",
        "colab": {
          "base_uri": "https://localhost:8080/",
          "height": 35
        },
        "outputId": "33fc447f-b4f4-45e6-fa77-965c6efbed30"
      },
      "source": [
        "#trace1 is for 'Cluster 0'\n",
        "trace1 = go.Scatter(\n",
        "                    x = cluster0[\"PC1_2d\"],\n",
        "                    y = cluster0[\"PC2_2d\"],\n",
        "                    mode = \"markers\",\n",
        "                    name = \"Non Fraud\",\n",
        "                    marker = dict(color = 'rgba(0, 0, 0, 0.8)'),\n",
        "                    text = None)\n",
        "\n",
        "#trace2 is for 'Cluster 1'\n",
        "trace2 = go.Scatter(\n",
        "                    x = cluster1[\"PC1_2d\"],\n",
        "                    y = cluster1[\"PC2_2d\"],\n",
        "                    mode = \"markers\",\n",
        "                    name = \"Fraud\",\n",
        "                    marker = dict(color = 'rgba(240, 52, 52, 0.8)'),\n",
        "                    text = None)\n",
        "\n",
        "data = [trace1, trace2]\n",
        "\n",
        "title = \"K-Means - PCA\"\n",
        "\n",
        "layout = dict(title = title,\n",
        "              xaxis= dict(title= 'PC1',ticklen= 5,zeroline= False),\n",
        "              yaxis= dict(title= 'PC2',ticklen= 5,zeroline= False)\n",
        "             )\n",
        "\n",
        "#Plot and save html\n",
        "plotly.offline.plot({\"data\": data,\n",
        "                     \"layout\": layout},\n",
        "                     auto_open=True)"
      ],
      "execution_count": 36,
      "outputs": [
        {
          "output_type": "execute_result",
          "data": {
            "application/vnd.google.colaboratory.intrinsic+json": {
              "type": "string"
            },
            "text/plain": [
              "'temp-plot.html'"
            ]
          },
          "metadata": {
            "tags": []
          },
          "execution_count": 36
        },
        {
          "output_type": "stream",
          "text": [
            "time: 468 ms (started: 2021-04-11 14:50:49 +00:00)\n"
          ],
          "name": "stdout"
        }
      ]
    },
    {
      "cell_type": "markdown",
      "metadata": {
        "id": "0BvOTvWMasU4"
      },
      "source": [
        "Download and Open File temp-plot.html to see the Graph, please screenshoot and Place in here.\n",
        "\n",
        "![](https://github.com/multimediary/portfolio-data-science/blob/main/screenshots/fraud-modeling-CDR-K-Means.jpg?raw=true)"
      ]
    },
    {
      "cell_type": "markdown",
      "metadata": {
        "id": "GHRJdugewQgj"
      },
      "source": [
        "**6. DATA EVALUATION WITH CONFUSION MATRIX**"
      ]
    },
    {
      "cell_type": "code",
      "metadata": {
        "id": "07SkEFCTmj3a",
        "colab": {
          "base_uri": "https://localhost:8080/",
          "height": 301
        },
        "outputId": "5a946baf-897a-48c7-aead-cb07b5c405b4"
      },
      "source": [
        "C = confusion_matrix(df[\"label\"],plotX[\"labels_kmeans\"])\n",
        "\n",
        "# Plot confusion matrix\n",
        "plt.imshow(C,interpolation='none',cmap='Blues')\n",
        "for (i, j), z in np.ndenumerate(C):\n",
        "    plt.text(j, i, z, ha='center', va='center')\n",
        "plt.xlabel(\"labels_kmeans\")\n",
        "plt.ylabel(\"label_fraud\")\n",
        "plt.show()"
      ],
      "execution_count": 37,
      "outputs": [
        {
          "output_type": "display_data",
          "data": {
            "image/png": "[encoded data removed]",
            "text/plain": [
              "<Figure size 432x288 with 1 Axes>"
            ]
          },
          "metadata": {
            "tags": [],
            "needs_background": "light"
          }
        },
        {
          "output_type": "stream",
          "text": [
            "time: 204 ms (started: 2021-04-11 14:55:55 +00:00)\n"
          ],
          "name": "stdout"
        }
      ]
    },
    {
      "cell_type": "code",
      "metadata": {
        "id": "7Ka9UgbCm4rh",
        "colab": {
          "base_uri": "https://localhost:8080/"
        },
        "outputId": "4d077ae4-f9ea-4f7e-f356-f6432fff52fa"
      },
      "source": [
        "print(C)"
      ],
      "execution_count": 38,
      "outputs": [
        {
          "output_type": "stream",
          "text": [
            "[[10238   783]\n",
            " [  380    17]]\n",
            "time: 1.31 ms (started: 2021-04-11 14:56:03 +00:00)\n"
          ],
          "name": "stdout"
        }
      ]
    },
    {
      "cell_type": "code",
      "metadata": {
        "id": "fdm51Dbom72l",
        "colab": {
          "base_uri": "https://localhost:8080/"
        },
        "outputId": "81836f9e-2800-47a4-e91d-b63df9204603"
      },
      "source": [
        "# Nilai Accuracy, Precision, Recall, and F1 Score\n",
        "print(\"Accuracy Score of K-Means\", accuracy_score(df[\"label\"], plotX[\"labels_kmeans\"]))\n",
        "print(\"Recall of K-Means\", recall_score(df[\"label\"], plotX[\"labels_kmeans\"],average=None, zero_division=1))\n",
        "print(\"Precision Score of K-Means\", precision_score(df[\"label\"], plotX[\"labels_kmeans\"],average=None, zero_division=1))\n",
        "print(\"F1 Score of K-Means\", f1_score(df[\"label\"], plotX[\"labels_kmeans\"],average=None, zero_division=1))"
      ],
      "execution_count": 39,
      "outputs": [
        {
          "output_type": "stream",
          "text": [
            "Accuracy Score of K-Means 0.8981432825363461\n",
            "Recall of K-Means [0.92895382 0.04282116]\n",
            "Precision Score of K-Means [0.96421172 0.02125   ]\n",
            "F1 Score of K-Means [0.94625445 0.02840434]\n",
            "time: 29.2 ms (started: 2021-04-11 14:56:06 +00:00)\n"
          ],
          "name": "stdout"
        }
      ]
    }
  ]
}